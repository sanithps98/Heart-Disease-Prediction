{
 "cells": [
  {
   "cell_type": "code",
   "execution_count": 6,
   "metadata": {
    "colab": {
     "base_uri": "https://localhost:8080/",
     "height": 17
    },
    "id": "LjhI8xV9UgFk",
    "outputId": "8b5d74f0-2f71-4401-e84d-64b0072f23a1"
   },
   "outputs": [
    {
     "data": {
      "text/html": [
       "        <script type=\"text/javascript\">\n",
       "        window.PlotlyConfig = {MathJaxConfig: 'local'};\n",
       "        if (window.MathJax) {MathJax.Hub.Config({SVG: {font: \"STIX-Web\"}});}\n",
       "        if (typeof require !== 'undefined') {\n",
       "        require.undef(\"plotly\");\n",
       "        requirejs.config({\n",
       "            paths: {\n",
       "                'plotly': ['https://cdn.plot.ly/plotly-2.9.0.min']\n",
       "            }\n",
       "        });\n",
       "        require(['plotly'], function(Plotly) {\n",
       "            window._Plotly = Plotly;\n",
       "        });\n",
       "        }\n",
       "        </script>\n",
       "        "
      ]
     },
     "metadata": {},
     "output_type": "display_data"
    }
   ],
   "source": [
    "import numpy as np # linear algebra\n",
    "import pandas as pd # data processing, CSV file I/O (e.g. pd.read_csv)\n",
    "\n",
    "# visualization tools\n",
    "%matplotlib inline\n",
    "import matplotlib.pyplot as plt\n",
    "import seaborn as sns\n",
    "import pandas_profiling as pp\n",
    "from plotly.offline import init_notebook_mode, iplot\n",
    "init_notebook_mode(connected=True)\n",
    "import warnings\n",
    "warnings.filterwarnings(\"ignore\")"
   ]
  },
  {
   "cell_type": "code",
   "execution_count": 7,
   "metadata": {
    "id": "5zjgV9VEy07V"
   },
   "outputs": [],
   "source": [
    "# reading CSV using Pandas and storing in dataframe       \n",
    "df = pd.read_csv('heart_failure_clinical_records_dataset.csv')"
   ]
  },
  {
   "cell_type": "markdown",
   "metadata": {
    "id": "kRN7lQ625uL-"
   },
   "source": [
    "### **Separating Features and Labels**"
   ]
  },
  {
   "cell_type": "code",
   "execution_count": 8,
   "metadata": {
    "colab": {
     "base_uri": "https://localhost:8080/",
     "height": 206
    },
    "id": "L8Hjwv4l0Wsh",
    "outputId": "07341b7c-3883-4737-f991-87fcb2c0df23"
   },
   "outputs": [
    {
     "data": {
      "text/html": [
       "<div>\n",
       "<style scoped>\n",
       "    .dataframe tbody tr th:only-of-type {\n",
       "        vertical-align: middle;\n",
       "    }\n",
       "\n",
       "    .dataframe tbody tr th {\n",
       "        vertical-align: top;\n",
       "    }\n",
       "\n",
       "    .dataframe thead th {\n",
       "        text-align: right;\n",
       "    }\n",
       "</style>\n",
       "<table border=\"1\" class=\"dataframe\">\n",
       "  <thead>\n",
       "    <tr style=\"text-align: right;\">\n",
       "      <th></th>\n",
       "      <th>age</th>\n",
       "      <th>anaemia</th>\n",
       "      <th>creatinine_phosphokinase</th>\n",
       "      <th>diabetes</th>\n",
       "      <th>ejection_fraction</th>\n",
       "      <th>high_blood_pressure</th>\n",
       "      <th>platelets</th>\n",
       "      <th>serum_creatinine</th>\n",
       "      <th>serum_sodium</th>\n",
       "      <th>sex</th>\n",
       "      <th>smoking</th>\n",
       "      <th>time</th>\n",
       "    </tr>\n",
       "  </thead>\n",
       "  <tbody>\n",
       "    <tr>\n",
       "      <th>0</th>\n",
       "      <td>75.0</td>\n",
       "      <td>0</td>\n",
       "      <td>582</td>\n",
       "      <td>0</td>\n",
       "      <td>20</td>\n",
       "      <td>1</td>\n",
       "      <td>265000.00</td>\n",
       "      <td>1.9</td>\n",
       "      <td>130</td>\n",
       "      <td>1</td>\n",
       "      <td>0</td>\n",
       "      <td>4</td>\n",
       "    </tr>\n",
       "    <tr>\n",
       "      <th>1</th>\n",
       "      <td>55.0</td>\n",
       "      <td>0</td>\n",
       "      <td>7861</td>\n",
       "      <td>0</td>\n",
       "      <td>38</td>\n",
       "      <td>0</td>\n",
       "      <td>263358.03</td>\n",
       "      <td>1.1</td>\n",
       "      <td>136</td>\n",
       "      <td>1</td>\n",
       "      <td>0</td>\n",
       "      <td>6</td>\n",
       "    </tr>\n",
       "    <tr>\n",
       "      <th>2</th>\n",
       "      <td>65.0</td>\n",
       "      <td>0</td>\n",
       "      <td>146</td>\n",
       "      <td>0</td>\n",
       "      <td>20</td>\n",
       "      <td>0</td>\n",
       "      <td>162000.00</td>\n",
       "      <td>1.3</td>\n",
       "      <td>129</td>\n",
       "      <td>1</td>\n",
       "      <td>1</td>\n",
       "      <td>7</td>\n",
       "    </tr>\n",
       "    <tr>\n",
       "      <th>3</th>\n",
       "      <td>50.0</td>\n",
       "      <td>1</td>\n",
       "      <td>111</td>\n",
       "      <td>0</td>\n",
       "      <td>20</td>\n",
       "      <td>0</td>\n",
       "      <td>210000.00</td>\n",
       "      <td>1.9</td>\n",
       "      <td>137</td>\n",
       "      <td>1</td>\n",
       "      <td>0</td>\n",
       "      <td>7</td>\n",
       "    </tr>\n",
       "    <tr>\n",
       "      <th>4</th>\n",
       "      <td>65.0</td>\n",
       "      <td>1</td>\n",
       "      <td>160</td>\n",
       "      <td>1</td>\n",
       "      <td>20</td>\n",
       "      <td>0</td>\n",
       "      <td>327000.00</td>\n",
       "      <td>2.7</td>\n",
       "      <td>116</td>\n",
       "      <td>0</td>\n",
       "      <td>0</td>\n",
       "      <td>8</td>\n",
       "    </tr>\n",
       "  </tbody>\n",
       "</table>\n",
       "</div>"
      ],
      "text/plain": [
       "    age  anaemia  creatinine_phosphokinase  diabetes  ejection_fraction  \\\n",
       "0  75.0        0                       582         0                 20   \n",
       "1  55.0        0                      7861         0                 38   \n",
       "2  65.0        0                       146         0                 20   \n",
       "3  50.0        1                       111         0                 20   \n",
       "4  65.0        1                       160         1                 20   \n",
       "\n",
       "   high_blood_pressure  platelets  serum_creatinine  serum_sodium  sex  \\\n",
       "0                    1  265000.00               1.9           130    1   \n",
       "1                    0  263358.03               1.1           136    1   \n",
       "2                    0  162000.00               1.3           129    1   \n",
       "3                    0  210000.00               1.9           137    1   \n",
       "4                    0  327000.00               2.7           116    0   \n",
       "\n",
       "   smoking  time  \n",
       "0        0     4  \n",
       "1        0     6  \n",
       "2        1     7  \n",
       "3        0     7  \n",
       "4        0     8  "
      ]
     },
     "execution_count": 8,
     "metadata": {},
     "output_type": "execute_result"
    }
   ],
   "source": [
    "X=df.iloc[:, 0:12]\n",
    "X.head()"
   ]
  },
  {
   "cell_type": "code",
   "execution_count": 9,
   "metadata": {
    "colab": {
     "base_uri": "https://localhost:8080/"
    },
    "id": "TdhEziFj5zm_",
    "outputId": "27265b33-ca39-4e4a-df01-d4479b7ec85c"
   },
   "outputs": [
    {
     "data": {
      "text/plain": [
       "0    1\n",
       "1    1\n",
       "2    1\n",
       "3    1\n",
       "4    1\n",
       "Name: DEATH_EVENT, dtype: int64"
      ]
     },
     "execution_count": 9,
     "metadata": {},
     "output_type": "execute_result"
    }
   ],
   "source": [
    "y=df.iloc[:,-1]\n",
    "y.head()"
   ]
  },
  {
   "cell_type": "markdown",
   "metadata": {
    "id": "BRl6gooL6BHR"
   },
   "source": [
    "### **Splitting Dataset into Training Set and Testing Set**"
   ]
  },
  {
   "cell_type": "markdown",
   "metadata": {
    "id": "EEQp0pkMyEIz"
   },
   "source": [
    "**Standardize Data**"
   ]
  },
  {
   "cell_type": "code",
   "execution_count": 10,
   "metadata": {
    "id": "sZXPWGI0qrBL"
   },
   "outputs": [],
   "source": [
    "from sklearn.preprocessing import MinMaxScaler\n",
    "scaler = MinMaxScaler()\n",
    "X_train = scaler.fit_transform(X)\n",
    "\n",
    "X = pd.DataFrame(X_train, columns=X.columns)"
   ]
  },
  {
   "cell_type": "code",
   "execution_count": 11,
   "metadata": {
    "id": "RSbgUgvn56Jp"
   },
   "outputs": [],
   "source": [
    "from sklearn.model_selection import train_test_split\n",
    "X_train, X_test, y_train, y_test = train_test_split(X, y, test_size=0.2, random_state=42)"
   ]
  },
  {
   "cell_type": "markdown",
   "metadata": {
    "id": "evyErBdQnfjx"
   },
   "source": [
    "### **Functions**"
   ]
  },
  {
   "cell_type": "code",
   "execution_count": 12,
   "metadata": {
    "id": "_828nNeyScaq"
   },
   "outputs": [],
   "source": [
    "results_classication_df = pd.DataFrame(data=[['Test', 0, 1, 2, 3]], \n",
    "                            columns=['Model', 'Accuracy', 'F1_Score', 'Precision', 'Recall'])"
   ]
  },
  {
   "cell_type": "code",
   "execution_count": 13,
   "metadata": {
    "id": "qAf6iodinmht"
   },
   "outputs": [],
   "source": [
    "def modelPerformace(test_value, pred_value, model_name, new_table):\n",
    "  print(\"Test Result:\\n================================================\")\n",
    "  # Accuracy Score\n",
    "  from sklearn import metrics\n",
    "  test_acc_score = metrics.accuracy_score(test_value,pred_value)\n",
    "  print('Accuracy Score:', test_acc_score)\n",
    "\n",
    "  # F1 Score\n",
    "  from sklearn.metrics import  f1_score\n",
    "  test_f_score = f1_score(test_value, pred_value, average='weighted',labels=np.unique(pred_value))\n",
    "  print(\"F1 Score:\", test_f_score)\n",
    "\n",
    "  # Precision\n",
    "  from sklearn.metrics import precision_score\n",
    "  test_pre_score = precision_score(test_value, pred_value, average='weighted',labels=np.unique(pred_value))\n",
    "  print(\"Precision:\",test_pre_score)\n",
    "\n",
    "  # Recall\n",
    "  from sklearn.metrics import recall_score\n",
    "  test_recall_score = recall_score(test_value, pred_value, average='weighted',labels=np.unique(pred_value))\n",
    "  print(\"Recall:\",test_recall_score)\n",
    "\n",
    "  if(new_table):\n",
    "    global results_classication_df\n",
    "    results_classication_df = pd.DataFrame(data=[[model_name, test_acc_score, test_f_score, test_pre_score, test_recall_score]], \n",
    "                            columns=['Model', 'Accuracy', 'F1_Score', 'Precision', 'Recall'])\n",
    "  else:\n",
    "    results = pd.DataFrame(data=[[model_name, test_acc_score, test_f_score, test_pre_score, test_recall_score]], \n",
    "                          columns=['Model', 'Accuracy', 'F1_Score', 'Precision', 'Recall'])\n",
    "    results_classication_df = results_classication_df.append(results, ignore_index=True)\n",
    "\n",
    "  print()\n",
    "  # Confusion Matrix\n",
    "  from sklearn.metrics import confusion_matrix\n",
    "  %matplotlib inline\n",
    "  cm = confusion_matrix(test_value, pred_value)\n",
    "  f,ax = plt.subplots(figsize=(5, 5))\n",
    "  sns.heatmap(cm, annot=True, linewidths=0.5,linecolor=\"red\", fmt= '.0f',ax=ax)\n",
    "  plt.title('Confusion Matrix ' + model_name)\n",
    "  plt.show()"
   ]
  },
  {
   "cell_type": "code",
   "execution_count": 14,
   "metadata": {
    "id": "vNpIW0GSRmXB"
   },
   "outputs": [],
   "source": [
    "def naiveBayesModel(X, y, test):\n",
    "  from sklearn.naive_bayes import GaussianNB\n",
    "  classifier = GaussianNB()\n",
    "  classifier.fit(X, y)\n",
    "  return classifier.predict(test)"
   ]
  },
  {
   "cell_type": "code",
   "execution_count": 15,
   "metadata": {
    "id": "Yj6Sr3pYTRVS"
   },
   "outputs": [],
   "source": [
    "def logisticRegressionModel(X, y, test):\n",
    "  from sklearn.linear_model import LogisticRegression\n",
    "  classifierLogisticRegression = LogisticRegression(random_state=0)\n",
    "  classifierLogisticRegression.fit(X, y)\n",
    "  return classifierLogisticRegression.predict(test)"
   ]
  },
  {
   "cell_type": "code",
   "execution_count": 16,
   "metadata": {
    "id": "r1QrEIm0T1E-"
   },
   "outputs": [],
   "source": [
    "def SVCModel(X, y, test):\n",
    "  from sklearn.svm import SVC\n",
    "  classifierSVC = SVC(kernel='linear', C=0.01)\n",
    "  classifierSVC.fit(X, y)\n",
    "  return classifierSVC.predict(test)"
   ]
  },
  {
   "cell_type": "code",
   "execution_count": 17,
   "metadata": {
    "id": "bzF-uvPBUNu9"
   },
   "outputs": [],
   "source": [
    "def randomForestModel(X, y, test):\n",
    "  from sklearn.ensemble import RandomForestClassifier\n",
    "  classifierRandomForest = RandomForestClassifier(n_estimators = 10, random_state = 0)\n",
    "  classifierRandomForest.fit(X, y)\n",
    "  return classifierRandomForest.predict(test)"
   ]
  },
  {
   "cell_type": "code",
   "execution_count": 18,
   "metadata": {
    "id": "UJ2R17D7VFoN"
   },
   "outputs": [],
   "source": [
    "def getKValue(inputlist):\n",
    "    min_value = min(inputlist)\n",
    "    min_index = inputlist.index(min_value)\n",
    "    return min_index + 1\n",
    "\n",
    "def KNNModel(X, y, X_test, y_test):\n",
    "  from sklearn.neighbors import KNeighborsClassifier\n",
    "  k=[i for i in range(1,20)]\n",
    "\n",
    "  from sklearn.metrics import accuracy_score\n",
    "  accuracyArrayKNN=[]\n",
    "  for i in k:\n",
    "      knn = KNeighborsClassifier(n_neighbors=i)\n",
    "      knn.fit(X, y)\n",
    "      y_pred = knn.predict(X_test)\n",
    "      accuracyArrayKNN.append(accuracy_score(y_test, y_pred))\n",
    "  plt.xlabel(\"Value of K\")\n",
    "  plt.ylabel(\"Accuracy\")\n",
    "  plt.title(\"Accuracy vs K Value\")\n",
    "  plt.plot(k,accuracyArrayKNN,color='blue', linestyle='dashed', marker='o',markerfacecolor='red', markersize=10)\n",
    "  plt.show()\n",
    "\n",
    "  print()\n",
    "\n",
    "  error=[(1-i) for i in accuracyArrayKNN]\n",
    "  plt.xlabel(\"Value of K\")\n",
    "  plt.ylabel(\"Error Rate\")\n",
    "  plt.title(\"Error rate vs K Value\")\n",
    "  plt.plot(k,error,color='blue', linestyle='dashed', marker='o',markerfacecolor='red', markersize=10)\n",
    "  plt.show()\n",
    "\n",
    "  print()\n",
    "\n",
    "  n_Neighbor = getKValue(error)\n",
    "  print('Error rate lowest for K value is:' + str(n_Neighbor))\n",
    "\n",
    "  classifierKNeighbors = KNeighborsClassifier(n_neighbors=n_Neighbor)\n",
    "  classifierKNeighbors.fit(X, y)\n",
    "  return classifierKNeighbors.predict(X_test)"
   ]
  },
  {
   "cell_type": "code",
   "execution_count": 19,
   "metadata": {
    "id": "mANth2ZCZB-c"
   },
   "outputs": [],
   "source": [
    "def NNModel(X, y, test, dim):\n",
    "  from keras.models import Sequential\n",
    "  from keras.layers import Dense\n",
    "  model = Sequential()\n",
    "  model.add(Dense(30, input_dim=dim, activation='relu'))\n",
    "  model.add(Dense(20, activation='relu'))\n",
    "  model.add(Dense(1, activation='relu'))\n",
    "  model.compile(optimizer='adam',loss='binary_crossentropy',metrics=['accuracy'])\n",
    "  model.fit(X, y, epochs=200, verbose=1, batch_size=10)\n",
    "  \n",
    "  return np.argmax(model.predict(test), axis=1)"
   ]
  },
  {
   "cell_type": "markdown",
   "metadata": {
    "id": "UABfxmcfDlj_"
   },
   "source": [
    "## **Classification I**"
   ]
  },
  {
   "cell_type": "markdown",
   "metadata": {
    "id": "t_fa4IvH6Tc5"
   },
   "source": [
    "**Naive Bayes Model**"
   ]
  },
  {
   "cell_type": "code",
   "execution_count": 20,
   "metadata": {
    "id": "6DlEcO2t6Z0T"
   },
   "outputs": [],
   "source": [
    "y_pred = naiveBayesModel(X_train, y_train, X_test)"
   ]
  },
  {
   "cell_type": "code",
   "execution_count": 21,
   "metadata": {
    "colab": {
     "base_uri": "https://localhost:8080/",
     "height": 457
    },
    "id": "U3otKq5MoyLh",
    "outputId": "fd85c941-8571-44c5-a996-79d160b22689"
   },
   "outputs": [
    {
     "name": "stdout",
     "output_type": "stream",
     "text": [
      "Test Result:\n",
      "================================================\n",
      "Accuracy Score: 0.7\n",
      "F1 Score: 0.6666666666666666\n",
      "Precision: 0.7337662337662337\n",
      "Recall: 0.7\n",
      "\n"
     ]
    },
    {
     "data": {
      "image/png": "[encoded data removed]",
      "text/plain": [
       "<Figure size 360x360 with 2 Axes>"
      ]
     },
     "metadata": {
      "needs_background": "light"
     },
     "output_type": "display_data"
    }
   ],
   "source": [
    "modelPerformace(y_test, y_pred, 'Naive Bayes', True)"
   ]
  },
  {
   "cell_type": "markdown",
   "metadata": {
    "id": "902SjgTu-F13"
   },
   "source": [
    "**Logistic Regression Model**"
   ]
  },
  {
   "cell_type": "code",
   "execution_count": 22,
   "metadata": {
    "id": "ZGsUERjr-Huv"
   },
   "outputs": [],
   "source": [
    "y_pred_logidtic = logisticRegressionModel(X_train, y_train, X_test)"
   ]
  },
  {
   "cell_type": "code",
   "execution_count": 23,
   "metadata": {
    "colab": {
     "base_uri": "https://localhost:8080/",
     "height": 457
    },
    "id": "Dmre_1RzrD3j",
    "outputId": "c19a71a3-5e06-4ba4-fb34-e245f01c613e"
   },
   "outputs": [
    {
     "name": "stdout",
     "output_type": "stream",
     "text": [
      "Test Result:\n",
      "================================================\n",
      "Accuracy Score: 0.7166666666666667\n",
      "F1 Score: 0.680952380952381\n",
      "Precision: 0.7716666666666666\n",
      "Recall: 0.7166666666666667\n",
      "\n"
     ]
    },
    {
     "data": {
      "image/png": "[encoded data removed]",
      "text/plain": [
       "<Figure size 360x360 with 2 Axes>"
      ]
     },
     "metadata": {
      "needs_background": "light"
     },
     "output_type": "display_data"
    }
   ],
   "source": [
    "modelPerformace(y_test, y_pred_logidtic, 'Logistic Regression', False)"
   ]
  },
  {
   "cell_type": "markdown",
   "metadata": {
    "id": "kf1b7U3xDNY-"
   },
   "source": [
    "**Support Vector Machine Model**"
   ]
  },
  {
   "cell_type": "code",
   "execution_count": 24,
   "metadata": {
    "id": "m6qwMYSTDTkb"
   },
   "outputs": [],
   "source": [
    "y_pred_SVC = SVCModel(X_train, y_train, X_test)"
   ]
  },
  {
   "cell_type": "code",
   "execution_count": 25,
   "metadata": {
    "colab": {
     "base_uri": "https://localhost:8080/",
     "height": 457
    },
    "id": "q6xwqEFzrmtr",
    "outputId": "472e5cc4-c631-4b6b-db84-9d2d53b88ada"
   },
   "outputs": [
    {
     "name": "stdout",
     "output_type": "stream",
     "text": [
      "Test Result:\n",
      "================================================\n",
      "Accuracy Score: 0.5833333333333334\n",
      "F1 Score: 0.7368421052631579\n",
      "Precision: 0.5833333333333334\n",
      "Recall: 1.0\n",
      "\n"
     ]
    },
    {
     "data": {
      "image/png": "[encoded data removed]",
      "text/plain": [
       "<Figure size 360x360 with 2 Axes>"
      ]
     },
     "metadata": {
      "needs_background": "light"
     },
     "output_type": "display_data"
    }
   ],
   "source": [
    "modelPerformace(y_test, y_pred_SVC, 'Support Vector Machine', False)"
   ]
  },
  {
   "cell_type": "markdown",
   "metadata": {
    "id": "K4pCXNn9FgvH"
   },
   "source": [
    "**Random Forest Model**"
   ]
  },
  {
   "cell_type": "code",
   "execution_count": 26,
   "metadata": {
    "id": "N7f3Dq2UgLoN"
   },
   "outputs": [],
   "source": [
    "y_pred_RandomForest = randomForestModel(X_train, y_train, X_test)"
   ]
  },
  {
   "cell_type": "code",
   "execution_count": 27,
   "metadata": {
    "colab": {
     "base_uri": "https://localhost:8080/",
     "height": 457
    },
    "id": "JGLD3xKhr1ij",
    "outputId": "8bf369ab-3809-4ad0-9d83-e905c0857991"
   },
   "outputs": [
    {
     "name": "stdout",
     "output_type": "stream",
     "text": [
      "Test Result:\n",
      "================================================\n",
      "Accuracy Score: 0.75\n",
      "F1 Score: 0.7256593943340931\n",
      "Precision: 0.7951388888888888\n",
      "Recall: 0.75\n",
      "\n"
     ]
    },
    {
     "data": {
      "image/png": "[encoded data removed]",
      "text/plain": [
       "<Figure size 360x360 with 2 Axes>"
      ]
     },
     "metadata": {
      "needs_background": "light"
     },
     "output_type": "display_data"
    }
   ],
   "source": [
    "modelPerformace(y_test, y_pred_RandomForest, 'Random Forest Classifier', False)"
   ]
  },
  {
   "cell_type": "markdown",
   "metadata": {
    "id": "e9F558tNr7rB"
   },
   "source": [
    "**K Nearest Neighbors Model**"
   ]
  },
  {
   "cell_type": "code",
   "execution_count": 28,
   "metadata": {
    "colab": {
     "base_uri": "https://localhost:8080/",
     "height": 625
    },
    "id": "NXnK4UrJxASn",
    "outputId": "96f6c601-ae97-4e0e-b4d3-f752d50a03fb"
   },
   "outputs": [
    {
     "data": {
      "image/png": "[encoded data removed]",
      "text/plain": [
       "<Figure size 432x288 with 1 Axes>"
      ]
     },
     "metadata": {
      "needs_background": "light"
     },
     "output_type": "display_data"
    },
    {
     "name": "stdout",
     "output_type": "stream",
     "text": [
      "\n"
     ]
    },
    {
     "data": {
      "image/png": "[encoded data removed]",
      "text/plain": [
       "<Figure size 432x288 with 1 Axes>"
      ]
     },
     "metadata": {
      "needs_background": "light"
     },
     "output_type": "display_data"
    },
    {
     "name": "stdout",
     "output_type": "stream",
     "text": [
      "\n",
      "Error rate lowest for K value is:3\n"
     ]
    }
   ],
   "source": [
    "y_pred_KNeighbors = KNNModel(X_train, y_train, X_test, y_test)"
   ]
  },
  {
   "cell_type": "code",
   "execution_count": 29,
   "metadata": {
    "colab": {
     "base_uri": "https://localhost:8080/",
     "height": 457
    },
    "id": "Igatu1pDsJxQ",
    "outputId": "40c1d87e-45b9-49b5-9585-fcd3ab1a38ba"
   },
   "outputs": [
    {
     "name": "stdout",
     "output_type": "stream",
     "text": [
      "Test Result:\n",
      "================================================\n",
      "Accuracy Score: 0.6833333333333333\n",
      "F1 Score: 0.6327063740856843\n",
      "Precision: 0.7459935897435898\n",
      "Recall: 0.6833333333333333\n",
      "\n"
     ]
    },
    {
     "data": {
      "image/png": "[encoded data removed]",
      "text/plain": [
       "<Figure size 360x360 with 2 Axes>"
      ]
     },
     "metadata": {
      "needs_background": "light"
     },
     "output_type": "display_data"
    }
   ],
   "source": [
    "modelPerformace(y_test, y_pred_KNeighbors, 'K Nearest Neighbors', False)"
   ]
  },
  {
   "cell_type": "markdown",
   "metadata": {
    "id": "x1UnB5iq0TXr"
   },
   "source": [
    "**Multi-Layer Perceptron Neural Networks Model**"
   ]
  },
  {
   "cell_type": "code",
   "execution_count": 30,
   "metadata": {
    "id": "PBOSrEhnCbzs"
   },
   "outputs": [],
   "source": [
    "NNX = np.array(X)\n",
    "NNy = np.array(y)"
   ]
  },
  {
   "cell_type": "code",
   "execution_count": 31,
   "metadata": {
    "id": "h9ir1LnpCrlb"
   },
   "outputs": [],
   "source": [
    "# create X and Y datasets for training\n",
    "from sklearn import model_selection\n",
    "NNX_train, NNX_test, NNy_train, NNy_test = model_selection.train_test_split(NNX, NNy, stratify=NNy, random_state=42, test_size = 0.2)"
   ]
  },
  {
   "cell_type": "code",
   "execution_count": 32,
   "metadata": {
    "colab": {
     "base_uri": "https://localhost:8080/"
    },
    "id": "iIJh7P4YZ92f",
    "outputId": "e40a95c1-9e62-4827-c4da-56fae9b5df6f"
   },
   "outputs": [
    {
     "name": "stdout",
     "output_type": "stream",
     "text": [
      "Epoch 1/200\n",
      "24/24 [==============================] - 1s 1ms/step - loss: 0.7159 - accuracy: 0.6778\n",
      "Epoch 2/200\n",
      "24/24 [==============================] - 0s 802us/step - loss: 0.6040 - accuracy: 0.6904\n",
      "Epoch 3/200\n",
      "24/24 [==============================] - 0s 907us/step - loss: 0.5711 - accuracy: 0.6820\n",
      "Epoch 4/200\n",
      "24/24 [==============================] - 0s 1ms/step - loss: 0.5492 - accuracy: 0.6904\n",
      "Epoch 5/200\n",
      "24/24 [==============================] - 0s 1ms/step - loss: 0.5287 - accuracy: 0.7238\n",
      "Epoch 6/200\n",
      "24/24 [==============================] - 0s 1ms/step - loss: 0.5065 - accuracy: 0.7490\n",
      "Epoch 7/200\n",
      "24/24 [==============================] - 0s 989us/step - loss: 0.4907 - accuracy: 0.7615\n",
      "Epoch 8/200\n",
      "24/24 [==============================] - 0s 1ms/step - loss: 0.4810 - accuracy: 0.7866\n",
      "Epoch 9/200\n",
      "24/24 [==============================] - 0s 1ms/step - loss: 0.4678 - accuracy: 0.8033\n",
      "Epoch 10/200\n",
      "24/24 [==============================] - 0s 878us/step - loss: 0.4547 - accuracy: 0.8033\n",
      "Epoch 11/200\n",
      "24/24 [==============================] - 0s 997us/step - loss: 0.4472 - accuracy: 0.8159\n",
      "Epoch 12/200\n",
      "24/24 [==============================] - 0s 940us/step - loss: 0.4273 - accuracy: 0.8201\n",
      "Epoch 13/200\n",
      "24/24 [==============================] - 0s 1ms/step - loss: 0.4102 - accuracy: 0.8159\n",
      "Epoch 14/200\n",
      "24/24 [==============================] - 0s 1ms/step - loss: 0.3957 - accuracy: 0.8243\n",
      "Epoch 15/200\n",
      "24/24 [==============================] - 0s 893us/step - loss: 0.3914 - accuracy: 0.7992\n",
      "Epoch 16/200\n",
      "24/24 [==============================] - 0s 1ms/step - loss: 0.3711 - accuracy: 0.8368\n",
      "Epoch 17/200\n",
      "24/24 [==============================] - 0s 978us/step - loss: 0.3603 - accuracy: 0.8368\n",
      "Epoch 18/200\n",
      "24/24 [==============================] - 0s 578us/step - loss: 0.3495 - accuracy: 0.8285\n",
      "Epoch 19/200\n",
      "24/24 [==============================] - 0s 860us/step - loss: 0.3431 - accuracy: 0.8494\n",
      "Epoch 20/200\n",
      "24/24 [==============================] - 0s 1ms/step - loss: 0.3339 - accuracy: 0.8452\n",
      "Epoch 21/200\n",
      "24/24 [==============================] - 0s 901us/step - loss: 0.3266 - accuracy: 0.8452\n",
      "Epoch 22/200\n",
      "24/24 [==============================] - 0s 979us/step - loss: 0.3194 - accuracy: 0.8536\n",
      "Epoch 23/200\n",
      "24/24 [==============================] - 0s 903us/step - loss: 0.3164 - accuracy: 0.8494\n",
      "Epoch 24/200\n",
      "24/24 [==============================] - 0s 968us/step - loss: 0.3099 - accuracy: 0.8577\n",
      "Epoch 25/200\n",
      "24/24 [==============================] - 0s 927us/step - loss: 0.2998 - accuracy: 0.8536\n",
      "Epoch 26/200\n",
      "24/24 [==============================] - 0s 953us/step - loss: 0.2953 - accuracy: 0.8661\n",
      "Epoch 27/200\n",
      "24/24 [==============================] - 0s 942us/step - loss: 0.2941 - accuracy: 0.8619\n",
      "Epoch 28/200\n",
      "24/24 [==============================] - 0s 936us/step - loss: 0.2869 - accuracy: 0.8661\n",
      "Epoch 29/200\n",
      "24/24 [==============================] - 0s 1ms/step - loss: 0.2880 - accuracy: 0.8787\n",
      "Epoch 30/200\n",
      "24/24 [==============================] - 0s 1ms/step - loss: 0.2834 - accuracy: 0.8661\n",
      "Epoch 31/200\n",
      "24/24 [==============================] - 0s 1ms/step - loss: 0.2807 - accuracy: 0.8787\n",
      "Epoch 32/200\n",
      "24/24 [==============================] - 0s 887us/step - loss: 0.2802 - accuracy: 0.8870\n",
      "Epoch 33/200\n",
      "24/24 [==============================] - 0s 949us/step - loss: 0.2750 - accuracy: 0.8703\n",
      "Epoch 34/200\n",
      "24/24 [==============================] - 0s 915us/step - loss: 0.2729 - accuracy: 0.8745\n",
      "Epoch 35/200\n",
      "24/24 [==============================] - 0s 945us/step - loss: 0.2662 - accuracy: 0.8703\n",
      "Epoch 36/200\n",
      "24/24 [==============================] - 0s 908us/step - loss: 0.2626 - accuracy: 0.8912\n",
      "Epoch 37/200\n",
      "24/24 [==============================] - 0s 988us/step - loss: 0.2609 - accuracy: 0.8828\n",
      "Epoch 38/200\n",
      "24/24 [==============================] - 0s 850us/step - loss: 0.2643 - accuracy: 0.8870\n",
      "Epoch 39/200\n",
      "24/24 [==============================] - 0s 1ms/step - loss: 0.2775 - accuracy: 0.8745\n",
      "Epoch 40/200\n",
      "24/24 [==============================] - 0s 965us/step - loss: 0.2614 - accuracy: 0.8703\n",
      "Epoch 41/200\n",
      "24/24 [==============================] - 0s 950us/step - loss: 0.2563 - accuracy: 0.8828\n",
      "Epoch 42/200\n",
      "24/24 [==============================] - 0s 835us/step - loss: 0.2513 - accuracy: 0.8787\n",
      "Epoch 43/200\n",
      "24/24 [==============================] - 0s 1ms/step - loss: 0.2503 - accuracy: 0.8870\n",
      "Epoch 44/200\n",
      "24/24 [==============================] - 0s 1ms/step - loss: 0.2458 - accuracy: 0.8787\n",
      "Epoch 45/200\n",
      "24/24 [==============================] - 0s 983us/step - loss: 0.2470 - accuracy: 0.8828\n",
      "Epoch 46/200\n",
      "24/24 [==============================] - 0s 1ms/step - loss: 0.2428 - accuracy: 0.8828\n",
      "Epoch 47/200\n",
      "24/24 [==============================] - 0s 949us/step - loss: 0.2435 - accuracy: 0.8828\n",
      "Epoch 48/200\n",
      "24/24 [==============================] - 0s 1ms/step - loss: 0.2414 - accuracy: 0.8870\n",
      "Epoch 49/200\n",
      "24/24 [==============================] - 0s 1ms/step - loss: 0.2441 - accuracy: 0.8745\n",
      "Epoch 50/200\n",
      "24/24 [==============================] - 0s 902us/step - loss: 0.2353 - accuracy: 0.8828\n",
      "Epoch 51/200\n",
      "24/24 [==============================] - 0s 1ms/step - loss: 0.2395 - accuracy: 0.8912\n",
      "Epoch 52/200\n",
      "24/24 [==============================] - 0s 899us/step - loss: 0.2317 - accuracy: 0.8912\n",
      "Epoch 53/200\n",
      "24/24 [==============================] - 0s 950us/step - loss: 0.2347 - accuracy: 0.8912\n",
      "Epoch 54/200\n",
      "24/24 [==============================] - 0s 1ms/step - loss: 0.2332 - accuracy: 0.8828\n",
      "Epoch 55/200\n",
      "24/24 [==============================] - 0s 890us/step - loss: 0.2266 - accuracy: 0.8828\n",
      "Epoch 56/200\n",
      "24/24 [==============================] - 0s 825us/step - loss: 0.2255 - accuracy: 0.8870\n",
      "Epoch 57/200\n",
      "24/24 [==============================] - 0s 772us/step - loss: 0.2228 - accuracy: 0.8912\n",
      "Epoch 58/200\n",
      "24/24 [==============================] - 0s 836us/step - loss: 0.2293 - accuracy: 0.8870\n",
      "Epoch 59/200\n",
      "24/24 [==============================] - 0s 973us/step - loss: 0.2290 - accuracy: 0.9038\n",
      "Epoch 60/200\n",
      "24/24 [==============================] - 0s 862us/step - loss: 0.2212 - accuracy: 0.8954\n",
      "Epoch 61/200\n",
      "24/24 [==============================] - 0s 963us/step - loss: 0.2165 - accuracy: 0.8996\n",
      "Epoch 62/200\n",
      "24/24 [==============================] - 0s 822us/step - loss: 0.2148 - accuracy: 0.8996\n",
      "Epoch 63/200\n",
      "24/24 [==============================] - 0s 956us/step - loss: 0.2262 - accuracy: 0.8870\n",
      "Epoch 64/200\n",
      "24/24 [==============================] - 0s 802us/step - loss: 0.2123 - accuracy: 0.8996\n",
      "Epoch 65/200\n",
      "24/24 [==============================] - 0s 930us/step - loss: 0.2114 - accuracy: 0.8954\n",
      "Epoch 66/200\n",
      "24/24 [==============================] - 0s 1ms/step - loss: 0.2195 - accuracy: 0.8954\n",
      "Epoch 67/200\n",
      "24/24 [==============================] - 0s 876us/step - loss: 0.2086 - accuracy: 0.9079\n",
      "Epoch 68/200\n",
      "24/24 [==============================] - 0s 924us/step - loss: 0.2089 - accuracy: 0.9079\n",
      "Epoch 69/200\n",
      "24/24 [==============================] - 0s 864us/step - loss: 0.2163 - accuracy: 0.8954\n",
      "Epoch 70/200\n",
      "24/24 [==============================] - 0s 1ms/step - loss: 0.2106 - accuracy: 0.8912\n",
      "Epoch 71/200\n",
      "24/24 [==============================] - 0s 790us/step - loss: 0.2069 - accuracy: 0.8828\n",
      "Epoch 72/200\n",
      "24/24 [==============================] - 0s 920us/step - loss: 0.2083 - accuracy: 0.9163\n",
      "Epoch 73/200\n",
      "24/24 [==============================] - 0s 1ms/step - loss: 0.2031 - accuracy: 0.8996\n",
      "Epoch 74/200\n",
      "24/24 [==============================] - 0s 859us/step - loss: 0.2051 - accuracy: 0.9079\n",
      "Epoch 75/200\n",
      "24/24 [==============================] - 0s 826us/step - loss: 0.1993 - accuracy: 0.9121\n",
      "Epoch 76/200\n",
      "24/24 [==============================] - 0s 826us/step - loss: 0.1983 - accuracy: 0.9038\n",
      "Epoch 77/200\n",
      "24/24 [==============================] - 0s 678us/step - loss: 0.1958 - accuracy: 0.9163\n",
      "Epoch 78/200\n",
      "24/24 [==============================] - 0s 895us/step - loss: 0.1938 - accuracy: 0.9079\n",
      "Epoch 79/200\n",
      "24/24 [==============================] - 0s 1ms/step - loss: 0.1975 - accuracy: 0.9038\n",
      "Epoch 80/200\n",
      "24/24 [==============================] - 0s 867us/step - loss: 0.2823 - accuracy: 0.8870\n",
      "Epoch 81/200\n"
     ]
    },
    {
     "name": "stdout",
     "output_type": "stream",
     "text": [
      "24/24 [==============================] - 0s 879us/step - loss: 0.2230 - accuracy: 0.8828\n",
      "Epoch 82/200\n",
      "24/24 [==============================] - 0s 925us/step - loss: 0.1932 - accuracy: 0.8996\n",
      "Epoch 83/200\n",
      "24/24 [==============================] - 0s 784us/step - loss: 0.1923 - accuracy: 0.9205\n",
      "Epoch 84/200\n",
      "24/24 [==============================] - 0s 1ms/step - loss: 0.1872 - accuracy: 0.9121\n",
      "Epoch 85/200\n",
      "24/24 [==============================] - 0s 902us/step - loss: 0.1905 - accuracy: 0.9079\n",
      "Epoch 86/200\n",
      "24/24 [==============================] - 0s 975us/step - loss: 0.1941 - accuracy: 0.9038\n",
      "Epoch 87/200\n",
      "24/24 [==============================] - 0s 2ms/step - loss: 0.1842 - accuracy: 0.9163\n",
      "Epoch 88/200\n",
      "24/24 [==============================] - 0s 1ms/step - loss: 0.1838 - accuracy: 0.9205\n",
      "Epoch 89/200\n",
      "24/24 [==============================] - 0s 1ms/step - loss: 0.1830 - accuracy: 0.9205\n",
      "Epoch 90/200\n",
      "24/24 [==============================] - 0s 910us/step - loss: 0.1859 - accuracy: 0.9163\n",
      "Epoch 91/200\n",
      "24/24 [==============================] - 0s 899us/step - loss: 0.1827 - accuracy: 0.9121\n",
      "Epoch 92/200\n",
      "24/24 [==============================] - 0s 795us/step - loss: 0.1805 - accuracy: 0.9121\n",
      "Epoch 93/200\n",
      "24/24 [==============================] - 0s 978us/step - loss: 0.1832 - accuracy: 0.9038\n",
      "Epoch 94/200\n",
      "24/24 [==============================] - 0s 907us/step - loss: 0.1784 - accuracy: 0.9163\n",
      "Epoch 95/200\n",
      "24/24 [==============================] - 0s 988us/step - loss: 0.1770 - accuracy: 0.9247\n",
      "Epoch 96/200\n",
      "24/24 [==============================] - 0s 840us/step - loss: 0.1753 - accuracy: 0.9205\n",
      "Epoch 97/200\n",
      "24/24 [==============================] - 0s 925us/step - loss: 0.1829 - accuracy: 0.9205\n",
      "Epoch 98/200\n",
      "24/24 [==============================] - 0s 862us/step - loss: 0.1819 - accuracy: 0.8996\n",
      "Epoch 99/200\n",
      "24/24 [==============================] - 0s 892us/step - loss: 0.1968 - accuracy: 0.9079\n",
      "Epoch 100/200\n",
      "24/24 [==============================] - 0s 907us/step - loss: 0.1736 - accuracy: 0.9163\n",
      "Epoch 101/200\n",
      "24/24 [==============================] - 0s 878us/step - loss: 0.1712 - accuracy: 0.9205\n",
      "Epoch 102/200\n",
      "24/24 [==============================] - 0s 894us/step - loss: 0.1741 - accuracy: 0.9163\n",
      "Epoch 103/200\n",
      "24/24 [==============================] - 0s 889us/step - loss: 0.1674 - accuracy: 0.9247\n",
      "Epoch 104/200\n",
      "24/24 [==============================] - 0s 813us/step - loss: 0.1695 - accuracy: 0.9079\n",
      "Epoch 105/200\n",
      "24/24 [==============================] - 0s 758us/step - loss: 0.1704 - accuracy: 0.9331\n",
      "Epoch 106/200\n",
      "24/24 [==============================] - 0s 739us/step - loss: 0.1666 - accuracy: 0.9163\n",
      "Epoch 107/200\n",
      "24/24 [==============================] - 0s 953us/step - loss: 0.1628 - accuracy: 0.9247\n",
      "Epoch 108/200\n",
      "24/24 [==============================] - 0s 1ms/step - loss: 0.1630 - accuracy: 0.9414\n",
      "Epoch 109/200\n",
      "24/24 [==============================] - 0s 1ms/step - loss: 0.1624 - accuracy: 0.9247\n",
      "Epoch 110/200\n",
      "24/24 [==============================] - 0s 1ms/step - loss: 0.1639 - accuracy: 0.9205\n",
      "Epoch 111/200\n",
      "24/24 [==============================] - 0s 1ms/step - loss: 0.1598 - accuracy: 0.9163\n",
      "Epoch 112/200\n",
      "24/24 [==============================] - 0s 1ms/step - loss: 0.1602 - accuracy: 0.9038\n",
      "Epoch 113/200\n",
      "24/24 [==============================] - 0s 1ms/step - loss: 0.1580 - accuracy: 0.9205\n",
      "Epoch 114/200\n",
      "24/24 [==============================] - 0s 987us/step - loss: 0.1548 - accuracy: 0.9372\n",
      "Epoch 115/200\n",
      "24/24 [==============================] - 0s 1ms/step - loss: 0.1517 - accuracy: 0.9331\n",
      "Epoch 116/200\n",
      "24/24 [==============================] - 0s 1ms/step - loss: 0.1511 - accuracy: 0.9331\n",
      "Epoch 117/200\n",
      "24/24 [==============================] - 0s 1ms/step - loss: 0.1510 - accuracy: 0.9205\n",
      "Epoch 118/200\n",
      "24/24 [==============================] - 0s 2ms/step - loss: 0.1500 - accuracy: 0.9289\n",
      "Epoch 119/200\n",
      "24/24 [==============================] - 0s 1ms/step - loss: 0.1512 - accuracy: 0.9247\n",
      "Epoch 120/200\n",
      "24/24 [==============================] - 0s 931us/step - loss: 0.1486 - accuracy: 0.9247\n",
      "Epoch 121/200\n",
      "24/24 [==============================] - 0s 1ms/step - loss: 0.1449 - accuracy: 0.9205\n",
      "Epoch 122/200\n",
      "24/24 [==============================] - 0s 976us/step - loss: 0.1497 - accuracy: 0.9163\n",
      "Epoch 123/200\n",
      "24/24 [==============================] - 0s 1ms/step - loss: 0.1426 - accuracy: 0.9289\n",
      "Epoch 124/200\n",
      "24/24 [==============================] - 0s 913us/step - loss: 0.1479 - accuracy: 0.9247\n",
      "Epoch 125/200\n",
      "24/24 [==============================] - 0s 1ms/step - loss: 0.1518 - accuracy: 0.9247\n",
      "Epoch 126/200\n",
      "24/24 [==============================] - 0s 1ms/step - loss: 0.1503 - accuracy: 0.9331\n",
      "Epoch 127/200\n",
      "24/24 [==============================] - 0s 881us/step - loss: 0.1362 - accuracy: 0.9372\n",
      "Epoch 128/200\n",
      "24/24 [==============================] - 0s 1ms/step - loss: 0.1341 - accuracy: 0.9331\n",
      "Epoch 129/200\n",
      "24/24 [==============================] - 0s 1ms/step - loss: 0.1453 - accuracy: 0.9372\n",
      "Epoch 130/200\n",
      "24/24 [==============================] - 0s 1ms/step - loss: 0.1368 - accuracy: 0.9331\n",
      "Epoch 131/200\n",
      "24/24 [==============================] - 0s 1ms/step - loss: 0.1346 - accuracy: 0.9372\n",
      "Epoch 132/200\n",
      "24/24 [==============================] - 0s 1ms/step - loss: 0.1306 - accuracy: 0.9247\n",
      "Epoch 133/200\n",
      "24/24 [==============================] - 0s 902us/step - loss: 0.1270 - accuracy: 0.9372\n",
      "Epoch 134/200\n",
      "24/24 [==============================] - 0s 1ms/step - loss: 0.1380 - accuracy: 0.9121\n",
      "Epoch 135/200\n",
      "24/24 [==============================] - 0s 1ms/step - loss: 0.1442 - accuracy: 0.9163\n",
      "Epoch 136/200\n",
      "24/24 [==============================] - 0s 1ms/step - loss: 0.1280 - accuracy: 0.9456\n",
      "Epoch 137/200\n",
      "24/24 [==============================] - 0s 1ms/step - loss: 0.1281 - accuracy: 0.9163\n",
      "Epoch 138/200\n",
      "24/24 [==============================] - 0s 1ms/step - loss: 0.1243 - accuracy: 0.9372\n",
      "Epoch 139/200\n",
      "24/24 [==============================] - 0s 1ms/step - loss: 0.1258 - accuracy: 0.9331\n",
      "Epoch 140/200\n",
      "24/24 [==============================] - 0s 2ms/step - loss: 0.1250 - accuracy: 0.9289\n",
      "Epoch 141/200\n",
      "24/24 [==============================] - 0s 2ms/step - loss: 0.1207 - accuracy: 0.9289\n",
      "Epoch 142/200\n",
      "24/24 [==============================] - 0s 1ms/step - loss: 0.1250 - accuracy: 0.9372\n",
      "Epoch 143/200\n",
      "24/24 [==============================] - 0s 1ms/step - loss: 0.1234 - accuracy: 0.9331\n",
      "Epoch 144/200\n",
      "24/24 [==============================] - 0s 1ms/step - loss: 0.1175 - accuracy: 0.9331\n",
      "Epoch 145/200\n",
      "24/24 [==============================] - 0s 1ms/step - loss: 0.1268 - accuracy: 0.9247\n",
      "Epoch 146/200\n",
      "24/24 [==============================] - 0s 1ms/step - loss: 0.1267 - accuracy: 0.9372\n",
      "Epoch 147/200\n",
      "24/24 [==============================] - 0s 1ms/step - loss: 0.1337 - accuracy: 0.9205\n",
      "Epoch 148/200\n",
      "24/24 [==============================] - 0s 1ms/step - loss: 0.1160 - accuracy: 0.9331\n",
      "Epoch 149/200\n",
      "24/24 [==============================] - 0s 1ms/step - loss: 0.1140 - accuracy: 0.9372\n",
      "Epoch 150/200\n",
      "24/24 [==============================] - 0s 2ms/step - loss: 0.1124 - accuracy: 0.9372\n",
      "Epoch 151/200\n",
      "24/24 [==============================] - 0s 1ms/step - loss: 0.1122 - accuracy: 0.9414\n",
      "Epoch 152/200\n",
      "24/24 [==============================] - 0s 1ms/step - loss: 0.1118 - accuracy: 0.9372\n",
      "Epoch 153/200\n",
      "24/24 [==============================] - 0s 1ms/step - loss: 0.1104 - accuracy: 0.9456\n",
      "Epoch 154/200\n",
      "24/24 [==============================] - 0s 1ms/step - loss: 0.1063 - accuracy: 0.9456\n",
      "Epoch 155/200\n",
      "24/24 [==============================] - 0s 1ms/step - loss: 0.1133 - accuracy: 0.9372\n",
      "Epoch 156/200\n",
      "24/24 [==============================] - 0s 1ms/step - loss: 0.1043 - accuracy: 0.9331\n",
      "Epoch 157/200\n",
      "24/24 [==============================] - 0s 948us/step - loss: 0.1022 - accuracy: 0.9498\n",
      "Epoch 158/200\n",
      "24/24 [==============================] - 0s 904us/step - loss: 0.1054 - accuracy: 0.9414\n",
      "Epoch 159/200\n",
      "24/24 [==============================] - 0s 806us/step - loss: 0.1014 - accuracy: 0.9498\n",
      "Epoch 160/200\n",
      "24/24 [==============================] - 0s 976us/step - loss: 0.1056 - accuracy: 0.9456\n",
      "Epoch 161/200\n"
     ]
    },
    {
     "name": "stdout",
     "output_type": "stream",
     "text": [
      "24/24 [==============================] - 0s 833us/step - loss: 0.1081 - accuracy: 0.9582\n",
      "Epoch 162/200\n",
      "24/24 [==============================] - 0s 999us/step - loss: 0.1044 - accuracy: 0.9456\n",
      "Epoch 163/200\n",
      "24/24 [==============================] - 0s 994us/step - loss: 0.1029 - accuracy: 0.9414\n",
      "Epoch 164/200\n",
      "24/24 [==============================] - 0s 1ms/step - loss: 0.0986 - accuracy: 0.9456\n",
      "Epoch 165/200\n",
      "24/24 [==============================] - 0s 867us/step - loss: 0.1040 - accuracy: 0.9540\n",
      "Epoch 166/200\n",
      "24/24 [==============================] - 0s 947us/step - loss: 0.0988 - accuracy: 0.9498\n",
      "Epoch 167/200\n",
      "24/24 [==============================] - 0s 906us/step - loss: 0.1007 - accuracy: 0.9331\n",
      "Epoch 168/200\n",
      "24/24 [==============================] - 0s 936us/step - loss: 0.1031 - accuracy: 0.9582\n",
      "Epoch 169/200\n",
      "24/24 [==============================] - 0s 775us/step - loss: 0.1238 - accuracy: 0.9289\n",
      "Epoch 170/200\n",
      "24/24 [==============================] - 0s 817us/step - loss: 0.0991 - accuracy: 0.9498\n",
      "Epoch 171/200\n",
      "24/24 [==============================] - 0s 821us/step - loss: 0.0926 - accuracy: 0.9540\n",
      "Epoch 172/200\n",
      "24/24 [==============================] - 0s 990us/step - loss: 0.0971 - accuracy: 0.9498\n",
      "Epoch 173/200\n",
      "24/24 [==============================] - 0s 907us/step - loss: 0.0913 - accuracy: 0.9414\n",
      "Epoch 174/200\n",
      "24/24 [==============================] - 0s 820us/step - loss: 0.0949 - accuracy: 0.9498\n",
      "Epoch 175/200\n",
      "24/24 [==============================] - 0s 991us/step - loss: 0.0921 - accuracy: 0.9540\n",
      "Epoch 176/200\n",
      "24/24 [==============================] - 0s 776us/step - loss: 0.0920 - accuracy: 0.9582\n",
      "Epoch 177/200\n",
      "24/24 [==============================] - 0s 788us/step - loss: 0.0936 - accuracy: 0.9498\n",
      "Epoch 178/200\n",
      "24/24 [==============================] - 0s 850us/step - loss: 0.0865 - accuracy: 0.9540\n",
      "Epoch 179/200\n",
      "24/24 [==============================] - 0s 830us/step - loss: 0.0853 - accuracy: 0.9498\n",
      "Epoch 180/200\n",
      "24/24 [==============================] - 0s 854us/step - loss: 0.0919 - accuracy: 0.9582\n",
      "Epoch 181/200\n",
      "24/24 [==============================] - 0s 990us/step - loss: 0.0839 - accuracy: 0.9498\n",
      "Epoch 182/200\n",
      "24/24 [==============================] - 0s 1ms/step - loss: 0.0806 - accuracy: 0.9665\n",
      "Epoch 183/200\n",
      "24/24 [==============================] - 0s 937us/step - loss: 0.0786 - accuracy: 0.9582\n",
      "Epoch 184/200\n",
      "24/24 [==============================] - 0s 865us/step - loss: 0.0819 - accuracy: 0.9582\n",
      "Epoch 185/200\n",
      "24/24 [==============================] - 0s 772us/step - loss: 0.0790 - accuracy: 0.9582\n",
      "Epoch 186/200\n",
      "24/24 [==============================] - 0s 974us/step - loss: 0.0855 - accuracy: 0.9498\n",
      "Epoch 187/200\n",
      "24/24 [==============================] - 0s 941us/step - loss: 0.0990 - accuracy: 0.9498\n",
      "Epoch 188/200\n",
      "24/24 [==============================] - 0s 869us/step - loss: 0.0880 - accuracy: 0.9582\n",
      "Epoch 189/200\n",
      "24/24 [==============================] - 0s 941us/step - loss: 0.0818 - accuracy: 0.9623\n",
      "Epoch 190/200\n",
      "24/24 [==============================] - 0s 936us/step - loss: 0.0764 - accuracy: 0.9582\n",
      "Epoch 191/200\n",
      "24/24 [==============================] - 0s 1ms/step - loss: 0.0774 - accuracy: 0.9665\n",
      "Epoch 192/200\n",
      "24/24 [==============================] - 0s 983us/step - loss: 0.0828 - accuracy: 0.9456\n",
      "Epoch 193/200\n",
      "24/24 [==============================] - 0s 889us/step - loss: 0.0792 - accuracy: 0.9582\n",
      "Epoch 194/200\n",
      "24/24 [==============================] - 0s 1ms/step - loss: 0.0762 - accuracy: 0.9623\n",
      "Epoch 195/200\n",
      "24/24 [==============================] - 0s 851us/step - loss: 0.0718 - accuracy: 0.9623\n",
      "Epoch 196/200\n",
      "24/24 [==============================] - 0s 1ms/step - loss: 0.0782 - accuracy: 0.9623\n",
      "Epoch 197/200\n",
      "24/24 [==============================] - 0s 937us/step - loss: 0.0748 - accuracy: 0.9707\n",
      "Epoch 198/200\n",
      "24/24 [==============================] - 0s 908us/step - loss: 0.0750 - accuracy: 0.9665\n",
      "Epoch 199/200\n",
      "24/24 [==============================] - 0s 1ms/step - loss: 0.0734 - accuracy: 0.9707\n",
      "Epoch 200/200\n",
      "24/24 [==============================] - 0s 880us/step - loss: 0.0725 - accuracy: 0.9623\n",
      "2/2 [==============================] - 0s 3ms/step\n"
     ]
    }
   ],
   "source": [
    "nn_pred = NNModel(NNX_train, NNy_train, NNX_test, 12)"
   ]
  },
  {
   "cell_type": "code",
   "execution_count": 33,
   "metadata": {
    "colab": {
     "base_uri": "https://localhost:8080/",
     "height": 457
    },
    "id": "xidpiuL1ap6W",
    "outputId": "dab97b29-ea56-43a9-bdc2-b72dbd74188c"
   },
   "outputs": [
    {
     "name": "stdout",
     "output_type": "stream",
     "text": [
      "Test Result:\n",
      "================================================\n",
      "Accuracy Score: 0.6833333333333333\n",
      "F1 Score: 0.8118811881188118\n",
      "Precision: 0.6833333333333333\n",
      "Recall: 1.0\n",
      "\n"
     ]
    },
    {
     "data": {
      "image/png": "[encoded data removed]",
      "text/plain": [
       "<Figure size 360x360 with 2 Axes>"
      ]
     },
     "metadata": {
      "needs_background": "light"
     },
     "output_type": "display_data"
    }
   ],
   "source": [
    "modelPerformace(NNy_test, nn_pred, 'Neutral Network Model', False)"
   ]
  },
  {
   "cell_type": "code",
   "execution_count": 34,
   "metadata": {
    "colab": {
     "base_uri": "https://localhost:8080/",
     "height": 237
    },
    "id": "j5P6mkJXOMx9",
    "outputId": "e6f62a6c-13db-4102-a27e-aea31a0dc1b3"
   },
   "outputs": [
    {
     "data": {
      "text/html": [
       "<div>\n",
       "<style scoped>\n",
       "    .dataframe tbody tr th:only-of-type {\n",
       "        vertical-align: middle;\n",
       "    }\n",
       "\n",
       "    .dataframe tbody tr th {\n",
       "        vertical-align: top;\n",
       "    }\n",
       "\n",
       "    .dataframe thead th {\n",
       "        text-align: right;\n",
       "    }\n",
       "</style>\n",
       "<table border=\"1\" class=\"dataframe\">\n",
       "  <thead>\n",
       "    <tr style=\"text-align: right;\">\n",
       "      <th></th>\n",
       "      <th>Model</th>\n",
       "      <th>Accuracy</th>\n",
       "      <th>F1_Score</th>\n",
       "      <th>Precision</th>\n",
       "      <th>Recall</th>\n",
       "    </tr>\n",
       "  </thead>\n",
       "  <tbody>\n",
       "    <tr>\n",
       "      <th>0</th>\n",
       "      <td>Naive Bayes</td>\n",
       "      <td>0.700000</td>\n",
       "      <td>0.666667</td>\n",
       "      <td>0.733766</td>\n",
       "      <td>0.700000</td>\n",
       "    </tr>\n",
       "    <tr>\n",
       "      <th>1</th>\n",
       "      <td>Logistic Regression</td>\n",
       "      <td>0.716667</td>\n",
       "      <td>0.680952</td>\n",
       "      <td>0.771667</td>\n",
       "      <td>0.716667</td>\n",
       "    </tr>\n",
       "    <tr>\n",
       "      <th>2</th>\n",
       "      <td>Support Vector Machine</td>\n",
       "      <td>0.583333</td>\n",
       "      <td>0.736842</td>\n",
       "      <td>0.583333</td>\n",
       "      <td>1.000000</td>\n",
       "    </tr>\n",
       "    <tr>\n",
       "      <th>3</th>\n",
       "      <td>Random Forest Classifier</td>\n",
       "      <td>0.750000</td>\n",
       "      <td>0.725659</td>\n",
       "      <td>0.795139</td>\n",
       "      <td>0.750000</td>\n",
       "    </tr>\n",
       "    <tr>\n",
       "      <th>4</th>\n",
       "      <td>K Nearest Neighbors</td>\n",
       "      <td>0.683333</td>\n",
       "      <td>0.632706</td>\n",
       "      <td>0.745994</td>\n",
       "      <td>0.683333</td>\n",
       "    </tr>\n",
       "    <tr>\n",
       "      <th>5</th>\n",
       "      <td>Neutral Network Model</td>\n",
       "      <td>0.683333</td>\n",
       "      <td>0.811881</td>\n",
       "      <td>0.683333</td>\n",
       "      <td>1.000000</td>\n",
       "    </tr>\n",
       "  </tbody>\n",
       "</table>\n",
       "</div>"
      ],
      "text/plain": [
       "                      Model  Accuracy  F1_Score  Precision    Recall\n",
       "0               Naive Bayes  0.700000  0.666667   0.733766  0.700000\n",
       "1       Logistic Regression  0.716667  0.680952   0.771667  0.716667\n",
       "2    Support Vector Machine  0.583333  0.736842   0.583333  1.000000\n",
       "3  Random Forest Classifier  0.750000  0.725659   0.795139  0.750000\n",
       "4       K Nearest Neighbors  0.683333  0.632706   0.745994  0.683333\n",
       "5     Neutral Network Model  0.683333  0.811881   0.683333  1.000000"
      ]
     },
     "execution_count": 34,
     "metadata": {},
     "output_type": "execute_result"
    }
   ],
   "source": [
    "results_classication_df"
   ]
  },
  {
   "cell_type": "markdown",
   "metadata": {
    "id": "o5m0Z2cKDae7"
   },
   "source": [
    "## **Classification II**\n"
   ]
  },
  {
   "cell_type": "code",
   "execution_count": 35,
   "metadata": {
    "colab": {
     "base_uri": "https://localhost:8080/",
     "height": 329
    },
    "id": "XRcKDGUVDjNW",
    "outputId": "8c5e8619-8bf1-40c7-f87e-b641314e0d9e"
   },
   "outputs": [
    {
     "data": {
      "image/png": "[encoded data removed]",
      "text/plain": [
       "<Figure size 432x288 with 1 Axes>"
      ]
     },
     "metadata": {
      "needs_background": "light"
     },
     "output_type": "display_data"
    }
   ],
   "source": [
    "# Plot the value_counts with a bar graph\n",
    "ax = df.DEATH_EVENT.value_counts().plot(kind=\"bar\", color=[\"salmon\", \"lightblue\"])\n",
    "plt.xticks([0,1],['Survived', 'Dead'])\n",
    "plt.title('Cases of Death Events Due to Heart Disease');\n",
    "\n",
    "ax.set_xlabel(\"DEATH EVENTS\")\n",
    "ax.set_ylabel(\"COUNT\")\n",
    "for rect in ax.patches:\n",
    "    y_value = rect.get_height()\n",
    "    x_value = rect.get_x() + rect.get_width() / 2\n",
    "    space = -15\n",
    "    label = \"{:.0f}\".format(y_value)\n",
    "    ax.annotate(label, (x_value, y_value), xytext=(0, space), textcoords=\"offset points\", ha='center', va='bottom')\n",
    "plt.show()"
   ]
  },
  {
   "cell_type": "markdown",
   "metadata": {
    "id": "pAcbh2tHtsbB"
   },
   "source": [
    "### **Under Sampling Technique**"
   ]
  },
  {
   "cell_type": "code",
   "execution_count": 36,
   "metadata": {
    "id": "hsgPQAvnlfOG"
   },
   "outputs": [],
   "source": [
    "from imblearn.under_sampling import RandomUnderSampler"
   ]
  },
  {
   "cell_type": "code",
   "execution_count": 37,
   "metadata": {
    "id": "VPiCQdTbl9Nc"
   },
   "outputs": [],
   "source": [
    "underSampler = RandomUnderSampler(random_state=11)"
   ]
  },
  {
   "cell_type": "code",
   "execution_count": 38,
   "metadata": {
    "id": "fvQYKk11pwtv"
   },
   "outputs": [],
   "source": [
    "X_underSampler, y_underSampler = underSampler.fit_resample(X, y)"
   ]
  },
  {
   "cell_type": "code",
   "execution_count": 39,
   "metadata": {
    "colab": {
     "base_uri": "https://localhost:8080/",
     "height": 329
    },
    "id": "cEoFpl5-p-Y1",
    "outputId": "eb08b160-8859-4ead-f8af-51e2c6e8700f"
   },
   "outputs": [
    {
     "data": {
      "image/png": "[encoded data removed]",
      "text/plain": [
       "<Figure size 432x288 with 1 Axes>"
      ]
     },
     "metadata": {
      "needs_background": "light"
     },
     "output_type": "display_data"
    }
   ],
   "source": [
    "ax = y_underSampler.value_counts().plot(kind=\"bar\", color=[\"salmon\", \"lightblue\"]);\n",
    "plt.xticks([0,1],['Survived', 'Dead'])\n",
    "plt.title('Cases of Death Events Due to Heart Disease');\n",
    "\n",
    "ax.set_xlabel(\"DEATH EVENTS\")\n",
    "ax.set_ylabel(\"COUNT\")\n",
    "for rect in ax.patches:\n",
    "    y_value = rect.get_height()\n",
    "    x_value = rect.get_x() + rect.get_width() / 2\n",
    "    space = -15\n",
    "    label = \"{:.0f}\".format(y_value)\n",
    "    ax.annotate(label, (x_value, y_value), xytext=(0, space), textcoords=\"offset points\", ha='center', va='bottom')\n",
    "plt.show()"
   ]
  },
  {
   "cell_type": "markdown",
   "metadata": {
    "id": "NpdHz6KduWAc"
   },
   "source": [
    "**Splitting Balanced Dataset into Training Set and Testing Set**"
   ]
  },
  {
   "cell_type": "code",
   "execution_count": 40,
   "metadata": {
    "id": "RJynN7yolVja"
   },
   "outputs": [],
   "source": [
    "from sklearn.model_selection import train_test_split\n",
    "X_train, X_test, y_train, y_test = train_test_split(X_underSampler, y_underSampler, test_size=0.2, random_state=42)"
   ]
  },
  {
   "cell_type": "markdown",
   "metadata": {
    "id": "jK3t_XSTuQv7"
   },
   "source": [
    "**Naive Bayes Model**"
   ]
  },
  {
   "cell_type": "code",
   "execution_count": 41,
   "metadata": {
    "id": "HVS3zkXMcagw"
   },
   "outputs": [],
   "source": [
    "y_pred = naiveBayesModel(X_train, y_train, X_test)"
   ]
  },
  {
   "cell_type": "code",
   "execution_count": 42,
   "metadata": {
    "colab": {
     "base_uri": "https://localhost:8080/",
     "height": 457
    },
    "id": "TfBK9hU9cagx",
    "outputId": "6b3e19a8-a858-42ad-9851-8e018ce68180"
   },
   "outputs": [
    {
     "name": "stdout",
     "output_type": "stream",
     "text": [
      "Test Result:\n",
      "================================================\n",
      "Accuracy Score: 0.7692307692307693\n",
      "F1 Score: 0.7677095481973532\n",
      "Precision: 0.7922240802675585\n",
      "Recall: 0.7692307692307693\n",
      "\n"
     ]
    },
    {
     "data": {
      "image/png": "[encoded data removed]",
      "text/plain": [
       "<Figure size 360x360 with 2 Axes>"
      ]
     },
     "metadata": {
      "needs_background": "light"
     },
     "output_type": "display_data"
    }
   ],
   "source": [
    "modelPerformace(y_test, y_pred, 'Naive Bayes', True)"
   ]
  },
  {
   "cell_type": "markdown",
   "metadata": {
    "id": "PDre0cCUdQMr"
   },
   "source": [
    "**Logistic Regression Model**"
   ]
  },
  {
   "cell_type": "code",
   "execution_count": 43,
   "metadata": {
    "id": "wet4302QdQMr"
   },
   "outputs": [],
   "source": [
    "y_pred_logidtic = logisticRegressionModel(X_train, y_train, X_test)"
   ]
  },
  {
   "cell_type": "code",
   "execution_count": 44,
   "metadata": {
    "colab": {
     "base_uri": "https://localhost:8080/",
     "height": 457
    },
    "id": "Z1vNwSjOdQM3",
    "outputId": "3b1e48c1-9566-4d0a-a2d5-d62765005bcb"
   },
   "outputs": [
    {
     "name": "stdout",
     "output_type": "stream",
     "text": [
      "Test Result:\n",
      "================================================\n",
      "Accuracy Score: 0.8461538461538461\n",
      "F1 Score: 0.8432274247491639\n",
      "Precision: 0.8593406593406595\n",
      "Recall: 0.8461538461538461\n",
      "\n"
     ]
    },
    {
     "data": {
      "image/png": "[encoded data removed]",
      "text/plain": [
       "<Figure size 360x360 with 2 Axes>"
      ]
     },
     "metadata": {
      "needs_background": "light"
     },
     "output_type": "display_data"
    }
   ],
   "source": [
    "modelPerformace(y_test, y_pred_logidtic, 'Logistic Regression', False)"
   ]
  },
  {
   "cell_type": "markdown",
   "metadata": {
    "id": "0GeaWugddQM3"
   },
   "source": [
    "**Support Vector Machine Model**"
   ]
  },
  {
   "cell_type": "code",
   "execution_count": 45,
   "metadata": {
    "id": "EbFqmAlOdQM3"
   },
   "outputs": [],
   "source": [
    "y_pred_SVC = SVCModel(X_train, y_train, X_test)"
   ]
  },
  {
   "cell_type": "code",
   "execution_count": 46,
   "metadata": {
    "colab": {
     "base_uri": "https://localhost:8080/",
     "height": 457
    },
    "id": "tcS7BlwNdQM3",
    "outputId": "25673f7e-705f-46c9-ff9f-5c9e1e489a14"
   },
   "outputs": [
    {
     "name": "stdout",
     "output_type": "stream",
     "text": [
      "Test Result:\n",
      "================================================\n",
      "Accuracy Score: 0.46153846153846156\n",
      "F1 Score: 0.631578947368421\n",
      "Precision: 0.46153846153846156\n",
      "Recall: 1.0\n",
      "\n"
     ]
    },
    {
     "data": {
      "image/png": "[encoded data removed]",
      "text/plain": [
       "<Figure size 360x360 with 2 Axes>"
      ]
     },
     "metadata": {
      "needs_background": "light"
     },
     "output_type": "display_data"
    }
   ],
   "source": [
    "modelPerformace(y_test, y_pred_SVC, 'Support Vector Machine', False)"
   ]
  },
  {
   "cell_type": "markdown",
   "metadata": {
    "id": "1NXYeziHdQM4"
   },
   "source": [
    "**Random Forest Model**"
   ]
  },
  {
   "cell_type": "code",
   "execution_count": 47,
   "metadata": {
    "id": "xaNFQFyBdQM4"
   },
   "outputs": [],
   "source": [
    "y_pred_RandomForest = randomForestModel(X_train, y_train, X_test)"
   ]
  },
  {
   "cell_type": "code",
   "execution_count": 48,
   "metadata": {
    "colab": {
     "base_uri": "https://localhost:8080/",
     "height": 457
    },
    "id": "oAoFHHROdQM4",
    "outputId": "af7a4025-e901-403e-f47d-0dda84e066e7"
   },
   "outputs": [
    {
     "name": "stdout",
     "output_type": "stream",
     "text": [
      "Test Result:\n",
      "================================================\n",
      "Accuracy Score: 0.8974358974358975\n",
      "F1 Score: 0.8974358974358975\n",
      "Precision: 0.8974358974358975\n",
      "Recall: 0.8974358974358975\n",
      "\n"
     ]
    },
    {
     "data": {
      "image/png": "[encoded data removed]",
      "text/plain": [
       "<Figure size 360x360 with 2 Axes>"
      ]
     },
     "metadata": {
      "needs_background": "light"
     },
     "output_type": "display_data"
    }
   ],
   "source": [
    "modelPerformace(y_test, y_pred_RandomForest, 'Random Forest Classifier', False)"
   ]
  },
  {
   "cell_type": "markdown",
   "metadata": {
    "id": "YteY0l4UdQM4"
   },
   "source": [
    "**K Nearest Neighbors Model**"
   ]
  },
  {
   "cell_type": "code",
   "execution_count": 49,
   "metadata": {
    "colab": {
     "base_uri": "https://localhost:8080/",
     "height": 625
    },
    "id": "uVUknsvLdQM4",
    "outputId": "c19e4570-c3c4-496b-9948-3db580e6f42d"
   },
   "outputs": [
    {
     "data": {
      "image/png": "[encoded data removed]",
      "text/plain": [
       "<Figure size 432x288 with 1 Axes>"
      ]
     },
     "metadata": {
      "needs_background": "light"
     },
     "output_type": "display_data"
    },
    {
     "name": "stdout",
     "output_type": "stream",
     "text": [
      "\n"
     ]
    },
    {
     "data": {
      "image/png": "[encoded data removed]",
      "text/plain": [
       "<Figure size 432x288 with 1 Axes>"
      ]
     },
     "metadata": {
      "needs_background": "light"
     },
     "output_type": "display_data"
    },
    {
     "name": "stdout",
     "output_type": "stream",
     "text": [
      "\n",
      "Error rate lowest for K value is:9\n"
     ]
    }
   ],
   "source": [
    "y_pred_KNeighbors = KNNModel(X_train, y_train, X_test, y_test)"
   ]
  },
  {
   "cell_type": "code",
   "execution_count": 50,
   "metadata": {
    "colab": {
     "base_uri": "https://localhost:8080/",
     "height": 457
    },
    "id": "K25jjLCKdQM4",
    "outputId": "95d959b3-a735-49b8-8b5c-3f5a1b271f1c"
   },
   "outputs": [
    {
     "name": "stdout",
     "output_type": "stream",
     "text": [
      "Test Result:\n",
      "================================================\n",
      "Accuracy Score: 0.7435897435897436\n",
      "F1 Score: 0.7439271255060729\n",
      "Precision: 0.7481781376518217\n",
      "Recall: 0.7435897435897436\n",
      "\n"
     ]
    },
    {
     "data": {
      "image/png": "[encoded data removed]",
      "text/plain": [
       "<Figure size 360x360 with 2 Axes>"
      ]
     },
     "metadata": {
      "needs_background": "light"
     },
     "output_type": "display_data"
    }
   ],
   "source": [
    "modelPerformace(y_test, y_pred_KNeighbors, 'K Nearest Neighbors', False)"
   ]
  },
  {
   "cell_type": "markdown",
   "metadata": {
    "id": "MYBg1qdFwEpB"
   },
   "source": [
    "**Multi-Layer Perceptron Neural Networks Model**"
   ]
  },
  {
   "cell_type": "code",
   "execution_count": 51,
   "metadata": {
    "id": "xzibPVt2wEpC"
   },
   "outputs": [],
   "source": [
    "NNX = np.array(X_underSampler)\n",
    "NNy = np.array(y_underSampler)"
   ]
  },
  {
   "cell_type": "code",
   "execution_count": 52,
   "metadata": {
    "id": "s4-VqPWIwEpD"
   },
   "outputs": [],
   "source": [
    "# create X and Y datasets for training\n",
    "from sklearn import model_selection\n",
    "NNX_train, NNX_test, NNy_train, NNy_test = model_selection.train_test_split(NNX, NNy, stratify=NNy, random_state=42, test_size = 0.2)"
   ]
  },
  {
   "cell_type": "code",
   "execution_count": 53,
   "metadata": {
    "colab": {
     "base_uri": "https://localhost:8080/"
    },
    "id": "phGdU4ahHHP-",
    "outputId": "22978d22-2dac-4d89-f26f-d8a545111327"
   },
   "outputs": [
    {
     "name": "stdout",
     "output_type": "stream",
     "text": [
      "Epoch 1/200\n",
      "16/16 [==============================] - 1s 2ms/step - loss: 1.5287 - accuracy: 0.5294\n",
      "Epoch 2/200\n",
      "16/16 [==============================] - 0s 991us/step - loss: 0.9353 - accuracy: 0.5359\n",
      "Epoch 3/200\n",
      "16/16 [==============================] - 0s 1ms/step - loss: 0.8133 - accuracy: 0.5686\n",
      "Epoch 4/200\n",
      "16/16 [==============================] - 0s 1ms/step - loss: 0.7755 - accuracy: 0.5425\n",
      "Epoch 5/200\n",
      "16/16 [==============================] - 0s 1ms/step - loss: 0.7481 - accuracy: 0.5621\n",
      "Epoch 6/200\n",
      "16/16 [==============================] - 0s 1ms/step - loss: 0.7297 - accuracy: 0.6078\n",
      "Epoch 7/200\n",
      "16/16 [==============================] - 0s 1ms/step - loss: 0.7118 - accuracy: 0.6078\n",
      "Epoch 8/200\n",
      "16/16 [==============================] - 0s 1ms/step - loss: 0.6920 - accuracy: 0.6144\n",
      "Epoch 9/200\n",
      "16/16 [==============================] - 0s 1ms/step - loss: 0.6723 - accuracy: 0.6209\n",
      "Epoch 10/200\n",
      "16/16 [==============================] - 0s 1ms/step - loss: 0.6555 - accuracy: 0.6144\n",
      "Epoch 11/200\n",
      "16/16 [==============================] - 0s 1ms/step - loss: 0.6338 - accuracy: 0.6340\n",
      "Epoch 12/200\n",
      "16/16 [==============================] - 0s 1ms/step - loss: 0.6142 - accuracy: 0.6340\n",
      "Epoch 13/200\n",
      "16/16 [==============================] - 0s 1ms/step - loss: 0.6008 - accuracy: 0.6536\n",
      "Epoch 14/200\n",
      "16/16 [==============================] - 0s 1ms/step - loss: 0.5838 - accuracy: 0.6471\n",
      "Epoch 15/200\n",
      "16/16 [==============================] - 0s 1ms/step - loss: 0.5688 - accuracy: 0.6863\n",
      "Epoch 16/200\n",
      "16/16 [==============================] - 0s 1ms/step - loss: 0.5532 - accuracy: 0.7059\n",
      "Epoch 17/200\n",
      "16/16 [==============================] - 0s 1ms/step - loss: 0.5481 - accuracy: 0.7124\n",
      "Epoch 18/200\n",
      "16/16 [==============================] - 0s 1ms/step - loss: 0.5302 - accuracy: 0.7059\n",
      "Epoch 19/200\n",
      "16/16 [==============================] - 0s 1ms/step - loss: 0.5161 - accuracy: 0.7582\n",
      "Epoch 20/200\n",
      "16/16 [==============================] - 0s 1ms/step - loss: 0.5041 - accuracy: 0.7582\n",
      "Epoch 21/200\n",
      "16/16 [==============================] - 0s 1ms/step - loss: 0.4910 - accuracy: 0.7582\n",
      "Epoch 22/200\n",
      "16/16 [==============================] - 0s 1ms/step - loss: 0.4772 - accuracy: 0.7647\n",
      "Epoch 23/200\n",
      "16/16 [==============================] - 0s 1ms/step - loss: 0.4688 - accuracy: 0.7712\n",
      "Epoch 24/200\n",
      "16/16 [==============================] - 0s 1ms/step - loss: 0.4554 - accuracy: 0.7778\n",
      "Epoch 25/200\n",
      "16/16 [==============================] - 0s 1ms/step - loss: 0.4494 - accuracy: 0.7712\n",
      "Epoch 26/200\n",
      "16/16 [==============================] - 0s 1ms/step - loss: 0.4328 - accuracy: 0.7843\n",
      "Epoch 27/200\n",
      "16/16 [==============================] - 0s 1ms/step - loss: 0.4256 - accuracy: 0.7908\n",
      "Epoch 28/200\n",
      "16/16 [==============================] - 0s 1ms/step - loss: 0.4236 - accuracy: 0.8170\n",
      "Epoch 29/200\n",
      "16/16 [==============================] - 0s 1ms/step - loss: 0.4218 - accuracy: 0.8039\n",
      "Epoch 30/200\n",
      "16/16 [==============================] - 0s 1ms/step - loss: 0.4026 - accuracy: 0.8105\n",
      "Epoch 31/200\n",
      "16/16 [==============================] - 0s 1ms/step - loss: 0.3920 - accuracy: 0.8105\n",
      "Epoch 32/200\n",
      "16/16 [==============================] - 0s 1ms/step - loss: 0.3823 - accuracy: 0.8301\n",
      "Epoch 33/200\n",
      "16/16 [==============================] - 0s 1ms/step - loss: 0.3794 - accuracy: 0.8170\n",
      "Epoch 34/200\n",
      "16/16 [==============================] - 0s 1ms/step - loss: 0.3874 - accuracy: 0.8170\n",
      "Epoch 35/200\n",
      "16/16 [==============================] - 0s 1ms/step - loss: 0.3834 - accuracy: 0.8301\n",
      "Epoch 36/200\n",
      "16/16 [==============================] - 0s 1ms/step - loss: 0.3739 - accuracy: 0.7974\n",
      "Epoch 37/200\n",
      "16/16 [==============================] - 0s 1ms/step - loss: 0.3600 - accuracy: 0.8235\n",
      "Epoch 38/200\n",
      "16/16 [==============================] - 0s 956us/step - loss: 0.3529 - accuracy: 0.8235\n",
      "Epoch 39/200\n",
      "16/16 [==============================] - 0s 1ms/step - loss: 0.3487 - accuracy: 0.8301\n",
      "Epoch 40/200\n",
      "16/16 [==============================] - 0s 1ms/step - loss: 0.3405 - accuracy: 0.8301\n",
      "Epoch 41/200\n",
      "16/16 [==============================] - 0s 1ms/step - loss: 0.3339 - accuracy: 0.8301\n",
      "Epoch 42/200\n",
      "16/16 [==============================] - 0s 1ms/step - loss: 0.3382 - accuracy: 0.8366\n",
      "Epoch 43/200\n",
      "16/16 [==============================] - 0s 1ms/step - loss: 0.3235 - accuracy: 0.8431\n",
      "Epoch 44/200\n",
      "16/16 [==============================] - 0s 1ms/step - loss: 0.3238 - accuracy: 0.8301\n",
      "Epoch 45/200\n",
      "16/16 [==============================] - 0s 1ms/step - loss: 0.3212 - accuracy: 0.8366\n",
      "Epoch 46/200\n",
      "16/16 [==============================] - 0s 1ms/step - loss: 0.3106 - accuracy: 0.8366\n",
      "Epoch 47/200\n",
      "16/16 [==============================] - 0s 1ms/step - loss: 0.3094 - accuracy: 0.8693\n",
      "Epoch 48/200\n",
      "16/16 [==============================] - 0s 1ms/step - loss: 0.3030 - accuracy: 0.8562\n",
      "Epoch 49/200\n",
      "16/16 [==============================] - 0s 1ms/step - loss: 0.3026 - accuracy: 0.8562\n",
      "Epoch 50/200\n",
      "16/16 [==============================] - 0s 1ms/step - loss: 0.2963 - accuracy: 0.8497\n",
      "Epoch 51/200\n",
      "16/16 [==============================] - 0s 1ms/step - loss: 0.2902 - accuracy: 0.8693\n",
      "Epoch 52/200\n",
      "16/16 [==============================] - 0s 1ms/step - loss: 0.2847 - accuracy: 0.8758\n",
      "Epoch 53/200\n",
      "16/16 [==============================] - 0s 1ms/step - loss: 0.2853 - accuracy: 0.8693\n",
      "Epoch 54/200\n",
      "16/16 [==============================] - 0s 1ms/step - loss: 0.2781 - accuracy: 0.8693\n",
      "Epoch 55/200\n",
      "16/16 [==============================] - 0s 925us/step - loss: 0.2742 - accuracy: 0.8758\n",
      "Epoch 56/200\n",
      "16/16 [==============================] - 0s 1ms/step - loss: 0.2656 - accuracy: 0.8758\n",
      "Epoch 57/200\n",
      "16/16 [==============================] - 0s 1ms/step - loss: 0.2641 - accuracy: 0.8627\n",
      "Epoch 58/200\n",
      "16/16 [==============================] - 0s 857us/step - loss: 0.2599 - accuracy: 0.8824\n",
      "Epoch 59/200\n",
      "16/16 [==============================] - 0s 870us/step - loss: 0.2551 - accuracy: 0.8758\n",
      "Epoch 60/200\n",
      "16/16 [==============================] - 0s 988us/step - loss: 0.2538 - accuracy: 0.8889\n",
      "Epoch 61/200\n",
      "16/16 [==============================] - 0s 993us/step - loss: 0.2487 - accuracy: 0.8889\n",
      "Epoch 62/200\n",
      "16/16 [==============================] - 0s 1ms/step - loss: 0.2458 - accuracy: 0.8889\n",
      "Epoch 63/200\n",
      "16/16 [==============================] - 0s 852us/step - loss: 0.2578 - accuracy: 0.8758\n",
      "Epoch 64/200\n",
      "16/16 [==============================] - 0s 760us/step - loss: 0.2457 - accuracy: 0.8954\n",
      "Epoch 65/200\n",
      "16/16 [==============================] - 0s 1ms/step - loss: 0.2380 - accuracy: 0.9020\n",
      "Epoch 66/200\n",
      "16/16 [==============================] - 0s 993us/step - loss: 0.2346 - accuracy: 0.8889\n",
      "Epoch 67/200\n",
      "16/16 [==============================] - 0s 1ms/step - loss: 0.2391 - accuracy: 0.8824\n",
      "Epoch 68/200\n",
      "16/16 [==============================] - 0s 1ms/step - loss: 0.2302 - accuracy: 0.8954\n",
      "Epoch 69/200\n",
      "16/16 [==============================] - 0s 924us/step - loss: 0.2264 - accuracy: 0.9020\n",
      "Epoch 70/200\n",
      "16/16 [==============================] - 0s 833us/step - loss: 0.2346 - accuracy: 0.8954\n",
      "Epoch 71/200\n",
      "16/16 [==============================] - 0s 967us/step - loss: 0.2239 - accuracy: 0.8954\n",
      "Epoch 72/200\n",
      "16/16 [==============================] - 0s 2ms/step - loss: 0.2215 - accuracy: 0.8954\n",
      "Epoch 73/200\n",
      "16/16 [==============================] - 0s 788us/step - loss: 0.2253 - accuracy: 0.9020\n",
      "Epoch 74/200\n",
      "16/16 [==============================] - 0s 951us/step - loss: 0.2193 - accuracy: 0.8889\n",
      "Epoch 75/200\n",
      "16/16 [==============================] - 0s 1ms/step - loss: 0.2237 - accuracy: 0.8954\n",
      "Epoch 76/200\n",
      "16/16 [==============================] - 0s 1ms/step - loss: 0.2249 - accuracy: 0.9020\n",
      "Epoch 77/200\n",
      "16/16 [==============================] - 0s 925us/step - loss: 0.2153 - accuracy: 0.8954\n",
      "Epoch 78/200\n",
      "16/16 [==============================] - 0s 1ms/step - loss: 0.2137 - accuracy: 0.8889\n",
      "Epoch 79/200\n",
      "16/16 [==============================] - 0s 1ms/step - loss: 0.2047 - accuracy: 0.9085\n",
      "Epoch 80/200\n",
      "16/16 [==============================] - 0s 1ms/step - loss: 0.2026 - accuracy: 0.9085\n",
      "Epoch 81/200\n",
      "16/16 [==============================] - 0s 1ms/step - loss: 0.2100 - accuracy: 0.9085\n",
      "Epoch 82/200\n"
     ]
    },
    {
     "name": "stdout",
     "output_type": "stream",
     "text": [
      "16/16 [==============================] - 0s 998us/step - loss: 0.2023 - accuracy: 0.9020\n",
      "Epoch 83/200\n",
      "16/16 [==============================] - 0s 715us/step - loss: 0.1976 - accuracy: 0.9085\n",
      "Epoch 84/200\n",
      "16/16 [==============================] - 0s 1ms/step - loss: 0.1996 - accuracy: 0.9085\n",
      "Epoch 85/200\n",
      "16/16 [==============================] - 0s 698us/step - loss: 0.1955 - accuracy: 0.9085\n",
      "Epoch 86/200\n",
      "16/16 [==============================] - 0s 1ms/step - loss: 0.1903 - accuracy: 0.9150\n",
      "Epoch 87/200\n",
      "16/16 [==============================] - 0s 1ms/step - loss: 0.1924 - accuracy: 0.9085\n",
      "Epoch 88/200\n",
      "16/16 [==============================] - 0s 1ms/step - loss: 0.1853 - accuracy: 0.9085\n",
      "Epoch 89/200\n",
      "16/16 [==============================] - 0s 953us/step - loss: 0.1899 - accuracy: 0.9216\n",
      "Epoch 90/200\n",
      "16/16 [==============================] - 0s 1ms/step - loss: 0.1848 - accuracy: 0.9281\n",
      "Epoch 91/200\n",
      "16/16 [==============================] - 0s 1ms/step - loss: 0.1841 - accuracy: 0.9150\n",
      "Epoch 92/200\n",
      "16/16 [==============================] - 0s 1ms/step - loss: 0.1844 - accuracy: 0.9281\n",
      "Epoch 93/200\n",
      "16/16 [==============================] - 0s 703us/step - loss: 0.1766 - accuracy: 0.9216\n",
      "Epoch 94/200\n",
      "16/16 [==============================] - 0s 903us/step - loss: 0.1743 - accuracy: 0.9150\n",
      "Epoch 95/200\n",
      "16/16 [==============================] - 0s 1ms/step - loss: 0.1894 - accuracy: 0.9150\n",
      "Epoch 96/200\n",
      "16/16 [==============================] - 0s 860us/step - loss: 0.1732 - accuracy: 0.9085\n",
      "Epoch 97/200\n",
      "16/16 [==============================] - 0s 965us/step - loss: 0.1699 - accuracy: 0.9281\n",
      "Epoch 98/200\n",
      "16/16 [==============================] - 0s 1ms/step - loss: 0.1709 - accuracy: 0.9150\n",
      "Epoch 99/200\n",
      "16/16 [==============================] - 0s 921us/step - loss: 0.1656 - accuracy: 0.9281\n",
      "Epoch 100/200\n",
      "16/16 [==============================] - 0s 926us/step - loss: 0.1649 - accuracy: 0.9216\n",
      "Epoch 101/200\n",
      "16/16 [==============================] - 0s 1ms/step - loss: 0.1672 - accuracy: 0.9412\n",
      "Epoch 102/200\n",
      "16/16 [==============================] - 0s 1ms/step - loss: 0.1602 - accuracy: 0.9216\n",
      "Epoch 103/200\n",
      "16/16 [==============================] - 0s 908us/step - loss: 0.1670 - accuracy: 0.9346\n",
      "Epoch 104/200\n",
      "16/16 [==============================] - 0s 1ms/step - loss: 0.1590 - accuracy: 0.9085\n",
      "Epoch 105/200\n",
      "16/16 [==============================] - 0s 1ms/step - loss: 0.1529 - accuracy: 0.9281\n",
      "Epoch 106/200\n",
      "16/16 [==============================] - 0s 1ms/step - loss: 0.1546 - accuracy: 0.9412\n",
      "Epoch 107/200\n",
      "16/16 [==============================] - 0s 1ms/step - loss: 0.1524 - accuracy: 0.9477\n",
      "Epoch 108/200\n",
      "16/16 [==============================] - 0s 984us/step - loss: 0.1569 - accuracy: 0.9085\n",
      "Epoch 109/200\n",
      "16/16 [==============================] - 0s 1ms/step - loss: 0.1539 - accuracy: 0.9346\n",
      "Epoch 110/200\n",
      "16/16 [==============================] - 0s 1ms/step - loss: 0.1558 - accuracy: 0.9216\n",
      "Epoch 111/200\n",
      "16/16 [==============================] - 0s 1ms/step - loss: 0.1562 - accuracy: 0.9216\n",
      "Epoch 112/200\n",
      "16/16 [==============================] - 0s 932us/step - loss: 0.1494 - accuracy: 0.9412\n",
      "Epoch 113/200\n",
      "16/16 [==============================] - 0s 920us/step - loss: 0.1454 - accuracy: 0.9346\n",
      "Epoch 114/200\n",
      "16/16 [==============================] - 0s 860us/step - loss: 0.1405 - accuracy: 0.9412\n",
      "Epoch 115/200\n",
      "16/16 [==============================] - 0s 989us/step - loss: 0.1412 - accuracy: 0.9346\n",
      "Epoch 116/200\n",
      "16/16 [==============================] - 0s 1ms/step - loss: 0.1396 - accuracy: 0.9477\n",
      "Epoch 117/200\n",
      "16/16 [==============================] - 0s 925us/step - loss: 0.1401 - accuracy: 0.9412\n",
      "Epoch 118/200\n",
      "16/16 [==============================] - 0s 941us/step - loss: 0.1434 - accuracy: 0.9346\n",
      "Epoch 119/200\n",
      "16/16 [==============================] - 0s 861us/step - loss: 0.1405 - accuracy: 0.9346\n",
      "Epoch 120/200\n",
      "16/16 [==============================] - 0s 862us/step - loss: 0.1470 - accuracy: 0.9281\n",
      "Epoch 121/200\n",
      "16/16 [==============================] - 0s 1ms/step - loss: 0.1468 - accuracy: 0.9412\n",
      "Epoch 122/200\n",
      "16/16 [==============================] - 0s 989us/step - loss: 0.1360 - accuracy: 0.9412\n",
      "Epoch 123/200\n",
      "16/16 [==============================] - 0s 927us/step - loss: 0.1350 - accuracy: 0.9281\n",
      "Epoch 124/200\n",
      "16/16 [==============================] - 0s 862us/step - loss: 0.1271 - accuracy: 0.9477\n",
      "Epoch 125/200\n",
      "16/16 [==============================] - 0s 747us/step - loss: 0.1308 - accuracy: 0.9412\n",
      "Epoch 126/200\n",
      "16/16 [==============================] - 0s 918us/step - loss: 0.1279 - accuracy: 0.9412\n",
      "Epoch 127/200\n",
      "16/16 [==============================] - 0s 1ms/step - loss: 0.1274 - accuracy: 0.9346\n",
      "Epoch 128/200\n",
      "16/16 [==============================] - 0s 933us/step - loss: 0.1257 - accuracy: 0.9542\n",
      "Epoch 129/200\n",
      "16/16 [==============================] - 0s 1ms/step - loss: 0.1236 - accuracy: 0.9412\n",
      "Epoch 130/200\n",
      "16/16 [==============================] - 0s 950us/step - loss: 0.1239 - accuracy: 0.9412\n",
      "Epoch 131/200\n",
      "16/16 [==============================] - 0s 922us/step - loss: 0.1190 - accuracy: 0.9477\n",
      "Epoch 132/200\n",
      "16/16 [==============================] - 0s 1ms/step - loss: 0.1238 - accuracy: 0.9346\n",
      "Epoch 133/200\n",
      "16/16 [==============================] - 0s 1ms/step - loss: 0.1311 - accuracy: 0.9477\n",
      "Epoch 134/200\n",
      "16/16 [==============================] - 0s 1ms/step - loss: 0.1243 - accuracy: 0.9477\n",
      "Epoch 135/200\n",
      "16/16 [==============================] - 0s 908us/step - loss: 0.1155 - accuracy: 0.9477\n",
      "Epoch 136/200\n",
      "16/16 [==============================] - 0s 920us/step - loss: 0.1215 - accuracy: 0.9477\n",
      "Epoch 137/200\n",
      "16/16 [==============================] - 0s 853us/step - loss: 0.1124 - accuracy: 0.9542\n",
      "Epoch 138/200\n",
      "16/16 [==============================] - 0s 1ms/step - loss: 0.1183 - accuracy: 0.9477\n",
      "Epoch 139/200\n",
      "16/16 [==============================] - 0s 853us/step - loss: 0.1145 - accuracy: 0.9542\n",
      "Epoch 140/200\n",
      "16/16 [==============================] - 0s 1ms/step - loss: 0.1145 - accuracy: 0.9608\n",
      "Epoch 141/200\n",
      "16/16 [==============================] - 0s 1ms/step - loss: 0.1160 - accuracy: 0.9477\n",
      "Epoch 142/200\n",
      "16/16 [==============================] - 0s 942us/step - loss: 0.1103 - accuracy: 0.9477\n",
      "Epoch 143/200\n",
      "16/16 [==============================] - 0s 1ms/step - loss: 0.1094 - accuracy: 0.9608\n",
      "Epoch 144/200\n",
      "16/16 [==============================] - 0s 1ms/step - loss: 0.1067 - accuracy: 0.9412\n",
      "Epoch 145/200\n",
      "16/16 [==============================] - 0s 951us/step - loss: 0.1055 - accuracy: 0.9608\n",
      "Epoch 146/200\n",
      "16/16 [==============================] - 0s 1ms/step - loss: 0.1077 - accuracy: 0.9542\n",
      "Epoch 147/200\n",
      "16/16 [==============================] - 0s 961us/step - loss: 0.1045 - accuracy: 0.9477\n",
      "Epoch 148/200\n",
      "16/16 [==============================] - 0s 991us/step - loss: 0.1061 - accuracy: 0.9542\n",
      "Epoch 149/200\n",
      "16/16 [==============================] - 0s 848us/step - loss: 0.1001 - accuracy: 0.9673\n",
      "Epoch 150/200\n",
      "16/16 [==============================] - 0s 1ms/step - loss: 0.0993 - accuracy: 0.9542\n",
      "Epoch 151/200\n",
      "16/16 [==============================] - 0s 939us/step - loss: 0.0988 - accuracy: 0.9608\n",
      "Epoch 152/200\n",
      "16/16 [==============================] - 0s 2ms/step - loss: 0.1023 - accuracy: 0.9542\n",
      "Epoch 153/200\n",
      "16/16 [==============================] - 0s 960us/step - loss: 0.0994 - accuracy: 0.9608\n",
      "Epoch 154/200\n",
      "16/16 [==============================] - 0s 672us/step - loss: 0.1006 - accuracy: 0.9477\n",
      "Epoch 155/200\n",
      "16/16 [==============================] - 0s 922us/step - loss: 0.0935 - accuracy: 0.9542\n",
      "Epoch 156/200\n",
      "16/16 [==============================] - 0s 900us/step - loss: 0.0920 - accuracy: 0.9542\n",
      "Epoch 157/200\n",
      "16/16 [==============================] - 0s 881us/step - loss: 0.0960 - accuracy: 0.9542\n",
      "Epoch 158/200\n",
      "16/16 [==============================] - 0s 849us/step - loss: 0.0939 - accuracy: 0.9608\n",
      "Epoch 159/200\n",
      "16/16 [==============================] - 0s 1ms/step - loss: 0.0955 - accuracy: 0.9673\n",
      "Epoch 160/200\n",
      "16/16 [==============================] - 0s 963us/step - loss: 0.0910 - accuracy: 0.9804\n",
      "Epoch 161/200\n",
      "16/16 [==============================] - 0s 1ms/step - loss: 0.0882 - accuracy: 0.9739\n",
      "Epoch 162/200\n"
     ]
    },
    {
     "name": "stdout",
     "output_type": "stream",
     "text": [
      "16/16 [==============================] - 0s 998us/step - loss: 0.0899 - accuracy: 0.9608\n",
      "Epoch 163/200\n",
      "16/16 [==============================] - 0s 981us/step - loss: 0.0921 - accuracy: 0.9673\n",
      "Epoch 164/200\n",
      "16/16 [==============================] - 0s 1ms/step - loss: 0.0902 - accuracy: 0.9673\n",
      "Epoch 165/200\n",
      "16/16 [==============================] - 0s 970us/step - loss: 0.0862 - accuracy: 0.9673\n",
      "Epoch 166/200\n",
      "16/16 [==============================] - 0s 938us/step - loss: 0.0910 - accuracy: 0.9673\n",
      "Epoch 167/200\n",
      "16/16 [==============================] - 0s 958us/step - loss: 0.0899 - accuracy: 0.9673\n",
      "Epoch 168/200\n",
      "16/16 [==============================] - 0s 990us/step - loss: 0.0836 - accuracy: 0.9804\n",
      "Epoch 169/200\n",
      "16/16 [==============================] - 0s 1ms/step - loss: 0.0925 - accuracy: 0.9608\n",
      "Epoch 170/200\n",
      "16/16 [==============================] - 0s 872us/step - loss: 0.0832 - accuracy: 0.9739\n",
      "Epoch 171/200\n",
      "16/16 [==============================] - 0s 994us/step - loss: 0.0900 - accuracy: 0.9673\n",
      "Epoch 172/200\n",
      "16/16 [==============================] - 0s 813us/step - loss: 0.0824 - accuracy: 0.9673\n",
      "Epoch 173/200\n",
      "16/16 [==============================] - 0s 976us/step - loss: 0.0866 - accuracy: 0.9869\n",
      "Epoch 174/200\n",
      "16/16 [==============================] - 0s 892us/step - loss: 0.0833 - accuracy: 0.9739\n",
      "Epoch 175/200\n",
      "16/16 [==============================] - 0s 981us/step - loss: 0.0815 - accuracy: 0.9739\n",
      "Epoch 176/200\n",
      "16/16 [==============================] - 0s 1ms/step - loss: 0.0891 - accuracy: 0.9673\n",
      "Epoch 177/200\n",
      "16/16 [==============================] - 0s 955us/step - loss: 0.0754 - accuracy: 0.9804\n",
      "Epoch 178/200\n",
      "16/16 [==============================] - 0s 1ms/step - loss: 0.0796 - accuracy: 0.9739\n",
      "Epoch 179/200\n",
      "16/16 [==============================] - 0s 879us/step - loss: 0.0775 - accuracy: 0.9739\n",
      "Epoch 180/200\n",
      "16/16 [==============================] - 0s 978us/step - loss: 0.0724 - accuracy: 0.9673\n",
      "Epoch 181/200\n",
      "16/16 [==============================] - 0s 855us/step - loss: 0.0788 - accuracy: 0.9804\n",
      "Epoch 182/200\n",
      "16/16 [==============================] - 0s 1ms/step - loss: 0.0788 - accuracy: 0.9739\n",
      "Epoch 183/200\n",
      "16/16 [==============================] - 0s 854us/step - loss: 0.0731 - accuracy: 0.9739\n",
      "Epoch 184/200\n",
      "16/16 [==============================] - 0s 1ms/step - loss: 0.0720 - accuracy: 0.9739\n",
      "Epoch 185/200\n",
      "16/16 [==============================] - 0s 881us/step - loss: 0.0788 - accuracy: 0.9739\n",
      "Epoch 186/200\n",
      "16/16 [==============================] - 0s 996us/step - loss: 0.0719 - accuracy: 0.9739\n",
      "Epoch 187/200\n",
      "16/16 [==============================] - 0s 818us/step - loss: 0.0673 - accuracy: 0.9804\n",
      "Epoch 188/200\n",
      "16/16 [==============================] - 0s 931us/step - loss: 0.0686 - accuracy: 0.9739\n",
      "Epoch 189/200\n",
      "16/16 [==============================] - 0s 820us/step - loss: 0.0656 - accuracy: 0.9804\n",
      "Epoch 190/200\n",
      "16/16 [==============================] - 0s 885us/step - loss: 0.0642 - accuracy: 0.9804\n",
      "Epoch 191/200\n",
      "16/16 [==============================] - 0s 974us/step - loss: 0.0677 - accuracy: 0.9869\n",
      "Epoch 192/200\n",
      "16/16 [==============================] - 0s 985us/step - loss: 0.0786 - accuracy: 0.9739\n",
      "Epoch 193/200\n",
      "16/16 [==============================] - 0s 1ms/step - loss: 0.0717 - accuracy: 0.9804\n",
      "Epoch 194/200\n",
      "16/16 [==============================] - 0s 938us/step - loss: 0.0659 - accuracy: 0.9739\n",
      "Epoch 195/200\n",
      "16/16 [==============================] - 0s 993us/step - loss: 0.0663 - accuracy: 0.9804\n",
      "Epoch 196/200\n",
      "16/16 [==============================] - 0s 892us/step - loss: 0.0664 - accuracy: 0.9804\n",
      "Epoch 197/200\n",
      "16/16 [==============================] - 0s 988us/step - loss: 0.0637 - accuracy: 0.9739\n",
      "Epoch 198/200\n",
      "16/16 [==============================] - 0s 947us/step - loss: 0.0620 - accuracy: 0.9804\n",
      "Epoch 199/200\n",
      "16/16 [==============================] - 0s 1ms/step - loss: 0.0627 - accuracy: 0.9804\n",
      "Epoch 200/200\n",
      "16/16 [==============================] - 0s 901us/step - loss: 0.0577 - accuracy: 0.9869\n",
      "2/2 [==============================] - 0s 16ms/step\n"
     ]
    }
   ],
   "source": [
    "nn_pred = NNModel(NNX_train, NNy_train, NNX_test, 12)"
   ]
  },
  {
   "cell_type": "code",
   "execution_count": 54,
   "metadata": {
    "colab": {
     "base_uri": "https://localhost:8080/",
     "height": 457
    },
    "id": "jmQ7zAwHg_-6",
    "outputId": "37fa2366-d54a-42cf-d77e-25ea9a12d257"
   },
   "outputs": [
    {
     "name": "stdout",
     "output_type": "stream",
     "text": [
      "Test Result:\n",
      "================================================\n",
      "Accuracy Score: 0.5128205128205128\n",
      "F1 Score: 0.6779661016949152\n",
      "Precision: 0.5128205128205128\n",
      "Recall: 1.0\n",
      "\n"
     ]
    },
    {
     "data": {
      "image/png": "[encoded data removed]",
      "text/plain": [
       "<Figure size 360x360 with 2 Axes>"
      ]
     },
     "metadata": {
      "needs_background": "light"
     },
     "output_type": "display_data"
    }
   ],
   "source": [
    "modelPerformace(NNy_test, nn_pred, 'Neutral Network Model', False)"
   ]
  },
  {
   "cell_type": "code",
   "execution_count": 55,
   "metadata": {
    "colab": {
     "base_uri": "https://localhost:8080/",
     "height": 237
    },
    "id": "M1POwImaU6OD",
    "outputId": "07f877db-6006-44b7-a550-6916411d5bc1"
   },
   "outputs": [
    {
     "data": {
      "text/html": [
       "<div>\n",
       "<style scoped>\n",
       "    .dataframe tbody tr th:only-of-type {\n",
       "        vertical-align: middle;\n",
       "    }\n",
       "\n",
       "    .dataframe tbody tr th {\n",
       "        vertical-align: top;\n",
       "    }\n",
       "\n",
       "    .dataframe thead th {\n",
       "        text-align: right;\n",
       "    }\n",
       "</style>\n",
       "<table border=\"1\" class=\"dataframe\">\n",
       "  <thead>\n",
       "    <tr style=\"text-align: right;\">\n",
       "      <th></th>\n",
       "      <th>Model</th>\n",
       "      <th>Accuracy</th>\n",
       "      <th>F1_Score</th>\n",
       "      <th>Precision</th>\n",
       "      <th>Recall</th>\n",
       "    </tr>\n",
       "  </thead>\n",
       "  <tbody>\n",
       "    <tr>\n",
       "      <th>0</th>\n",
       "      <td>Naive Bayes</td>\n",
       "      <td>0.769231</td>\n",
       "      <td>0.767710</td>\n",
       "      <td>0.792224</td>\n",
       "      <td>0.769231</td>\n",
       "    </tr>\n",
       "    <tr>\n",
       "      <th>1</th>\n",
       "      <td>Logistic Regression</td>\n",
       "      <td>0.846154</td>\n",
       "      <td>0.843227</td>\n",
       "      <td>0.859341</td>\n",
       "      <td>0.846154</td>\n",
       "    </tr>\n",
       "    <tr>\n",
       "      <th>2</th>\n",
       "      <td>Support Vector Machine</td>\n",
       "      <td>0.461538</td>\n",
       "      <td>0.631579</td>\n",
       "      <td>0.461538</td>\n",
       "      <td>1.000000</td>\n",
       "    </tr>\n",
       "    <tr>\n",
       "      <th>3</th>\n",
       "      <td>Random Forest Classifier</td>\n",
       "      <td>0.897436</td>\n",
       "      <td>0.897436</td>\n",
       "      <td>0.897436</td>\n",
       "      <td>0.897436</td>\n",
       "    </tr>\n",
       "    <tr>\n",
       "      <th>4</th>\n",
       "      <td>K Nearest Neighbors</td>\n",
       "      <td>0.743590</td>\n",
       "      <td>0.743927</td>\n",
       "      <td>0.748178</td>\n",
       "      <td>0.743590</td>\n",
       "    </tr>\n",
       "    <tr>\n",
       "      <th>5</th>\n",
       "      <td>Neutral Network Model</td>\n",
       "      <td>0.512821</td>\n",
       "      <td>0.677966</td>\n",
       "      <td>0.512821</td>\n",
       "      <td>1.000000</td>\n",
       "    </tr>\n",
       "  </tbody>\n",
       "</table>\n",
       "</div>"
      ],
      "text/plain": [
       "                      Model  Accuracy  F1_Score  Precision    Recall\n",
       "0               Naive Bayes  0.769231  0.767710   0.792224  0.769231\n",
       "1       Logistic Regression  0.846154  0.843227   0.859341  0.846154\n",
       "2    Support Vector Machine  0.461538  0.631579   0.461538  1.000000\n",
       "3  Random Forest Classifier  0.897436  0.897436   0.897436  0.897436\n",
       "4       K Nearest Neighbors  0.743590  0.743927   0.748178  0.743590\n",
       "5     Neutral Network Model  0.512821  0.677966   0.512821  1.000000"
      ]
     },
     "execution_count": 55,
     "metadata": {},
     "output_type": "execute_result"
    }
   ],
   "source": [
    "results_classication_df"
   ]
  },
  {
   "cell_type": "markdown",
   "metadata": {
    "id": "M-vHN6AHifcS"
   },
   "source": [
    "### **SMOTE**"
   ]
  },
  {
   "cell_type": "code",
   "execution_count": 56,
   "metadata": {
    "id": "TXOmQAHjijy4"
   },
   "outputs": [],
   "source": [
    "from imblearn.over_sampling import SMOTE"
   ]
  },
  {
   "cell_type": "code",
   "execution_count": 57,
   "metadata": {
    "id": "J7a3NTqP70aG"
   },
   "outputs": [],
   "source": [
    "smote = SMOTE(random_state = 14)"
   ]
  },
  {
   "cell_type": "code",
   "execution_count": 58,
   "metadata": {
    "id": "v38dPDPg842H"
   },
   "outputs": [],
   "source": [
    "X_smote, y_smote = smote.fit_resample(X, y)"
   ]
  },
  {
   "cell_type": "code",
   "execution_count": 59,
   "metadata": {
    "colab": {
     "base_uri": "https://localhost:8080/",
     "height": 329
    },
    "id": "gbmxCy6D842I",
    "outputId": "69635f95-5e3a-4891-ea40-5e30a016794f"
   },
   "outputs": [
    {
     "data": {
      "image/png": "[encoded data removed]",
      "text/plain": [
       "<Figure size 432x288 with 1 Axes>"
      ]
     },
     "metadata": {
      "needs_background": "light"
     },
     "output_type": "display_data"
    }
   ],
   "source": [
    "ax = y_smote.value_counts().plot(kind=\"bar\", color=[\"salmon\", \"lightblue\"]);\n",
    "plt.xticks([0,1],['Survived', 'Dead'])\n",
    "plt.title('Cases of Death Events Due to Heart Disease');\n",
    "\n",
    "ax.set_xlabel(\"DEATH EVENTS\")\n",
    "ax.set_ylabel(\"COUNT\")\n",
    "for rect in ax.patches:\n",
    "    y_value = rect.get_height()\n",
    "    x_value = rect.get_x() + rect.get_width() / 2\n",
    "    space = -15\n",
    "    label = \"{:.0f}\".format(y_value)\n",
    "    ax.annotate(label, (x_value, y_value), xytext=(0, space), textcoords=\"offset points\", ha='center', va='bottom')\n",
    "plt.show()"
   ]
  },
  {
   "cell_type": "markdown",
   "metadata": {
    "id": "07zi60HQ842I"
   },
   "source": [
    "**Splitting Balanced Dataset into Training Set and Testing Set**"
   ]
  },
  {
   "cell_type": "code",
   "execution_count": 60,
   "metadata": {
    "id": "Upms_Bjr842I"
   },
   "outputs": [],
   "source": [
    "from sklearn.model_selection import train_test_split\n",
    "X_train, X_test, y_train, y_test = train_test_split(X_smote, y_smote, test_size=0.2, random_state=42)"
   ]
  },
  {
   "cell_type": "markdown",
   "metadata": {
    "id": "yIEPOb8z842J"
   },
   "source": [
    "**Naive Bayes Model**"
   ]
  },
  {
   "cell_type": "code",
   "execution_count": 61,
   "metadata": {
    "id": "IAOB65f7842J"
   },
   "outputs": [],
   "source": [
    "y_pred = naiveBayesModel(X_train, y_train, X_test)"
   ]
  },
  {
   "cell_type": "code",
   "execution_count": 62,
   "metadata": {
    "colab": {
     "base_uri": "https://localhost:8080/",
     "height": 457
    },
    "id": "WirktuEU842J",
    "outputId": "4d920894-da6c-4eab-8851-c81a73d1df38"
   },
   "outputs": [
    {
     "name": "stdout",
     "output_type": "stream",
     "text": [
      "Test Result:\n",
      "================================================\n",
      "Accuracy Score: 0.8170731707317073\n",
      "F1 Score: 0.8168279970215934\n",
      "Precision: 0.81877990430622\n",
      "Recall: 0.8170731707317073\n",
      "\n"
     ]
    },
    {
     "data": {
      "image/png": "[encoded data removed]",
      "text/plain": [
       "<Figure size 360x360 with 2 Axes>"
      ]
     },
     "metadata": {
      "needs_background": "light"
     },
     "output_type": "display_data"
    }
   ],
   "source": [
    "modelPerformace(y_test, y_pred, 'Naive Bayes', True)"
   ]
  },
  {
   "cell_type": "markdown",
   "metadata": {
    "id": "Dn4lxKld842J"
   },
   "source": [
    "**Logistic Regression Model**"
   ]
  },
  {
   "cell_type": "code",
   "execution_count": 63,
   "metadata": {
    "id": "p5h9mX7n842J"
   },
   "outputs": [],
   "source": [
    "y_pred_logidtic = logisticRegressionModel(X_train, y_train, X_test)"
   ]
  },
  {
   "cell_type": "code",
   "execution_count": 64,
   "metadata": {
    "colab": {
     "base_uri": "https://localhost:8080/",
     "height": 457
    },
    "id": "W_Ef05c6842J",
    "outputId": "5a7034e1-8366-4093-d810-86e102755de1"
   },
   "outputs": [
    {
     "name": "stdout",
     "output_type": "stream",
     "text": [
      "Test Result:\n",
      "================================================\n",
      "Accuracy Score: 0.7804878048780488\n",
      "F1 Score: 0.7803571428571429\n",
      "Precision: 0.7811568276684557\n",
      "Recall: 0.7804878048780488\n",
      "\n"
     ]
    },
    {
     "data": {
      "image/png": "[encoded data removed]",
      "text/plain": [
       "<Figure size 360x360 with 2 Axes>"
      ]
     },
     "metadata": {
      "needs_background": "light"
     },
     "output_type": "display_data"
    }
   ],
   "source": [
    "modelPerformace(y_test, y_pred_logidtic, 'Logistic Regression', False)"
   ]
  },
  {
   "cell_type": "markdown",
   "metadata": {
    "id": "rwJe0sfZ842K"
   },
   "source": [
    "**Support Vector Machine Model**"
   ]
  },
  {
   "cell_type": "code",
   "execution_count": 65,
   "metadata": {
    "id": "aSSkxNq2842K"
   },
   "outputs": [],
   "source": [
    "y_pred_SVC = SVCModel(X_train, y_train, X_test)"
   ]
  },
  {
   "cell_type": "code",
   "execution_count": 66,
   "metadata": {
    "colab": {
     "base_uri": "https://localhost:8080/",
     "height": 457
    },
    "id": "KP9HZekp842K",
    "outputId": "6e8f1c6e-dd8c-423c-c514-003ba18ca9e4"
   },
   "outputs": [
    {
     "name": "stdout",
     "output_type": "stream",
     "text": [
      "Test Result:\n",
      "================================================\n",
      "Accuracy Score: 0.7073170731707317\n",
      "F1 Score: 0.7073170731707317\n",
      "Precision: 0.7073170731707317\n",
      "Recall: 0.7073170731707317\n",
      "\n"
     ]
    },
    {
     "data": {
      "image/png": "[encoded data removed]",
      "text/plain": [
       "<Figure size 360x360 with 2 Axes>"
      ]
     },
     "metadata": {
      "needs_background": "light"
     },
     "output_type": "display_data"
    }
   ],
   "source": [
    "modelPerformace(y_test, y_pred_SVC, 'Support Vector Machine', False)"
   ]
  },
  {
   "cell_type": "markdown",
   "metadata": {
    "id": "lR_Yvvs9842K"
   },
   "source": [
    "**Random Forest Model**"
   ]
  },
  {
   "cell_type": "code",
   "execution_count": 67,
   "metadata": {
    "id": "-8scPGZj842K"
   },
   "outputs": [],
   "source": [
    "y_pred_RandomForest = randomForestModel(X_train, y_train, X_test)"
   ]
  },
  {
   "cell_type": "code",
   "execution_count": 68,
   "metadata": {
    "colab": {
     "base_uri": "https://localhost:8080/",
     "height": 457
    },
    "id": "9a8elAWC842L",
    "outputId": "d845dfb7-c578-42a1-e40a-fb61c1857bb6"
   },
   "outputs": [
    {
     "name": "stdout",
     "output_type": "stream",
     "text": [
      "Test Result:\n",
      "================================================\n",
      "Accuracy Score: 0.8414634146341463\n",
      "F1 Score: 0.8412509307520478\n",
      "Precision: 0.8433014354066987\n",
      "Recall: 0.8414634146341463\n",
      "\n"
     ]
    },
    {
     "data": {
      "image/png": "[encoded data removed]",
      "text/plain": [
       "<Figure size 360x360 with 2 Axes>"
      ]
     },
     "metadata": {
      "needs_background": "light"
     },
     "output_type": "display_data"
    }
   ],
   "source": [
    "modelPerformace(y_test, y_pred_RandomForest, 'Random Forest Classifier', False)"
   ]
  },
  {
   "cell_type": "markdown",
   "metadata": {
    "id": "Dk3S3tPg842L"
   },
   "source": [
    "**K Nearest Neighbors Model**"
   ]
  },
  {
   "cell_type": "code",
   "execution_count": 69,
   "metadata": {
    "colab": {
     "base_uri": "https://localhost:8080/",
     "height": 625
    },
    "id": "cxRO6_i0842L",
    "outputId": "9191f3ca-5828-4f8d-847c-f144734f895b"
   },
   "outputs": [
    {
     "data": {
      "image/png": "[encoded data removed]",
      "text/plain": [
       "<Figure size 432x288 with 1 Axes>"
      ]
     },
     "metadata": {
      "needs_background": "light"
     },
     "output_type": "display_data"
    },
    {
     "name": "stdout",
     "output_type": "stream",
     "text": [
      "\n"
     ]
    },
    {
     "data": {
      "image/png": "[encoded data removed]",
      "text/plain": [
       "<Figure size 432x288 with 1 Axes>"
      ]
     },
     "metadata": {
      "needs_background": "light"
     },
     "output_type": "display_data"
    },
    {
     "name": "stdout",
     "output_type": "stream",
     "text": [
      "\n",
      "Error rate lowest for K value is:1\n"
     ]
    }
   ],
   "source": [
    "y_pred_KNeighbors = KNNModel(X_train, y_train, X_test, y_test)"
   ]
  },
  {
   "cell_type": "code",
   "execution_count": 70,
   "metadata": {
    "colab": {
     "base_uri": "https://localhost:8080/",
     "height": 457
    },
    "id": "snuHf5AJ842M",
    "outputId": "0c9b5bdf-d4bc-41be-cc5f-2ef3f49809a6"
   },
   "outputs": [
    {
     "name": "stdout",
     "output_type": "stream",
     "text": [
      "Test Result:\n",
      "================================================\n",
      "Accuracy Score: 0.7073170731707317\n",
      "F1 Score: 0.7073170731707317\n",
      "Precision: 0.7073170731707317\n",
      "Recall: 0.7073170731707317\n",
      "\n"
     ]
    },
    {
     "data": {
      "image/png": "[encoded data removed]",
      "text/plain": [
       "<Figure size 360x360 with 2 Axes>"
      ]
     },
     "metadata": {
      "needs_background": "light"
     },
     "output_type": "display_data"
    }
   ],
   "source": [
    "modelPerformace(y_test, y_pred_KNeighbors, 'K Nearest Neighbors', False)"
   ]
  },
  {
   "cell_type": "markdown",
   "metadata": {
    "id": "whziEbgn842M"
   },
   "source": [
    "**Multi-Layer Perceptron Neural Networks Model**"
   ]
  },
  {
   "cell_type": "code",
   "execution_count": 71,
   "metadata": {
    "id": "nfBdQWFU842M"
   },
   "outputs": [],
   "source": [
    "NNX = np.array(X_smote)\n",
    "NNy = np.array(y_smote)"
   ]
  },
  {
   "cell_type": "code",
   "execution_count": 72,
   "metadata": {
    "id": "rb-DWRe4842M"
   },
   "outputs": [],
   "source": [
    "# create X and Y datasets for training\n",
    "from sklearn import model_selection\n",
    "NNX_train, NNX_test, NNy_train, NNy_test = model_selection.train_test_split(NNX, NNy, stratify=NNy, random_state=42, test_size = 0.2)"
   ]
  },
  {
   "cell_type": "code",
   "execution_count": 73,
   "metadata": {
    "colab": {
     "base_uri": "https://localhost:8080/"
    },
    "id": "EszCLmpb842M",
    "outputId": "85f58aea-804f-4a85-92fb-0d61106e0c2c"
   },
   "outputs": [
    {
     "name": "stdout",
     "output_type": "stream",
     "text": [
      "Epoch 1/200\n",
      "33/33 [==============================] - 1s 1ms/step - loss: 7.7125 - accuracy: 0.5000\n",
      "Epoch 2/200\n",
      "33/33 [==============================] - 0s 1ms/step - loss: 7.7125 - accuracy: 0.5000\n",
      "Epoch 3/200\n",
      "33/33 [==============================] - 0s 814us/step - loss: 7.7125 - accuracy: 0.5000\n",
      "Epoch 4/200\n",
      "33/33 [==============================] - 0s 860us/step - loss: 7.7125 - accuracy: 0.5000\n",
      "Epoch 5/200\n",
      "33/33 [==============================] - 0s 836us/step - loss: 7.7125 - accuracy: 0.5000\n",
      "Epoch 6/200\n",
      "33/33 [==============================] - 0s 880us/step - loss: 7.7125 - accuracy: 0.5000\n",
      "Epoch 7/200\n",
      "33/33 [==============================] - 0s 783us/step - loss: 7.7125 - accuracy: 0.5000\n",
      "Epoch 8/200\n",
      "33/33 [==============================] - 0s 840us/step - loss: 7.7125 - accuracy: 0.5000\n",
      "Epoch 9/200\n",
      "33/33 [==============================] - 0s 807us/step - loss: 7.7125 - accuracy: 0.5000\n",
      "Epoch 10/200\n",
      "33/33 [==============================] - 0s 808us/step - loss: 7.7125 - accuracy: 0.5000\n",
      "Epoch 11/200\n",
      "33/33 [==============================] - 0s 808us/step - loss: 7.7125 - accuracy: 0.5000\n",
      "Epoch 12/200\n",
      "33/33 [==============================] - 0s 746us/step - loss: 7.7125 - accuracy: 0.5000\n",
      "Epoch 13/200\n",
      "33/33 [==============================] - 0s 867us/step - loss: 7.7125 - accuracy: 0.5000\n",
      "Epoch 14/200\n",
      "33/33 [==============================] - 0s 803us/step - loss: 7.7125 - accuracy: 0.5000\n",
      "Epoch 15/200\n",
      "33/33 [==============================] - 0s 868us/step - loss: 7.7125 - accuracy: 0.5000\n",
      "Epoch 16/200\n",
      "33/33 [==============================] - 0s 868us/step - loss: 7.7125 - accuracy: 0.5000\n",
      "Epoch 17/200\n",
      "33/33 [==============================] - 0s 839us/step - loss: 7.7125 - accuracy: 0.5000\n",
      "Epoch 18/200\n",
      "33/33 [==============================] - 0s 1ms/step - loss: 7.7125 - accuracy: 0.5000\n",
      "Epoch 19/200\n",
      "33/33 [==============================] - 0s 1ms/step - loss: 7.7125 - accuracy: 0.5000\n",
      "Epoch 20/200\n",
      "33/33 [==============================] - 0s 1ms/step - loss: 7.7125 - accuracy: 0.5000\n",
      "Epoch 21/200\n",
      "33/33 [==============================] - 0s 1ms/step - loss: 7.7125 - accuracy: 0.5000\n",
      "Epoch 22/200\n",
      "33/33 [==============================] - 0s 832us/step - loss: 7.7125 - accuracy: 0.5000\n",
      "Epoch 23/200\n",
      "33/33 [==============================] - 0s 808us/step - loss: 7.7125 - accuracy: 0.5000\n",
      "Epoch 24/200\n",
      "33/33 [==============================] - 0s 751us/step - loss: 7.7125 - accuracy: 0.5000\n",
      "Epoch 25/200\n",
      "33/33 [==============================] - 0s 772us/step - loss: 7.7125 - accuracy: 0.5000\n",
      "Epoch 26/200\n",
      "33/33 [==============================] - 0s 844us/step - loss: 7.7125 - accuracy: 0.5000\n",
      "Epoch 27/200\n",
      "33/33 [==============================] - 0s 770us/step - loss: 7.7125 - accuracy: 0.5000\n",
      "Epoch 28/200\n",
      "33/33 [==============================] - 0s 809us/step - loss: 7.7125 - accuracy: 0.5000\n",
      "Epoch 29/200\n",
      "33/33 [==============================] - 0s 808us/step - loss: 7.7125 - accuracy: 0.5000\n",
      "Epoch 30/200\n",
      "33/33 [==============================] - 0s 825us/step - loss: 7.7125 - accuracy: 0.5000\n",
      "Epoch 31/200\n",
      "33/33 [==============================] - 0s 779us/step - loss: 7.7125 - accuracy: 0.5000\n",
      "Epoch 32/200\n",
      "33/33 [==============================] - 0s 843us/step - loss: 7.7125 - accuracy: 0.5000\n",
      "Epoch 33/200\n",
      "33/33 [==============================] - 0s 800us/step - loss: 7.7125 - accuracy: 0.5000\n",
      "Epoch 34/200\n",
      "33/33 [==============================] - 0s 992us/step - loss: 7.7125 - accuracy: 0.5000\n",
      "Epoch 35/200\n",
      "33/33 [==============================] - 0s 1ms/step - loss: 7.7125 - accuracy: 0.5000\n",
      "Epoch 36/200\n",
      "33/33 [==============================] - 0s 1ms/step - loss: 7.7125 - accuracy: 0.5000\n",
      "Epoch 37/200\n",
      "33/33 [==============================] - 0s 997us/step - loss: 7.7125 - accuracy: 0.5000\n",
      "Epoch 38/200\n",
      "33/33 [==============================] - 0s 968us/step - loss: 7.7125 - accuracy: 0.5000\n",
      "Epoch 39/200\n",
      "33/33 [==============================] - 0s 1ms/step - loss: 7.7125 - accuracy: 0.5000\n",
      "Epoch 40/200\n",
      "33/33 [==============================] - 0s 985us/step - loss: 7.7125 - accuracy: 0.5000\n",
      "Epoch 41/200\n",
      "33/33 [==============================] - 0s 1ms/step - loss: 7.7125 - accuracy: 0.5000\n",
      "Epoch 42/200\n",
      "33/33 [==============================] - 0s 1ms/step - loss: 7.7125 - accuracy: 0.5000\n",
      "Epoch 43/200\n",
      "33/33 [==============================] - 0s 1ms/step - loss: 7.7125 - accuracy: 0.5000\n",
      "Epoch 44/200\n",
      "33/33 [==============================] - 0s 1ms/step - loss: 7.7125 - accuracy: 0.5000\n",
      "Epoch 45/200\n",
      "33/33 [==============================] - 0s 938us/step - loss: 7.7125 - accuracy: 0.5000\n",
      "Epoch 46/200\n",
      "33/33 [==============================] - 0s 1ms/step - loss: 7.7125 - accuracy: 0.5000\n",
      "Epoch 47/200\n",
      "33/33 [==============================] - 0s 962us/step - loss: 7.7125 - accuracy: 0.5000\n",
      "Epoch 48/200\n",
      "33/33 [==============================] - 0s 994us/step - loss: 7.7125 - accuracy: 0.5000\n",
      "Epoch 49/200\n",
      "33/33 [==============================] - 0s 1ms/step - loss: 7.7125 - accuracy: 0.5000\n",
      "Epoch 50/200\n",
      "33/33 [==============================] - 0s 1ms/step - loss: 7.7125 - accuracy: 0.5000\n",
      "Epoch 51/200\n",
      "33/33 [==============================] - 0s 897us/step - loss: 7.7125 - accuracy: 0.5000\n",
      "Epoch 52/200\n",
      "33/33 [==============================] - 0s 1ms/step - loss: 7.7125 - accuracy: 0.5000\n",
      "Epoch 53/200\n",
      "33/33 [==============================] - 0s 930us/step - loss: 7.7125 - accuracy: 0.5000\n",
      "Epoch 54/200\n",
      "33/33 [==============================] - 0s 712us/step - loss: 7.7125 - accuracy: 0.5000\n",
      "Epoch 55/200\n",
      "33/33 [==============================] - 0s 994us/step - loss: 7.7125 - accuracy: 0.5000\n",
      "Epoch 56/200\n",
      "33/33 [==============================] - 0s 934us/step - loss: 7.7125 - accuracy: 0.5000\n",
      "Epoch 57/200\n",
      "33/33 [==============================] - 0s 962us/step - loss: 7.7125 - accuracy: 0.5000\n",
      "Epoch 58/200\n",
      "33/33 [==============================] - 0s 740us/step - loss: 7.7125 - accuracy: 0.5000\n",
      "Epoch 59/200\n",
      "33/33 [==============================] - 0s 1ms/step - loss: 7.7125 - accuracy: 0.5000\n",
      "Epoch 60/200\n",
      "33/33 [==============================] - 0s 958us/step - loss: 7.7125 - accuracy: 0.5000\n",
      "Epoch 61/200\n",
      "33/33 [==============================] - 0s 1ms/step - loss: 7.7125 - accuracy: 0.5000\n",
      "Epoch 62/200\n",
      "33/33 [==============================] - 0s 868us/step - loss: 7.7125 - accuracy: 0.5000\n",
      "Epoch 63/200\n",
      "33/33 [==============================] - 0s 993us/step - loss: 7.7125 - accuracy: 0.5000\n",
      "Epoch 64/200\n",
      "33/33 [==============================] - 0s 950us/step - loss: 7.7125 - accuracy: 0.5000\n",
      "Epoch 65/200\n",
      "33/33 [==============================] - 0s 958us/step - loss: 7.7125 - accuracy: 0.5000\n",
      "Epoch 66/200\n",
      "33/33 [==============================] - 0s 982us/step - loss: 7.7125 - accuracy: 0.5000\n",
      "Epoch 67/200\n",
      "33/33 [==============================] - 0s 947us/step - loss: 7.7125 - accuracy: 0.5000\n",
      "Epoch 68/200\n",
      "33/33 [==============================] - 0s 847us/step - loss: 7.7125 - accuracy: 0.5000\n",
      "Epoch 69/200\n",
      "33/33 [==============================] - 0s 953us/step - loss: 7.7125 - accuracy: 0.5000\n",
      "Epoch 70/200\n",
      "33/33 [==============================] - 0s 918us/step - loss: 7.7125 - accuracy: 0.5000\n",
      "Epoch 71/200\n",
      "33/33 [==============================] - 0s 942us/step - loss: 7.7125 - accuracy: 0.5000\n",
      "Epoch 72/200\n",
      "33/33 [==============================] - 0s 777us/step - loss: 7.7125 - accuracy: 0.5000\n",
      "Epoch 73/200\n",
      "33/33 [==============================] - 0s 853us/step - loss: 7.7125 - accuracy: 0.5000\n",
      "Epoch 74/200\n",
      "33/33 [==============================] - 0s 769us/step - loss: 7.7125 - accuracy: 0.5000\n",
      "Epoch 75/200\n",
      "33/33 [==============================] - 0s 790us/step - loss: 7.7125 - accuracy: 0.5000\n",
      "Epoch 76/200\n",
      "33/33 [==============================] - 0s 775us/step - loss: 7.7125 - accuracy: 0.5000\n",
      "Epoch 77/200\n",
      "33/33 [==============================] - 0s 730us/step - loss: 7.7125 - accuracy: 0.5000\n",
      "Epoch 78/200\n",
      "33/33 [==============================] - 0s 850us/step - loss: 7.7125 - accuracy: 0.5000\n",
      "Epoch 79/200\n",
      "33/33 [==============================] - 0s 724us/step - loss: 7.7125 - accuracy: 0.5000\n",
      "Epoch 80/200\n",
      "33/33 [==============================] - 0s 786us/step - loss: 7.7125 - accuracy: 0.5000\n",
      "Epoch 81/200\n"
     ]
    },
    {
     "name": "stdout",
     "output_type": "stream",
     "text": [
      "33/33 [==============================] - 0s 826us/step - loss: 7.7125 - accuracy: 0.5000\n",
      "Epoch 82/200\n",
      "33/33 [==============================] - 0s 865us/step - loss: 7.7125 - accuracy: 0.5000\n",
      "Epoch 83/200\n",
      "33/33 [==============================] - 0s 860us/step - loss: 7.7125 - accuracy: 0.5000\n",
      "Epoch 84/200\n",
      "33/33 [==============================] - 0s 808us/step - loss: 7.7125 - accuracy: 0.5000\n",
      "Epoch 85/200\n",
      "33/33 [==============================] - 0s 762us/step - loss: 7.7125 - accuracy: 0.5000\n",
      "Epoch 86/200\n",
      "33/33 [==============================] - 0s 831us/step - loss: 7.7125 - accuracy: 0.5000\n",
      "Epoch 87/200\n",
      "33/33 [==============================] - 0s 913us/step - loss: 7.7125 - accuracy: 0.5000\n",
      "Epoch 88/200\n",
      "33/33 [==============================] - 0s 770us/step - loss: 7.7125 - accuracy: 0.5000\n",
      "Epoch 89/200\n",
      "33/33 [==============================] - 0s 770us/step - loss: 7.7125 - accuracy: 0.5000\n",
      "Epoch 90/200\n",
      "33/33 [==============================] - 0s 834us/step - loss: 7.7125 - accuracy: 0.5000\n",
      "Epoch 91/200\n",
      "33/33 [==============================] - 0s 794us/step - loss: 7.7125 - accuracy: 0.5000\n",
      "Epoch 92/200\n",
      "33/33 [==============================] - 0s 813us/step - loss: 7.7125 - accuracy: 0.5000\n",
      "Epoch 93/200\n",
      "33/33 [==============================] - 0s 743us/step - loss: 7.7125 - accuracy: 0.5000\n",
      "Epoch 94/200\n",
      "33/33 [==============================] - 0s 886us/step - loss: 7.7125 - accuracy: 0.5000\n",
      "Epoch 95/200\n",
      "33/33 [==============================] - 0s 1ms/step - loss: 7.7125 - accuracy: 0.5000\n",
      "Epoch 96/200\n",
      "33/33 [==============================] - 0s 823us/step - loss: 7.7125 - accuracy: 0.5000\n",
      "Epoch 97/200\n",
      "33/33 [==============================] - 0s 799us/step - loss: 7.7125 - accuracy: 0.5000\n",
      "Epoch 98/200\n",
      "33/33 [==============================] - 0s 782us/step - loss: 7.7125 - accuracy: 0.5000\n",
      "Epoch 99/200\n",
      "33/33 [==============================] - 0s 806us/step - loss: 7.7125 - accuracy: 0.5000\n",
      "Epoch 100/200\n",
      "33/33 [==============================] - 0s 800us/step - loss: 7.7125 - accuracy: 0.5000\n",
      "Epoch 101/200\n",
      "33/33 [==============================] - 0s 750us/step - loss: 7.7125 - accuracy: 0.5000\n",
      "Epoch 102/200\n",
      "33/33 [==============================] - 0s 783us/step - loss: 7.7125 - accuracy: 0.5000\n",
      "Epoch 103/200\n",
      "33/33 [==============================] - 0s 786us/step - loss: 7.7125 - accuracy: 0.5000\n",
      "Epoch 104/200\n",
      "33/33 [==============================] - 0s 726us/step - loss: 7.7125 - accuracy: 0.5000\n",
      "Epoch 105/200\n",
      "33/33 [==============================] - 0s 789us/step - loss: 7.7125 - accuracy: 0.5000\n",
      "Epoch 106/200\n",
      "33/33 [==============================] - 0s 823us/step - loss: 7.7125 - accuracy: 0.5000\n",
      "Epoch 107/200\n",
      "33/33 [==============================] - 0s 808us/step - loss: 7.7125 - accuracy: 0.5000\n",
      "Epoch 108/200\n",
      "33/33 [==============================] - 0s 868us/step - loss: 7.7125 - accuracy: 0.5000\n",
      "Epoch 109/200\n",
      "33/33 [==============================] - 0s 794us/step - loss: 7.7125 - accuracy: 0.5000\n",
      "Epoch 110/200\n",
      "33/33 [==============================] - 0s 865us/step - loss: 7.7125 - accuracy: 0.5000\n",
      "Epoch 111/200\n",
      "33/33 [==============================] - 0s 654us/step - loss: 7.7125 - accuracy: 0.5000\n",
      "Epoch 112/200\n",
      "33/33 [==============================] - 0s 1ms/step - loss: 7.7125 - accuracy: 0.5000\n",
      "Epoch 113/200\n",
      "33/33 [==============================] - 0s 1ms/step - loss: 7.7125 - accuracy: 0.5000\n",
      "Epoch 114/200\n",
      "33/33 [==============================] - 0s 979us/step - loss: 7.7125 - accuracy: 0.5000\n",
      "Epoch 115/200\n",
      "33/33 [==============================] - 0s 874us/step - loss: 7.7125 - accuracy: 0.5000\n",
      "Epoch 116/200\n",
      "33/33 [==============================] - 0s 739us/step - loss: 7.7125 - accuracy: 0.5000\n",
      "Epoch 117/200\n",
      "33/33 [==============================] - 0s 994us/step - loss: 7.7125 - accuracy: 0.5000\n",
      "Epoch 118/200\n",
      "33/33 [==============================] - 0s 929us/step - loss: 7.7125 - accuracy: 0.5000\n",
      "Epoch 119/200\n",
      "33/33 [==============================] - 0s 837us/step - loss: 7.7125 - accuracy: 0.5000\n",
      "Epoch 120/200\n",
      "33/33 [==============================] - 0s 867us/step - loss: 7.7125 - accuracy: 0.5000\n",
      "Epoch 121/200\n",
      "33/33 [==============================] - 0s 807us/step - loss: 7.7125 - accuracy: 0.5000\n",
      "Epoch 122/200\n",
      "33/33 [==============================] - 0s 804us/step - loss: 7.7125 - accuracy: 0.5000\n",
      "Epoch 123/200\n",
      "33/33 [==============================] - 0s 745us/step - loss: 7.7125 - accuracy: 0.5000\n",
      "Epoch 124/200\n",
      "33/33 [==============================] - 0s 871us/step - loss: 7.7125 - accuracy: 0.5000\n",
      "Epoch 125/200\n",
      "33/33 [==============================] - 0s 990us/step - loss: 7.7125 - accuracy: 0.5000\n",
      "Epoch 126/200\n",
      "33/33 [==============================] - 0s 898us/step - loss: 7.7125 - accuracy: 0.5000\n",
      "Epoch 127/200\n",
      "33/33 [==============================] - 0s 806us/step - loss: 7.7125 - accuracy: 0.5000\n",
      "Epoch 128/200\n",
      "33/33 [==============================] - 0s 930us/step - loss: 7.7125 - accuracy: 0.5000\n",
      "Epoch 129/200\n",
      "33/33 [==============================] - 0s 1ms/step - loss: 7.7125 - accuracy: 0.5000\n",
      "Epoch 130/200\n",
      "33/33 [==============================] - 0s 858us/step - loss: 7.7125 - accuracy: 0.5000\n",
      "Epoch 131/200\n",
      "33/33 [==============================] - 0s 873us/step - loss: 7.7125 - accuracy: 0.5000\n",
      "Epoch 132/200\n",
      "33/33 [==============================] - 0s 892us/step - loss: 7.7125 - accuracy: 0.5000\n",
      "Epoch 133/200\n",
      "33/33 [==============================] - 0s 837us/step - loss: 7.7125 - accuracy: 0.5000\n",
      "Epoch 134/200\n",
      "33/33 [==============================] - 0s 822us/step - loss: 7.7125 - accuracy: 0.5000\n",
      "Epoch 135/200\n",
      "33/33 [==============================] - 0s 867us/step - loss: 7.7125 - accuracy: 0.5000\n",
      "Epoch 136/200\n",
      "33/33 [==============================] - 0s 868us/step - loss: 7.7125 - accuracy: 0.5000\n",
      "Epoch 137/200\n",
      "33/33 [==============================] - 0s 868us/step - loss: 7.7125 - accuracy: 0.5000\n",
      "Epoch 138/200\n",
      "33/33 [==============================] - 0s 1ms/step - loss: 7.7125 - accuracy: 0.5000\n",
      "Epoch 139/200\n",
      "33/33 [==============================] - 0s 866us/step - loss: 7.7125 - accuracy: 0.5000\n",
      "Epoch 140/200\n",
      "33/33 [==============================] - 0s 869us/step - loss: 7.7125 - accuracy: 0.5000\n",
      "Epoch 141/200\n",
      "33/33 [==============================] - 0s 1ms/step - loss: 7.7125 - accuracy: 0.5000\n",
      "Epoch 142/200\n",
      "33/33 [==============================] - 0s 806us/step - loss: 7.7125 - accuracy: 0.5000\n",
      "Epoch 143/200\n",
      "33/33 [==============================] - 0s 833us/step - loss: 7.7125 - accuracy: 0.5000\n",
      "Epoch 144/200\n",
      "33/33 [==============================] - 0s 864us/step - loss: 7.7125 - accuracy: 0.5000\n",
      "Epoch 145/200\n",
      "33/33 [==============================] - 0s 870us/step - loss: 7.7125 - accuracy: 0.5000\n",
      "Epoch 146/200\n",
      "33/33 [==============================] - 0s 865us/step - loss: 7.7125 - accuracy: 0.5000\n",
      "Epoch 147/200\n",
      "33/33 [==============================] - 0s 862us/step - loss: 7.7125 - accuracy: 0.5000\n",
      "Epoch 148/200\n",
      "33/33 [==============================] - 0s 868us/step - loss: 7.7125 - accuracy: 0.5000\n",
      "Epoch 149/200\n",
      "33/33 [==============================] - 0s 1ms/step - loss: 7.7125 - accuracy: 0.5000\n",
      "Epoch 150/200\n",
      "33/33 [==============================] - 0s 765us/step - loss: 7.7125 - accuracy: 0.5000\n",
      "Epoch 151/200\n",
      "33/33 [==============================] - 0s 1ms/step - loss: 7.7125 - accuracy: 0.5000\n",
      "Epoch 152/200\n",
      "33/33 [==============================] - 0s 867us/step - loss: 7.7125 - accuracy: 0.5000\n",
      "Epoch 153/200\n",
      "33/33 [==============================] - 0s 865us/step - loss: 7.7125 - accuracy: 0.5000\n",
      "Epoch 154/200\n",
      "33/33 [==============================] - 0s 908us/step - loss: 7.7125 - accuracy: 0.5000\n",
      "Epoch 155/200\n",
      "33/33 [==============================] - 0s 1ms/step - loss: 7.7125 - accuracy: 0.5000\n",
      "Epoch 156/200\n",
      "33/33 [==============================] - 0s 867us/step - loss: 7.7125 - accuracy: 0.5000\n",
      "Epoch 157/200\n",
      "33/33 [==============================] - 0s 866us/step - loss: 7.7125 - accuracy: 0.5000\n",
      "Epoch 158/200\n",
      "33/33 [==============================] - 0s 868us/step - loss: 7.7125 - accuracy: 0.5000\n",
      "Epoch 159/200\n",
      "33/33 [==============================] - 0s 1ms/step - loss: 7.7125 - accuracy: 0.5000\n",
      "Epoch 160/200\n",
      "33/33 [==============================] - 0s 750us/step - loss: 7.7125 - accuracy: 0.5000\n",
      "Epoch 161/200\n"
     ]
    },
    {
     "name": "stdout",
     "output_type": "stream",
     "text": [
      "33/33 [==============================] - 0s 1ms/step - loss: 7.7125 - accuracy: 0.5000\n",
      "Epoch 162/200\n",
      "33/33 [==============================] - 0s 871us/step - loss: 7.7125 - accuracy: 0.5000\n",
      "Epoch 163/200\n",
      "33/33 [==============================] - 0s 1ms/step - loss: 7.7125 - accuracy: 0.5000\n",
      "Epoch 164/200\n",
      "33/33 [==============================] - 0s 871us/step - loss: 7.7125 - accuracy: 0.5000\n",
      "Epoch 165/200\n",
      "33/33 [==============================] - 0s 867us/step - loss: 7.7125 - accuracy: 0.5000\n",
      "Epoch 166/200\n",
      "33/33 [==============================] - 0s 1ms/step - loss: 7.7125 - accuracy: 0.5000\n",
      "Epoch 167/200\n",
      "33/33 [==============================] - 0s 871us/step - loss: 7.7125 - accuracy: 0.5000\n",
      "Epoch 168/200\n",
      "33/33 [==============================] - 0s 1ms/step - loss: 7.7125 - accuracy: 0.5000\n",
      "Epoch 169/200\n",
      "33/33 [==============================] - 0s 810us/step - loss: 7.7125 - accuracy: 0.5000\n",
      "Epoch 170/200\n",
      "33/33 [==============================] - 0s 991us/step - loss: 7.7125 - accuracy: 0.5000\n",
      "Epoch 171/200\n",
      "33/33 [==============================] - 0s 1ms/step - loss: 7.7125 - accuracy: 0.5000\n",
      "Epoch 172/200\n",
      "33/33 [==============================] - 0s 870us/step - loss: 7.7125 - accuracy: 0.5000\n",
      "Epoch 173/200\n",
      "33/33 [==============================] - 0s 1ms/step - loss: 7.7125 - accuracy: 0.5000\n",
      "Epoch 174/200\n",
      "33/33 [==============================] - 0s 1000us/step - loss: 7.7125 - accuracy: 0.5000\n",
      "Epoch 175/200\n",
      "33/33 [==============================] - 0s 844us/step - loss: 7.7125 - accuracy: 0.5000\n",
      "Epoch 176/200\n",
      "33/33 [==============================] - 0s 870us/step - loss: 7.7125 - accuracy: 0.5000\n",
      "Epoch 177/200\n",
      "33/33 [==============================] - 0s 1ms/step - loss: 7.7125 - accuracy: 0.5000\n",
      "Epoch 178/200\n",
      "33/33 [==============================] - 0s 860us/step - loss: 7.7125 - accuracy: 0.5000\n",
      "Epoch 179/200\n",
      "33/33 [==============================] - 0s 873us/step - loss: 7.7125 - accuracy: 0.5000\n",
      "Epoch 180/200\n",
      "33/33 [==============================] - 0s 1ms/step - loss: 7.7125 - accuracy: 0.5000\n",
      "Epoch 181/200\n",
      "33/33 [==============================] - 0s 1ms/step - loss: 7.7125 - accuracy: 0.5000\n",
      "Epoch 182/200\n",
      "33/33 [==============================] - 0s 864us/step - loss: 7.7125 - accuracy: 0.5000\n",
      "Epoch 183/200\n",
      "33/33 [==============================] - 0s 870us/step - loss: 7.7125 - accuracy: 0.5000\n",
      "Epoch 184/200\n",
      "33/33 [==============================] - 0s 857us/step - loss: 7.7125 - accuracy: 0.5000\n",
      "Epoch 185/200\n",
      "33/33 [==============================] - 0s 1ms/step - loss: 7.7125 - accuracy: 0.5000\n",
      "Epoch 186/200\n",
      "33/33 [==============================] - 0s 868us/step - loss: 7.7125 - accuracy: 0.5000\n",
      "Epoch 187/200\n",
      "33/33 [==============================] - 0s 870us/step - loss: 7.7125 - accuracy: 0.5000\n",
      "Epoch 188/200\n",
      "33/33 [==============================] - 0s 867us/step - loss: 7.7125 - accuracy: 0.5000\n",
      "Epoch 189/200\n",
      "33/33 [==============================] - 0s 817us/step - loss: 7.7125 - accuracy: 0.5000\n",
      "Epoch 190/200\n",
      "33/33 [==============================] - 0s 909us/step - loss: 7.7125 - accuracy: 0.5000\n",
      "Epoch 191/200\n",
      "33/33 [==============================] - 0s 927us/step - loss: 7.7125 - accuracy: 0.5000\n",
      "Epoch 192/200\n",
      "33/33 [==============================] - 0s 1ms/step - loss: 7.7125 - accuracy: 0.5000\n",
      "Epoch 193/200\n",
      "33/33 [==============================] - 0s 866us/step - loss: 7.7125 - accuracy: 0.5000\n",
      "Epoch 194/200\n",
      "33/33 [==============================] - 0s 870us/step - loss: 7.7125 - accuracy: 0.5000\n",
      "Epoch 195/200\n",
      "33/33 [==============================] - 0s 1ms/step - loss: 7.7125 - accuracy: 0.5000\n",
      "Epoch 196/200\n",
      "33/33 [==============================] - 0s 1ms/step - loss: 7.7125 - accuracy: 0.5000\n",
      "Epoch 197/200\n",
      "33/33 [==============================] - 0s 1ms/step - loss: 7.7125 - accuracy: 0.5000\n",
      "Epoch 198/200\n",
      "33/33 [==============================] - 0s 847us/step - loss: 7.7125 - accuracy: 0.5000\n",
      "Epoch 199/200\n",
      "33/33 [==============================] - 0s 867us/step - loss: 7.7125 - accuracy: 0.5000\n",
      "Epoch 200/200\n",
      "33/33 [==============================] - 0s 1ms/step - loss: 7.7125 - accuracy: 0.5000\n",
      "3/3 [==============================] - 0s 0s/step\n"
     ]
    }
   ],
   "source": [
    "nn_pred = NNModel(NNX_train, NNy_train, NNX_test, 12)"
   ]
  },
  {
   "cell_type": "code",
   "execution_count": 74,
   "metadata": {
    "colab": {
     "base_uri": "https://localhost:8080/",
     "height": 457
    },
    "id": "xIBYBG2k842M",
    "outputId": "25e0aee6-1f6a-417d-c3ff-b12e2eda43f2"
   },
   "outputs": [
    {
     "name": "stdout",
     "output_type": "stream",
     "text": [
      "Test Result:\n",
      "================================================\n",
      "Accuracy Score: 0.5\n",
      "F1 Score: 0.6666666666666666\n",
      "Precision: 0.5\n",
      "Recall: 1.0\n",
      "\n"
     ]
    },
    {
     "data": {
      "image/png": "[encoded data removed]",
      "text/plain": [
       "<Figure size 360x360 with 2 Axes>"
      ]
     },
     "metadata": {
      "needs_background": "light"
     },
     "output_type": "display_data"
    }
   ],
   "source": [
    "modelPerformace(NNy_test, nn_pred, 'Neutral Network Model', False)"
   ]
  },
  {
   "cell_type": "code",
   "execution_count": 75,
   "metadata": {
    "colab": {
     "base_uri": "https://localhost:8080/",
     "height": 237
    },
    "id": "FjPnpbIvV2A1",
    "outputId": "9ba5bfb7-0b26-4b11-9bdf-91aa45ff5041"
   },
   "outputs": [
    {
     "data": {
      "text/html": [
       "<div>\n",
       "<style scoped>\n",
       "    .dataframe tbody tr th:only-of-type {\n",
       "        vertical-align: middle;\n",
       "    }\n",
       "\n",
       "    .dataframe tbody tr th {\n",
       "        vertical-align: top;\n",
       "    }\n",
       "\n",
       "    .dataframe thead th {\n",
       "        text-align: right;\n",
       "    }\n",
       "</style>\n",
       "<table border=\"1\" class=\"dataframe\">\n",
       "  <thead>\n",
       "    <tr style=\"text-align: right;\">\n",
       "      <th></th>\n",
       "      <th>Model</th>\n",
       "      <th>Accuracy</th>\n",
       "      <th>F1_Score</th>\n",
       "      <th>Precision</th>\n",
       "      <th>Recall</th>\n",
       "    </tr>\n",
       "  </thead>\n",
       "  <tbody>\n",
       "    <tr>\n",
       "      <th>0</th>\n",
       "      <td>Naive Bayes</td>\n",
       "      <td>0.817073</td>\n",
       "      <td>0.816828</td>\n",
       "      <td>0.818780</td>\n",
       "      <td>0.817073</td>\n",
       "    </tr>\n",
       "    <tr>\n",
       "      <th>1</th>\n",
       "      <td>Logistic Regression</td>\n",
       "      <td>0.780488</td>\n",
       "      <td>0.780357</td>\n",
       "      <td>0.781157</td>\n",
       "      <td>0.780488</td>\n",
       "    </tr>\n",
       "    <tr>\n",
       "      <th>2</th>\n",
       "      <td>Support Vector Machine</td>\n",
       "      <td>0.707317</td>\n",
       "      <td>0.707317</td>\n",
       "      <td>0.707317</td>\n",
       "      <td>0.707317</td>\n",
       "    </tr>\n",
       "    <tr>\n",
       "      <th>3</th>\n",
       "      <td>Random Forest Classifier</td>\n",
       "      <td>0.841463</td>\n",
       "      <td>0.841251</td>\n",
       "      <td>0.843301</td>\n",
       "      <td>0.841463</td>\n",
       "    </tr>\n",
       "    <tr>\n",
       "      <th>4</th>\n",
       "      <td>K Nearest Neighbors</td>\n",
       "      <td>0.707317</td>\n",
       "      <td>0.707317</td>\n",
       "      <td>0.707317</td>\n",
       "      <td>0.707317</td>\n",
       "    </tr>\n",
       "    <tr>\n",
       "      <th>5</th>\n",
       "      <td>Neutral Network Model</td>\n",
       "      <td>0.500000</td>\n",
       "      <td>0.666667</td>\n",
       "      <td>0.500000</td>\n",
       "      <td>1.000000</td>\n",
       "    </tr>\n",
       "  </tbody>\n",
       "</table>\n",
       "</div>"
      ],
      "text/plain": [
       "                      Model  Accuracy  F1_Score  Precision    Recall\n",
       "0               Naive Bayes  0.817073  0.816828   0.818780  0.817073\n",
       "1       Logistic Regression  0.780488  0.780357   0.781157  0.780488\n",
       "2    Support Vector Machine  0.707317  0.707317   0.707317  0.707317\n",
       "3  Random Forest Classifier  0.841463  0.841251   0.843301  0.841463\n",
       "4       K Nearest Neighbors  0.707317  0.707317   0.707317  0.707317\n",
       "5     Neutral Network Model  0.500000  0.666667   0.500000  1.000000"
      ]
     },
     "execution_count": 75,
     "metadata": {},
     "output_type": "execute_result"
    }
   ],
   "source": [
    "results_classication_df"
   ]
  },
  {
   "cell_type": "markdown",
   "metadata": {
    "id": "C1bDEuj1ghy8"
   },
   "source": [
    "## **Feature Selection**"
   ]
  },
  {
   "cell_type": "code",
   "execution_count": 76,
   "metadata": {
    "colab": {
     "base_uri": "https://localhost:8080/",
     "height": 206
    },
    "id": "RWBBa8pijQne",
    "outputId": "68641fca-a16a-459f-ef5f-c5256a42213e"
   },
   "outputs": [
    {
     "data": {
      "text/html": [
       "<div>\n",
       "<style scoped>\n",
       "    .dataframe tbody tr th:only-of-type {\n",
       "        vertical-align: middle;\n",
       "    }\n",
       "\n",
       "    .dataframe tbody tr th {\n",
       "        vertical-align: top;\n",
       "    }\n",
       "\n",
       "    .dataframe thead th {\n",
       "        text-align: right;\n",
       "    }\n",
       "</style>\n",
       "<table border=\"1\" class=\"dataframe\">\n",
       "  <thead>\n",
       "    <tr style=\"text-align: right;\">\n",
       "      <th></th>\n",
       "      <th>age</th>\n",
       "      <th>anaemia</th>\n",
       "      <th>creatinine_phosphokinase</th>\n",
       "      <th>diabetes</th>\n",
       "      <th>ejection_fraction</th>\n",
       "      <th>high_blood_pressure</th>\n",
       "      <th>platelets</th>\n",
       "      <th>serum_creatinine</th>\n",
       "      <th>serum_sodium</th>\n",
       "      <th>sex</th>\n",
       "      <th>smoking</th>\n",
       "      <th>time</th>\n",
       "    </tr>\n",
       "  </thead>\n",
       "  <tbody>\n",
       "    <tr>\n",
       "      <th>0</th>\n",
       "      <td>0.636364</td>\n",
       "      <td>0.0</td>\n",
       "      <td>0.071319</td>\n",
       "      <td>0.0</td>\n",
       "      <td>0.090909</td>\n",
       "      <td>1.0</td>\n",
       "      <td>0.290823</td>\n",
       "      <td>0.157303</td>\n",
       "      <td>0.485714</td>\n",
       "      <td>1.0</td>\n",
       "      <td>0.0</td>\n",
       "      <td>0.000000</td>\n",
       "    </tr>\n",
       "    <tr>\n",
       "      <th>1</th>\n",
       "      <td>0.272727</td>\n",
       "      <td>0.0</td>\n",
       "      <td>1.000000</td>\n",
       "      <td>0.0</td>\n",
       "      <td>0.363636</td>\n",
       "      <td>0.0</td>\n",
       "      <td>0.288833</td>\n",
       "      <td>0.067416</td>\n",
       "      <td>0.657143</td>\n",
       "      <td>1.0</td>\n",
       "      <td>0.0</td>\n",
       "      <td>0.007117</td>\n",
       "    </tr>\n",
       "    <tr>\n",
       "      <th>2</th>\n",
       "      <td>0.454545</td>\n",
       "      <td>0.0</td>\n",
       "      <td>0.015693</td>\n",
       "      <td>0.0</td>\n",
       "      <td>0.090909</td>\n",
       "      <td>0.0</td>\n",
       "      <td>0.165960</td>\n",
       "      <td>0.089888</td>\n",
       "      <td>0.457143</td>\n",
       "      <td>1.0</td>\n",
       "      <td>1.0</td>\n",
       "      <td>0.010676</td>\n",
       "    </tr>\n",
       "    <tr>\n",
       "      <th>3</th>\n",
       "      <td>0.181818</td>\n",
       "      <td>1.0</td>\n",
       "      <td>0.011227</td>\n",
       "      <td>0.0</td>\n",
       "      <td>0.090909</td>\n",
       "      <td>0.0</td>\n",
       "      <td>0.224148</td>\n",
       "      <td>0.157303</td>\n",
       "      <td>0.685714</td>\n",
       "      <td>1.0</td>\n",
       "      <td>0.0</td>\n",
       "      <td>0.010676</td>\n",
       "    </tr>\n",
       "    <tr>\n",
       "      <th>4</th>\n",
       "      <td>0.454545</td>\n",
       "      <td>1.0</td>\n",
       "      <td>0.017479</td>\n",
       "      <td>1.0</td>\n",
       "      <td>0.090909</td>\n",
       "      <td>0.0</td>\n",
       "      <td>0.365984</td>\n",
       "      <td>0.247191</td>\n",
       "      <td>0.085714</td>\n",
       "      <td>0.0</td>\n",
       "      <td>0.0</td>\n",
       "      <td>0.014235</td>\n",
       "    </tr>\n",
       "  </tbody>\n",
       "</table>\n",
       "</div>"
      ],
      "text/plain": [
       "        age  anaemia  creatinine_phosphokinase  diabetes  ejection_fraction  \\\n",
       "0  0.636364      0.0                  0.071319       0.0           0.090909   \n",
       "1  0.272727      0.0                  1.000000       0.0           0.363636   \n",
       "2  0.454545      0.0                  0.015693       0.0           0.090909   \n",
       "3  0.181818      1.0                  0.011227       0.0           0.090909   \n",
       "4  0.454545      1.0                  0.017479       1.0           0.090909   \n",
       "\n",
       "   high_blood_pressure  platelets  serum_creatinine  serum_sodium  sex  \\\n",
       "0                  1.0   0.290823          0.157303      0.485714  1.0   \n",
       "1                  0.0   0.288833          0.067416      0.657143  1.0   \n",
       "2                  0.0   0.165960          0.089888      0.457143  1.0   \n",
       "3                  0.0   0.224148          0.157303      0.685714  1.0   \n",
       "4                  0.0   0.365984          0.247191      0.085714  0.0   \n",
       "\n",
       "   smoking      time  \n",
       "0      0.0  0.000000  \n",
       "1      0.0  0.007117  \n",
       "2      1.0  0.010676  \n",
       "3      0.0  0.010676  \n",
       "4      0.0  0.014235  "
      ]
     },
     "execution_count": 76,
     "metadata": {},
     "output_type": "execute_result"
    }
   ],
   "source": [
    "X.head()"
   ]
  },
  {
   "cell_type": "markdown",
   "metadata": {
    "id": "Tgj2EUXQuhxW"
   },
   "source": [
    "**Chi-Square Test**"
   ]
  },
  {
   "cell_type": "code",
   "execution_count": 77,
   "metadata": {
    "id": "_2whyw6-jUN3"
   },
   "outputs": [],
   "source": [
    "from sklearn.feature_selection import chi2"
   ]
  },
  {
   "cell_type": "code",
   "execution_count": 78,
   "metadata": {
    "id": "sIohS0ZjmSPG"
   },
   "outputs": [],
   "source": [
    "X_chi = X\n",
    "y_chi = y"
   ]
  },
  {
   "cell_type": "code",
   "execution_count": 79,
   "metadata": {
    "id": "-OOpHkGJuE1A"
   },
   "outputs": [],
   "source": [
    "chi_scores = chi2(X_chi,y_chi)"
   ]
  },
  {
   "cell_type": "code",
   "execution_count": 80,
   "metadata": {
    "colab": {
     "base_uri": "https://localhost:8080/"
    },
    "id": "OrZhdH6quFfk",
    "outputId": "fc3e774c-781a-4ea5-9eec-22e134bd1158"
   },
   "outputs": [
    {
     "data": {
      "text/plain": [
       "(array([2.36884557e+00, 7.46593411e-01, 2.52028846e-01, 6.56814450e-04,\n",
       "        1.89451597e+00, 1.22153853e+00, 3.50213632e-02, 3.47161030e+00,\n",
       "        2.67367929e-01, 1.95626598e-03, 3.23468288e-02, 1.40502858e+01]),\n",
       " array([1.23778556e-01, 3.87556925e-01, 6.15650114e-01, 9.79553740e-01,\n",
       "        1.68693443e-01, 2.69058926e-01, 8.51550901e-01, 6.24305076e-02,\n",
       "        6.05102877e-01, 9.64721312e-01, 8.57268569e-01, 1.77986782e-04]))"
      ]
     },
     "execution_count": 80,
     "metadata": {},
     "output_type": "execute_result"
    }
   ],
   "source": [
    "chi_scores\n",
    "# here first array represents chi square values and second array represnts p-values"
   ]
  },
  {
   "cell_type": "code",
   "execution_count": 81,
   "metadata": {
    "colab": {
     "base_uri": "https://localhost:8080/",
     "height": 312
    },
    "id": "VJzooAzRxalB",
    "outputId": "08c4e801-dbad-4c65-b2f3-856ff09d44a1"
   },
   "outputs": [
    {
     "data": {
      "image/png": "[encoded data removed]",
      "text/plain": [
       "<Figure size 432x288 with 1 Axes>"
      ]
     },
     "metadata": {
      "needs_background": "light"
     },
     "output_type": "display_data"
    },
    {
     "data": {
      "text/plain": [
       "<Figure size 2160x720 with 0 Axes>"
      ]
     },
     "metadata": {},
     "output_type": "display_data"
    }
   ],
   "source": [
    "plt.barh(X_chi.columns, chi_scores[1])\n",
    "plt.axvline(x = .05, color = 'black', label = 'axvline - full height')\n",
    "plt.ylabel(\"Features\")\n",
    "plt.xlabel(\"p value\")\n",
    "plt.title(\"Feature vs p value (Chi-Square Test)\")\n",
    "plt.figure(figsize =(30, 10))\n",
    "plt.show()"
   ]
  },
  {
   "cell_type": "markdown",
   "metadata": {
    "id": "YQGbJL6YusJ7"
   },
   "source": [
    "**Mann-Whitney Test**"
   ]
  },
  {
   "cell_type": "code",
   "execution_count": 82,
   "metadata": {
    "id": "1IMHpob8vHAW"
   },
   "outputs": [],
   "source": [
    "import scipy.stats as stats\n",
    "X_manWhite = X\n",
    "y_manWhite = y"
   ]
  },
  {
   "cell_type": "code",
   "execution_count": 83,
   "metadata": {
    "id": "G6vI3dv6_cD_"
   },
   "outputs": [],
   "source": [
    "manWhite_scores = stats.mannwhitneyu(x=X_manWhite, y=y_manWhite)"
   ]
  },
  {
   "cell_type": "code",
   "execution_count": 84,
   "metadata": {
    "colab": {
     "base_uri": "https://localhost:8080/"
    },
    "id": "cMBbu9okCgk-",
    "outputId": "b515ea4f-d1af-4a3c-dd94-2830a9ea37f3"
   },
   "outputs": [
    {
     "data": {
      "text/plain": [
       "MannwhitneyuResult(statistic=array([60082.5, 49634. , 60643.5, 49036. , 60643.5, 46046. , 60595.5,\n",
       "       60595.5, 60643.5, 59351.5, 44700.5, 60643.5]), pvalue=array([8.43621467e-14, 5.38607134e-03, 1.16017274e-14, 1.41069075e-02,\n",
       "       1.11515569e-14, 4.36468281e-01, 1.41576386e-14, 1.37058871e-14,\n",
       "       1.13878264e-14, 1.13144026e-15, 1.00000000e+00, 1.17762525e-14]))"
      ]
     },
     "execution_count": 84,
     "metadata": {},
     "output_type": "execute_result"
    }
   ],
   "source": [
    "manWhite_scores\n",
    "# here first array represents Mann-Whitney values and second array represnts p-values"
   ]
  },
  {
   "cell_type": "code",
   "execution_count": 85,
   "metadata": {
    "colab": {
     "base_uri": "https://localhost:8080/",
     "height": 312
    },
    "id": "Jt8SL34gCidJ",
    "outputId": "f7ddc000-afa1-4889-813a-93b0b62a4a89"
   },
   "outputs": [
    {
     "data": {
      "image/png": "[encoded data removed]",
      "text/plain": [
       "<Figure size 432x288 with 1 Axes>"
      ]
     },
     "metadata": {
      "needs_background": "light"
     },
     "output_type": "display_data"
    },
    {
     "data": {
      "text/plain": [
       "<Figure size 2160x720 with 0 Axes>"
      ]
     },
     "metadata": {},
     "output_type": "display_data"
    }
   ],
   "source": [
    "plt.barh(X_manWhite.columns, manWhite_scores[1])\n",
    "plt.axvline(x = .05, color = 'black', label = 'axvline - full height')\n",
    "plt.ylabel(\"Features\")\n",
    "plt.xlabel(\"p value\")\n",
    "plt.title(\"Feature vs p value (Mann-Whitney Test)\")\n",
    "plt.figure(figsize =(30, 10))\n",
    "plt.show()"
   ]
  },
  {
   "cell_type": "markdown",
   "metadata": {
    "id": "OelEM8bu-Ukv"
   },
   "source": [
    "**Co-relation Graph**"
   ]
  },
  {
   "cell_type": "code",
   "execution_count": 86,
   "metadata": {
    "colab": {
     "base_uri": "https://localhost:8080/",
     "height": 716
    },
    "id": "s-ipVlNCDovS",
    "outputId": "0fe93a3a-a0c9-4e3a-c773-8391e23fa69b"
   },
   "outputs": [
    {
     "data": {
      "image/png": "[encoded data removed]",
      "text/plain": [
       "<Figure size 720x720 with 2 Axes>"
      ]
     },
     "metadata": {
      "needs_background": "light"
     },
     "output_type": "display_data"
    }
   ],
   "source": [
    "plt.figure(figsize=(10,10))\n",
    "sns.heatmap(df.corr(),annot=True,fmt='.1f')\n",
    "plt.show()"
   ]
  },
  {
   "cell_type": "markdown",
   "metadata": {
    "id": "Hj7WeElGEuEz"
   },
   "source": [
    "**Feature Importance Plot**"
   ]
  },
  {
   "cell_type": "code",
   "execution_count": 87,
   "metadata": {
    "id": "mapxOPk6CmUu"
   },
   "outputs": [],
   "source": [
    "X_train, X_test, y_train, y_test = train_test_split(X_underSampler, y_underSampler, test_size=0.2, random_state=42)"
   ]
  },
  {
   "cell_type": "code",
   "execution_count": 88,
   "metadata": {
    "colab": {
     "base_uri": "https://localhost:8080/"
    },
    "id": "VZqNhnZzYaQO",
    "outputId": "887767b3-2497-4e3c-f547-25855aea4db1"
   },
   "outputs": [
    {
     "data": {
      "text/plain": [
       "RandomForestClassifier(n_estimators=500, random_state=1)"
      ]
     },
     "execution_count": 88,
     "metadata": {},
     "output_type": "execute_result"
    }
   ],
   "source": [
    "from sklearn.ensemble import RandomForestClassifier\n",
    " \n",
    "forest = RandomForestClassifier(n_estimators=500, random_state=1)\n",
    "# Train the mode\n",
    "forest.fit(X_train, y_train.values.ravel())"
   ]
  },
  {
   "cell_type": "code",
   "execution_count": 89,
   "metadata": {
    "colab": {
     "base_uri": "https://localhost:8080/"
    },
    "id": "lkNvH9fCYsqE",
    "outputId": "bf23b892-8077-4a65-e2ce-6ef794f34709"
   },
   "outputs": [
    {
     "name": "stdout",
     "output_type": "stream",
     "text": [
      " 1) time                           0.294433\n",
      " 2) serum_creatinine               0.182997\n",
      " 3) ejection_fraction              0.134770\n",
      " 4) age                            0.098388\n",
      " 5) serum_sodium                   0.084732\n",
      " 6) platelets                      0.073864\n",
      " 7) creatinine_phosphokinase       0.072278\n",
      " 8) high_blood_pressure            0.013065\n",
      " 9) anaemia                        0.011613\n",
      "10) smoking                        0.011601\n",
      "11) diabetes                       0.011187\n"
     ]
    }
   ],
   "source": [
    "importances = forest.feature_importances_\n",
    "# Sort the feature importance in descending order\n",
    "sorted_indices = np.argsort(importances)[::-1]\n",
    " \n",
    "feat_labels = df.columns\n",
    " \n",
    "for f in range(11):\n",
    "    print(\"%2d) %-*s %f\" % (f + 1, 30, feat_labels[sorted_indices[f]],\n",
    "                            importances[sorted_indices[f]]))"
   ]
  },
  {
   "cell_type": "code",
   "execution_count": 90,
   "metadata": {
    "colab": {
     "base_uri": "https://localhost:8080/",
     "height": 297
    },
    "id": "L0K41SbYZCGw",
    "outputId": "9528a007-a3d4-4677-bfc3-663dbdf02bf7"
   },
   "outputs": [
    {
     "data": {
      "image/png": "[encoded data removed]",
      "text/plain": [
       "<Figure size 432x288 with 1 Axes>"
      ]
     },
     "metadata": {
      "needs_background": "light"
     },
     "output_type": "display_data"
    }
   ],
   "source": [
    "import matplotlib.pyplot as plt\n",
    " \n",
    "plt.title('Feature Importance')\n",
    "plt.bar(range(X_manWhite.shape[1]), importances[sorted_indices], align='center')\n",
    "plt.xticks(range(X_manWhite.shape[1]), X_manWhite.columns[sorted_indices], rotation=90)\n",
    "plt.tight_layout()\n",
    "plt.show()"
   ]
  },
  {
   "cell_type": "markdown",
   "metadata": {
    "id": "xQJvLT9RixTB"
   },
   "source": [
    "## **Classification III**"
   ]
  },
  {
   "cell_type": "code",
   "execution_count": 91,
   "metadata": {
    "id": "ZAXqycpzD5t_"
   },
   "outputs": [],
   "source": [
    "X = X_underSampler.drop(['anaemia', 'high_blood_pressure'], axis=1)"
   ]
  },
  {
   "cell_type": "code",
   "execution_count": 92,
   "metadata": {
    "colab": {
     "base_uri": "https://localhost:8080/",
     "height": 206
    },
    "id": "zYDCGAFeEuWD",
    "outputId": "6364190f-cb55-4366-a152-06407c87d980"
   },
   "outputs": [
    {
     "data": {
      "text/html": [
       "<div>\n",
       "<style scoped>\n",
       "    .dataframe tbody tr th:only-of-type {\n",
       "        vertical-align: middle;\n",
       "    }\n",
       "\n",
       "    .dataframe tbody tr th {\n",
       "        vertical-align: top;\n",
       "    }\n",
       "\n",
       "    .dataframe thead th {\n",
       "        text-align: right;\n",
       "    }\n",
       "</style>\n",
       "<table border=\"1\" class=\"dataframe\">\n",
       "  <thead>\n",
       "    <tr style=\"text-align: right;\">\n",
       "      <th></th>\n",
       "      <th>age</th>\n",
       "      <th>creatinine_phosphokinase</th>\n",
       "      <th>diabetes</th>\n",
       "      <th>ejection_fraction</th>\n",
       "      <th>platelets</th>\n",
       "      <th>serum_creatinine</th>\n",
       "      <th>serum_sodium</th>\n",
       "      <th>sex</th>\n",
       "      <th>smoking</th>\n",
       "      <th>time</th>\n",
       "    </tr>\n",
       "  </thead>\n",
       "  <tbody>\n",
       "    <tr>\n",
       "      <th>0</th>\n",
       "      <td>0.036364</td>\n",
       "      <td>0.005231</td>\n",
       "      <td>0.0</td>\n",
       "      <td>0.393939</td>\n",
       "      <td>0.198691</td>\n",
       "      <td>0.022472</td>\n",
       "      <td>0.771429</td>\n",
       "      <td>1.0</td>\n",
       "      <td>0.0</td>\n",
       "      <td>0.857651</td>\n",
       "    </tr>\n",
       "    <tr>\n",
       "      <th>1</th>\n",
       "      <td>0.418182</td>\n",
       "      <td>0.004848</td>\n",
       "      <td>1.0</td>\n",
       "      <td>0.393939</td>\n",
       "      <td>0.237483</td>\n",
       "      <td>0.067416</td>\n",
       "      <td>0.771429</td>\n",
       "      <td>0.0</td>\n",
       "      <td>0.0</td>\n",
       "      <td>0.291815</td>\n",
       "    </tr>\n",
       "    <tr>\n",
       "      <th>2</th>\n",
       "      <td>0.000000</td>\n",
       "      <td>0.076678</td>\n",
       "      <td>0.0</td>\n",
       "      <td>0.318182</td>\n",
       "      <td>0.334465</td>\n",
       "      <td>0.056180</td>\n",
       "      <td>0.828571</td>\n",
       "      <td>1.0</td>\n",
       "      <td>1.0</td>\n",
       "      <td>0.747331</td>\n",
       "    </tr>\n",
       "    <tr>\n",
       "      <th>3</th>\n",
       "      <td>0.272727</td>\n",
       "      <td>0.018755</td>\n",
       "      <td>1.0</td>\n",
       "      <td>0.393939</td>\n",
       "      <td>0.376894</td>\n",
       "      <td>0.078652</td>\n",
       "      <td>0.628571</td>\n",
       "      <td>1.0</td>\n",
       "      <td>0.0</td>\n",
       "      <td>0.875445</td>\n",
       "    </tr>\n",
       "    <tr>\n",
       "      <th>4</th>\n",
       "      <td>0.454545</td>\n",
       "      <td>0.005741</td>\n",
       "      <td>1.0</td>\n",
       "      <td>0.696970</td>\n",
       "      <td>0.338102</td>\n",
       "      <td>0.033708</td>\n",
       "      <td>0.771429</td>\n",
       "      <td>1.0</td>\n",
       "      <td>0.0</td>\n",
       "      <td>0.266904</td>\n",
       "    </tr>\n",
       "  </tbody>\n",
       "</table>\n",
       "</div>"
      ],
      "text/plain": [
       "        age  creatinine_phosphokinase  diabetes  ejection_fraction  platelets  \\\n",
       "0  0.036364                  0.005231       0.0           0.393939   0.198691   \n",
       "1  0.418182                  0.004848       1.0           0.393939   0.237483   \n",
       "2  0.000000                  0.076678       0.0           0.318182   0.334465   \n",
       "3  0.272727                  0.018755       1.0           0.393939   0.376894   \n",
       "4  0.454545                  0.005741       1.0           0.696970   0.338102   \n",
       "\n",
       "   serum_creatinine  serum_sodium  sex  smoking      time  \n",
       "0          0.022472      0.771429  1.0      0.0  0.857651  \n",
       "1          0.067416      0.771429  0.0      0.0  0.291815  \n",
       "2          0.056180      0.828571  1.0      1.0  0.747331  \n",
       "3          0.078652      0.628571  1.0      0.0  0.875445  \n",
       "4          0.033708      0.771429  1.0      0.0  0.266904  "
      ]
     },
     "execution_count": 92,
     "metadata": {},
     "output_type": "execute_result"
    }
   ],
   "source": [
    "X.head()"
   ]
  },
  {
   "cell_type": "code",
   "execution_count": 93,
   "metadata": {
    "id": "UilGa5DPE0-a"
   },
   "outputs": [],
   "source": [
    "X_train, X_test, y_train, y_test = train_test_split(X, y_underSampler, test_size=0.2, random_state=42)"
   ]
  },
  {
   "cell_type": "markdown",
   "metadata": {
    "id": "6ZRh2w_lFNDe"
   },
   "source": [
    "**Naive Bayes Model**"
   ]
  },
  {
   "cell_type": "code",
   "execution_count": 94,
   "metadata": {
    "id": "nB1fmKXrFNDe"
   },
   "outputs": [],
   "source": [
    "y_pred = naiveBayesModel(X_train, y_train, X_test)"
   ]
  },
  {
   "cell_type": "code",
   "execution_count": 95,
   "metadata": {
    "colab": {
     "base_uri": "https://localhost:8080/",
     "height": 457
    },
    "id": "h1cMBYcYFNDe",
    "outputId": "40a4c545-6611-4be3-eb57-d19f6f487db9"
   },
   "outputs": [
    {
     "name": "stdout",
     "output_type": "stream",
     "text": [
      "Test Result:\n",
      "================================================\n",
      "Accuracy Score: 0.7692307692307693\n",
      "F1 Score: 0.7677095481973532\n",
      "Precision: 0.7922240802675585\n",
      "Recall: 0.7692307692307693\n",
      "\n"
     ]
    },
    {
     "data": {
      "image/png": "[encoded data removed]",
      "text/plain": [
       "<Figure size 360x360 with 2 Axes>"
      ]
     },
     "metadata": {
      "needs_background": "light"
     },
     "output_type": "display_data"
    }
   ],
   "source": [
    "modelPerformace(y_test, y_pred, 'Naive Bayes', True)"
   ]
  },
  {
   "cell_type": "markdown",
   "metadata": {
    "id": "fAt8gyQcFNDf"
   },
   "source": [
    "**Logistic Regression Model**"
   ]
  },
  {
   "cell_type": "code",
   "execution_count": 96,
   "metadata": {
    "id": "RvDj_oLOFNDf"
   },
   "outputs": [],
   "source": [
    "y_pred_logidtic = logisticRegressionModel(X_train, y_train, X_test)"
   ]
  },
  {
   "cell_type": "code",
   "execution_count": 97,
   "metadata": {
    "colab": {
     "base_uri": "https://localhost:8080/",
     "height": 457
    },
    "id": "qu_Q7TQrFNDf",
    "outputId": "77c7773f-0a03-42e0-cb6d-8c6d9c6b4a0d"
   },
   "outputs": [
    {
     "name": "stdout",
     "output_type": "stream",
     "text": [
      "Test Result:\n",
      "================================================\n",
      "Accuracy Score: 0.8205128205128205\n",
      "F1 Score: 0.815585238371786\n",
      "Precision: 0.8402366863905326\n",
      "Recall: 0.8205128205128205\n",
      "\n"
     ]
    },
    {
     "data": {
      "image/png": "[encoded data removed]",
      "text/plain": [
       "<Figure size 360x360 with 2 Axes>"
      ]
     },
     "metadata": {
      "needs_background": "light"
     },
     "output_type": "display_data"
    }
   ],
   "source": [
    "modelPerformace(y_test, y_pred_logidtic, 'Logistic Regression', False)"
   ]
  },
  {
   "cell_type": "markdown",
   "metadata": {
    "id": "ep1XZfxeFNDg"
   },
   "source": [
    "**Support Vector Machine Model**"
   ]
  },
  {
   "cell_type": "code",
   "execution_count": 98,
   "metadata": {
    "id": "cIPyJG3ZFNDg"
   },
   "outputs": [],
   "source": [
    "y_pred_SVC = SVCModel(X_train, y_train, X_test)"
   ]
  },
  {
   "cell_type": "code",
   "execution_count": 99,
   "metadata": {
    "colab": {
     "base_uri": "https://localhost:8080/",
     "height": 457
    },
    "id": "aWKbO9l9FNDg",
    "outputId": "80a45120-8ada-4230-e494-c8e0c8a41450"
   },
   "outputs": [
    {
     "name": "stdout",
     "output_type": "stream",
     "text": [
      "Test Result:\n",
      "================================================\n",
      "Accuracy Score: 0.46153846153846156\n",
      "F1 Score: 0.631578947368421\n",
      "Precision: 0.46153846153846156\n",
      "Recall: 1.0\n",
      "\n"
     ]
    },
    {
     "data": {
      "image/png": "[encoded data removed]",
      "text/plain": [
       "<Figure size 360x360 with 2 Axes>"
      ]
     },
     "metadata": {
      "needs_background": "light"
     },
     "output_type": "display_data"
    }
   ],
   "source": [
    "modelPerformace(y_test, y_pred_SVC, 'Support Vector Machine', False)"
   ]
  },
  {
   "cell_type": "markdown",
   "metadata": {
    "id": "pZJS_IysFNDg"
   },
   "source": [
    "**Random Forest Model**"
   ]
  },
  {
   "cell_type": "code",
   "execution_count": 100,
   "metadata": {
    "id": "FdxpT0yhFNDh"
   },
   "outputs": [],
   "source": [
    "y_pred_RandomForest = randomForestModel(X_train, y_train, X_test)"
   ]
  },
  {
   "cell_type": "code",
   "execution_count": 101,
   "metadata": {
    "colab": {
     "base_uri": "https://localhost:8080/",
     "height": 457
    },
    "id": "yn6-8BjZFNDh",
    "outputId": "c5dcf2b8-5e24-4b66-8660-1eaab6526678"
   },
   "outputs": [
    {
     "name": "stdout",
     "output_type": "stream",
     "text": [
      "Test Result:\n",
      "================================================\n",
      "Accuracy Score: 0.8205128205128205\n",
      "F1 Score: 0.8183372183372183\n",
      "Precision: 0.8262820512820513\n",
      "Recall: 0.8205128205128205\n",
      "\n"
     ]
    },
    {
     "data": {
      "image/png": "[encoded data removed]",
      "text/plain": [
       "<Figure size 360x360 with 2 Axes>"
      ]
     },
     "metadata": {
      "needs_background": "light"
     },
     "output_type": "display_data"
    }
   ],
   "source": [
    "modelPerformace(y_test, y_pred_RandomForest, 'Random Forest Classifier', False)"
   ]
  },
  {
   "cell_type": "markdown",
   "metadata": {
    "id": "MGxoOMdCFNDh"
   },
   "source": [
    "**K Nearest Neighbors Model**"
   ]
  },
  {
   "cell_type": "code",
   "execution_count": 102,
   "metadata": {
    "colab": {
     "base_uri": "https://localhost:8080/",
     "height": 625
    },
    "id": "kSQFFsUUFNDi",
    "outputId": "65e244e9-643c-4587-f19d-91a735663d9e"
   },
   "outputs": [
    {
     "data": {
      "image/png": "[encoded data removed]",
      "text/plain": [
       "<Figure size 432x288 with 1 Axes>"
      ]
     },
     "metadata": {
      "needs_background": "light"
     },
     "output_type": "display_data"
    },
    {
     "name": "stdout",
     "output_type": "stream",
     "text": [
      "\n"
     ]
    },
    {
     "data": {
      "image/png": "[encoded data removed]",
      "text/plain": [
       "<Figure size 432x288 with 1 Axes>"
      ]
     },
     "metadata": {
      "needs_background": "light"
     },
     "output_type": "display_data"
    },
    {
     "name": "stdout",
     "output_type": "stream",
     "text": [
      "\n",
      "Error rate lowest for K value is:1\n"
     ]
    }
   ],
   "source": [
    "y_pred_KNeighbors = KNNModel(X_train, y_train, X_test, y_test)"
   ]
  },
  {
   "cell_type": "code",
   "execution_count": 103,
   "metadata": {
    "colab": {
     "base_uri": "https://localhost:8080/",
     "height": 457
    },
    "id": "ARfz-CQDFNDi",
    "outputId": "10dd4df4-e180-453b-d46c-2062a891bcef"
   },
   "outputs": [
    {
     "name": "stdout",
     "output_type": "stream",
     "text": [
      "Test Result:\n",
      "================================================\n",
      "Accuracy Score: 0.8205128205128205\n",
      "F1 Score: 0.8183372183372183\n",
      "Precision: 0.8262820512820513\n",
      "Recall: 0.8205128205128205\n",
      "\n"
     ]
    },
    {
     "data": {
      "image/png": "[encoded data removed]",
      "text/plain": [
       "<Figure size 360x360 with 2 Axes>"
      ]
     },
     "metadata": {
      "needs_background": "light"
     },
     "output_type": "display_data"
    }
   ],
   "source": [
    "modelPerformace(y_test, y_pred_KNeighbors, 'K Nearest Neighbors', False)"
   ]
  },
  {
   "cell_type": "markdown",
   "metadata": {
    "id": "fHoZEu8mFNDi"
   },
   "source": [
    "**Multi-Layer Perceptron Neural Networks Model**"
   ]
  },
  {
   "cell_type": "code",
   "execution_count": 104,
   "metadata": {
    "id": "EvMWUkbFFNDj"
   },
   "outputs": [],
   "source": [
    "NNX = np.array(X)\n",
    "NNy = np.array(y_underSampler)"
   ]
  },
  {
   "cell_type": "code",
   "execution_count": 105,
   "metadata": {
    "id": "_7yWhLNTFNDj"
   },
   "outputs": [],
   "source": [
    "# create X and Y datasets for training\n",
    "from sklearn import model_selection\n",
    "NNX_train, NNX_test, NNy_train, NNy_test = model_selection.train_test_split(NNX, NNy, stratify=NNy, random_state=42, test_size = 0.2)"
   ]
  },
  {
   "cell_type": "code",
   "execution_count": 106,
   "metadata": {
    "colab": {
     "base_uri": "https://localhost:8080/"
    },
    "id": "B4IDNQibFNDj",
    "outputId": "033cdb84-5426-48ae-e3dd-456947f5d757"
   },
   "outputs": [
    {
     "name": "stdout",
     "output_type": "stream",
     "text": [
      "Epoch 1/200\n",
      "16/16 [==============================] - 1s 1ms/step - loss: 1.6897 - accuracy: 0.4967\n",
      "Epoch 2/200\n",
      "16/16 [==============================] - 0s 1ms/step - loss: 0.7673 - accuracy: 0.4510\n",
      "Epoch 3/200\n",
      "16/16 [==============================] - 0s 1ms/step - loss: 0.7127 - accuracy: 0.5490\n",
      "Epoch 4/200\n",
      "16/16 [==============================] - 0s 1ms/step - loss: 0.6704 - accuracy: 0.6144\n",
      "Epoch 5/200\n",
      "16/16 [==============================] - 0s 990us/step - loss: 0.6426 - accuracy: 0.6601\n",
      "Epoch 6/200\n",
      "16/16 [==============================] - 0s 1ms/step - loss: 0.6085 - accuracy: 0.6993\n",
      "Epoch 7/200\n",
      "16/16 [==============================] - 0s 1ms/step - loss: 0.5835 - accuracy: 0.7516\n",
      "Epoch 8/200\n",
      "16/16 [==============================] - 0s 1ms/step - loss: 0.5569 - accuracy: 0.7255\n",
      "Epoch 9/200\n",
      "16/16 [==============================] - 0s 1ms/step - loss: 0.5310 - accuracy: 0.7582\n",
      "Epoch 10/200\n",
      "16/16 [==============================] - 0s 920us/step - loss: 0.5104 - accuracy: 0.7843\n",
      "Epoch 11/200\n",
      "16/16 [==============================] - 0s 1ms/step - loss: 0.4765 - accuracy: 0.8366\n",
      "Epoch 12/200\n",
      "16/16 [==============================] - 0s 1ms/step - loss: 0.4604 - accuracy: 0.8235\n",
      "Epoch 13/200\n",
      "16/16 [==============================] - 0s 2ms/step - loss: 0.4408 - accuracy: 0.8497\n",
      "Epoch 14/200\n",
      "16/16 [==============================] - 0s 1ms/step - loss: 0.4198 - accuracy: 0.8235\n",
      "Epoch 15/200\n",
      "16/16 [==============================] - 0s 1ms/step - loss: 0.4085 - accuracy: 0.8366\n",
      "Epoch 16/200\n",
      "16/16 [==============================] - 0s 1ms/step - loss: 0.3955 - accuracy: 0.8431\n",
      "Epoch 17/200\n",
      "16/16 [==============================] - 0s 1ms/step - loss: 0.3873 - accuracy: 0.8431\n",
      "Epoch 18/200\n",
      "16/16 [==============================] - 0s 1ms/step - loss: 0.3852 - accuracy: 0.8497\n",
      "Epoch 19/200\n",
      "16/16 [==============================] - 0s 1ms/step - loss: 0.3731 - accuracy: 0.8431\n",
      "Epoch 20/200\n",
      "16/16 [==============================] - 0s 911us/step - loss: 0.3644 - accuracy: 0.8431\n",
      "Epoch 21/200\n",
      "16/16 [==============================] - 0s 1ms/step - loss: 0.3681 - accuracy: 0.8301\n",
      "Epoch 22/200\n",
      "16/16 [==============================] - 0s 1ms/step - loss: 0.3548 - accuracy: 0.8627\n",
      "Epoch 23/200\n",
      "16/16 [==============================] - 0s 1ms/step - loss: 0.3541 - accuracy: 0.8301\n",
      "Epoch 24/200\n",
      "16/16 [==============================] - 0s 1ms/step - loss: 0.3544 - accuracy: 0.8758\n",
      "Epoch 25/200\n",
      "16/16 [==============================] - 0s 1ms/step - loss: 0.3467 - accuracy: 0.8235\n",
      "Epoch 26/200\n",
      "16/16 [==============================] - 0s 1ms/step - loss: 0.3388 - accuracy: 0.8627\n",
      "Epoch 27/200\n",
      "16/16 [==============================] - 0s 1ms/step - loss: 0.3382 - accuracy: 0.8235\n",
      "Epoch 28/200\n",
      "16/16 [==============================] - 0s 1ms/step - loss: 0.3267 - accuracy: 0.8562\n",
      "Epoch 29/200\n",
      "16/16 [==============================] - 0s 1ms/step - loss: 0.3284 - accuracy: 0.8562\n",
      "Epoch 30/200\n",
      "16/16 [==============================] - 0s 1ms/step - loss: 0.3296 - accuracy: 0.8235\n",
      "Epoch 31/200\n",
      "16/16 [==============================] - 0s 1ms/step - loss: 0.3221 - accuracy: 0.8562\n",
      "Epoch 32/200\n",
      "16/16 [==============================] - 0s 1ms/step - loss: 0.3121 - accuracy: 0.8562\n",
      "Epoch 33/200\n",
      "16/16 [==============================] - 0s 2ms/step - loss: 0.3145 - accuracy: 0.8497\n",
      "Epoch 34/200\n",
      "16/16 [==============================] - 0s 2ms/step - loss: 0.3162 - accuracy: 0.8431\n",
      "Epoch 35/200\n",
      "16/16 [==============================] - 0s 1ms/step - loss: 0.3114 - accuracy: 0.8562\n",
      "Epoch 36/200\n",
      "16/16 [==============================] - 0s 2ms/step - loss: 0.3205 - accuracy: 0.8366\n",
      "Epoch 37/200\n",
      "16/16 [==============================] - 0s 2ms/step - loss: 0.3111 - accuracy: 0.8431\n",
      "Epoch 38/200\n",
      "16/16 [==============================] - 0s 2ms/step - loss: 0.3002 - accuracy: 0.8497\n",
      "Epoch 39/200\n",
      "16/16 [==============================] - 0s 1ms/step - loss: 0.3014 - accuracy: 0.8431\n",
      "Epoch 40/200\n",
      "16/16 [==============================] - 0s 2ms/step - loss: 0.2991 - accuracy: 0.8497\n",
      "Epoch 41/200\n",
      "16/16 [==============================] - 0s 1ms/step - loss: 0.2940 - accuracy: 0.8562\n",
      "Epoch 42/200\n",
      "16/16 [==============================] - 0s 1ms/step - loss: 0.2917 - accuracy: 0.8562\n",
      "Epoch 43/200\n",
      "16/16 [==============================] - 0s 1ms/step - loss: 0.3036 - accuracy: 0.8562\n",
      "Epoch 44/200\n",
      "16/16 [==============================] - 0s 2ms/step - loss: 0.3106 - accuracy: 0.8170\n",
      "Epoch 45/200\n",
      "16/16 [==============================] - 0s 1ms/step - loss: 0.2871 - accuracy: 0.8758\n",
      "Epoch 46/200\n",
      "16/16 [==============================] - 0s 1ms/step - loss: 0.2849 - accuracy: 0.8627\n",
      "Epoch 47/200\n",
      "16/16 [==============================] - 0s 2ms/step - loss: 0.2848 - accuracy: 0.8693\n",
      "Epoch 48/200\n",
      "16/16 [==============================] - 0s 1ms/step - loss: 0.2910 - accuracy: 0.8497\n",
      "Epoch 49/200\n",
      "16/16 [==============================] - 0s 2ms/step - loss: 0.2766 - accuracy: 0.8693\n",
      "Epoch 50/200\n",
      "16/16 [==============================] - 0s 1ms/step - loss: 0.2951 - accuracy: 0.8562\n",
      "Epoch 51/200\n",
      "16/16 [==============================] - 0s 1ms/step - loss: 0.2839 - accuracy: 0.8562\n",
      "Epoch 52/200\n",
      "16/16 [==============================] - 0s 1ms/step - loss: 0.2793 - accuracy: 0.8693\n",
      "Epoch 53/200\n",
      "16/16 [==============================] - 0s 1ms/step - loss: 0.2893 - accuracy: 0.8562\n",
      "Epoch 54/200\n",
      "16/16 [==============================] - 0s 1ms/step - loss: 0.2775 - accuracy: 0.8693\n",
      "Epoch 55/200\n",
      "16/16 [==============================] - 0s 1ms/step - loss: 0.2724 - accuracy: 0.8693\n",
      "Epoch 56/200\n",
      "16/16 [==============================] - 0s 1ms/step - loss: 0.2658 - accuracy: 0.8758\n",
      "Epoch 57/200\n",
      "16/16 [==============================] - 0s 1ms/step - loss: 0.2670 - accuracy: 0.8758\n",
      "Epoch 58/200\n",
      "16/16 [==============================] - 0s 943us/step - loss: 0.2663 - accuracy: 0.8693\n",
      "Epoch 59/200\n",
      "16/16 [==============================] - 0s 841us/step - loss: 0.2646 - accuracy: 0.8758\n",
      "Epoch 60/200\n",
      "16/16 [==============================] - 0s 966us/step - loss: 0.2643 - accuracy: 0.8693\n",
      "Epoch 61/200\n",
      "16/16 [==============================] - 0s 1ms/step - loss: 0.2615 - accuracy: 0.8758\n",
      "Epoch 62/200\n",
      "16/16 [==============================] - 0s 1000us/step - loss: 0.2594 - accuracy: 0.8758\n",
      "Epoch 63/200\n",
      "16/16 [==============================] - 0s 932us/step - loss: 0.2569 - accuracy: 0.8693\n",
      "Epoch 64/200\n",
      "16/16 [==============================] - 0s 1ms/step - loss: 0.2553 - accuracy: 0.8824\n",
      "Epoch 65/200\n",
      "16/16 [==============================] - 0s 925us/step - loss: 0.2575 - accuracy: 0.8758\n",
      "Epoch 66/200\n",
      "16/16 [==============================] - 0s 891us/step - loss: 0.2519 - accuracy: 0.8693\n",
      "Epoch 67/200\n",
      "16/16 [==============================] - 0s 1ms/step - loss: 0.2493 - accuracy: 0.8824\n",
      "Epoch 68/200\n",
      "16/16 [==============================] - 0s 1ms/step - loss: 0.2501 - accuracy: 0.8824\n",
      "Epoch 69/200\n",
      "16/16 [==============================] - 0s 1ms/step - loss: 0.2520 - accuracy: 0.8693\n",
      "Epoch 70/200\n",
      "16/16 [==============================] - 0s 1ms/step - loss: 0.2505 - accuracy: 0.8758\n",
      "Epoch 71/200\n",
      "16/16 [==============================] - 0s 1ms/step - loss: 0.2492 - accuracy: 0.8824\n",
      "Epoch 72/200\n",
      "16/16 [==============================] - 0s 1ms/step - loss: 0.2484 - accuracy: 0.8824\n",
      "Epoch 73/200\n",
      "16/16 [==============================] - 0s 1ms/step - loss: 0.2441 - accuracy: 0.8758\n",
      "Epoch 74/200\n",
      "16/16 [==============================] - 0s 1ms/step - loss: 0.2446 - accuracy: 0.8758\n",
      "Epoch 75/200\n",
      "16/16 [==============================] - 0s 892us/step - loss: 0.2520 - accuracy: 0.8758\n",
      "Epoch 76/200\n",
      "16/16 [==============================] - 0s 2ms/step - loss: 0.2454 - accuracy: 0.8954\n",
      "Epoch 77/200\n",
      "16/16 [==============================] - 0s 901us/step - loss: 0.2396 - accuracy: 0.8824\n",
      "Epoch 78/200\n",
      "16/16 [==============================] - 0s 1ms/step - loss: 0.2394 - accuracy: 0.8889\n",
      "Epoch 79/200\n",
      "16/16 [==============================] - 0s 939us/step - loss: 0.2365 - accuracy: 0.8889\n",
      "Epoch 80/200\n",
      "16/16 [==============================] - 0s 920us/step - loss: 0.2360 - accuracy: 0.8758\n",
      "Epoch 81/200\n",
      "16/16 [==============================] - 0s 944us/step - loss: 0.2428 - accuracy: 0.8889\n",
      "Epoch 82/200\n"
     ]
    },
    {
     "name": "stdout",
     "output_type": "stream",
     "text": [
      "16/16 [==============================] - 0s 859us/step - loss: 0.2440 - accuracy: 0.8824\n",
      "Epoch 83/200\n",
      "16/16 [==============================] - 0s 869us/step - loss: 0.2361 - accuracy: 0.8758\n",
      "Epoch 84/200\n",
      "16/16 [==============================] - 0s 994us/step - loss: 0.2310 - accuracy: 0.8889\n",
      "Epoch 85/200\n",
      "16/16 [==============================] - 0s 898us/step - loss: 0.2311 - accuracy: 0.8889\n",
      "Epoch 86/200\n",
      "16/16 [==============================] - 0s 1ms/step - loss: 0.2239 - accuracy: 0.9020\n",
      "Epoch 87/200\n",
      "16/16 [==============================] - 0s 1ms/step - loss: 0.2345 - accuracy: 0.8889\n",
      "Epoch 88/200\n",
      "16/16 [==============================] - 0s 994us/step - loss: 0.2411 - accuracy: 0.8693\n",
      "Epoch 89/200\n",
      "16/16 [==============================] - 0s 1ms/step - loss: 0.2279 - accuracy: 0.8758\n",
      "Epoch 90/200\n",
      "16/16 [==============================] - 0s 1ms/step - loss: 0.2198 - accuracy: 0.8954\n",
      "Epoch 91/200\n",
      "16/16 [==============================] - 0s 1ms/step - loss: 0.2224 - accuracy: 0.8824\n",
      "Epoch 92/200\n",
      "16/16 [==============================] - 0s 908us/step - loss: 0.2207 - accuracy: 0.8824\n",
      "Epoch 93/200\n",
      "16/16 [==============================] - 0s 1ms/step - loss: 0.2374 - accuracy: 0.9020\n",
      "Epoch 94/200\n",
      "16/16 [==============================] - 0s 1ms/step - loss: 0.2158 - accuracy: 0.8954\n",
      "Epoch 95/200\n",
      "16/16 [==============================] - 0s 1ms/step - loss: 0.2134 - accuracy: 0.8824\n",
      "Epoch 96/200\n",
      "16/16 [==============================] - 0s 1ms/step - loss: 0.2140 - accuracy: 0.9020\n",
      "Epoch 97/200\n",
      "16/16 [==============================] - 0s 1ms/step - loss: 0.2146 - accuracy: 0.8954\n",
      "Epoch 98/200\n",
      "16/16 [==============================] - 0s 1ms/step - loss: 0.2111 - accuracy: 0.9020\n",
      "Epoch 99/200\n",
      "16/16 [==============================] - 0s 1ms/step - loss: 0.2077 - accuracy: 0.9020\n",
      "Epoch 100/200\n",
      "16/16 [==============================] - 0s 1ms/step - loss: 0.2109 - accuracy: 0.8824\n",
      "Epoch 101/200\n",
      "16/16 [==============================] - 0s 1ms/step - loss: 0.2053 - accuracy: 0.8954\n",
      "Epoch 102/200\n",
      "16/16 [==============================] - 0s 1ms/step - loss: 0.2091 - accuracy: 0.9020\n",
      "Epoch 103/200\n",
      "16/16 [==============================] - 0s 1ms/step - loss: 0.2060 - accuracy: 0.9085\n",
      "Epoch 104/200\n",
      "16/16 [==============================] - 0s 1ms/step - loss: 0.2018 - accuracy: 0.9020\n",
      "Epoch 105/200\n",
      "16/16 [==============================] - 0s 1ms/step - loss: 0.2052 - accuracy: 0.8954\n",
      "Epoch 106/200\n",
      "16/16 [==============================] - 0s 1ms/step - loss: 0.2065 - accuracy: 0.9085\n",
      "Epoch 107/200\n",
      "16/16 [==============================] - 0s 1ms/step - loss: 0.2064 - accuracy: 0.8889\n",
      "Epoch 108/200\n",
      "16/16 [==============================] - 0s 1ms/step - loss: 0.2012 - accuracy: 0.9020\n",
      "Epoch 109/200\n",
      "16/16 [==============================] - 0s 886us/step - loss: 0.2042 - accuracy: 0.8954\n",
      "Epoch 110/200\n",
      "16/16 [==============================] - 0s 915us/step - loss: 0.2024 - accuracy: 0.8954\n",
      "Epoch 111/200\n",
      "16/16 [==============================] - 0s 857us/step - loss: 0.1951 - accuracy: 0.9020\n",
      "Epoch 112/200\n",
      "16/16 [==============================] - 0s 993us/step - loss: 0.1954 - accuracy: 0.9085\n",
      "Epoch 113/200\n",
      "16/16 [==============================] - 0s 1ms/step - loss: 0.2005 - accuracy: 0.8954\n",
      "Epoch 114/200\n",
      "16/16 [==============================] - 0s 1ms/step - loss: 0.1992 - accuracy: 0.9020\n",
      "Epoch 115/200\n",
      "16/16 [==============================] - 0s 1ms/step - loss: 0.2014 - accuracy: 0.8954\n",
      "Epoch 116/200\n",
      "16/16 [==============================] - 0s 883us/step - loss: 0.1953 - accuracy: 0.9020\n",
      "Epoch 117/200\n",
      "16/16 [==============================] - 0s 993us/step - loss: 0.1997 - accuracy: 0.9020\n",
      "Epoch 118/200\n",
      "16/16 [==============================] - 0s 1ms/step - loss: 0.2063 - accuracy: 0.9020\n",
      "Epoch 119/200\n",
      "16/16 [==============================] - 0s 967us/step - loss: 0.1903 - accuracy: 0.8954\n",
      "Epoch 120/200\n",
      "16/16 [==============================] - 0s 993us/step - loss: 0.1891 - accuracy: 0.9085\n",
      "Epoch 121/200\n",
      "16/16 [==============================] - 0s 909us/step - loss: 0.1878 - accuracy: 0.8954\n",
      "Epoch 122/200\n",
      "16/16 [==============================] - 0s 925us/step - loss: 0.1996 - accuracy: 0.8954\n",
      "Epoch 123/200\n",
      "16/16 [==============================] - 0s 928us/step - loss: 0.1899 - accuracy: 0.8954\n",
      "Epoch 124/200\n",
      "16/16 [==============================] - 0s 1ms/step - loss: 0.1945 - accuracy: 0.8954\n",
      "Epoch 125/200\n",
      "16/16 [==============================] - 0s 951us/step - loss: 0.1902 - accuracy: 0.9150\n",
      "Epoch 126/200\n",
      "16/16 [==============================] - 0s 996us/step - loss: 0.1873 - accuracy: 0.9216\n",
      "Epoch 127/200\n",
      "16/16 [==============================] - 0s 1ms/step - loss: 0.1810 - accuracy: 0.8954\n",
      "Epoch 128/200\n",
      "16/16 [==============================] - 0s 1ms/step - loss: 0.1926 - accuracy: 0.9085\n",
      "Epoch 129/200\n",
      "16/16 [==============================] - 0s 794us/step - loss: 0.1800 - accuracy: 0.9020\n",
      "Epoch 130/200\n",
      "16/16 [==============================] - 0s 1ms/step - loss: 0.1900 - accuracy: 0.9085\n",
      "Epoch 131/200\n",
      "16/16 [==============================] - 0s 914us/step - loss: 0.1817 - accuracy: 0.9085\n",
      "Epoch 132/200\n",
      "16/16 [==============================] - 0s 929us/step - loss: 0.1844 - accuracy: 0.8954\n",
      "Epoch 133/200\n",
      "16/16 [==============================] - 0s 958us/step - loss: 0.1803 - accuracy: 0.9020\n",
      "Epoch 134/200\n",
      "16/16 [==============================] - 0s 1ms/step - loss: 0.1949 - accuracy: 0.9085\n",
      "Epoch 135/200\n",
      "16/16 [==============================] - 0s 905us/step - loss: 0.1821 - accuracy: 0.9020\n",
      "Epoch 136/200\n",
      "16/16 [==============================] - 0s 1ms/step - loss: 0.1795 - accuracy: 0.9281\n",
      "Epoch 137/200\n",
      "16/16 [==============================] - 0s 1ms/step - loss: 0.1797 - accuracy: 0.9085\n",
      "Epoch 138/200\n",
      "16/16 [==============================] - 0s 1ms/step - loss: 0.1694 - accuracy: 0.9216\n",
      "Epoch 139/200\n",
      "16/16 [==============================] - 0s 1ms/step - loss: 0.1699 - accuracy: 0.9085\n",
      "Epoch 140/200\n",
      "16/16 [==============================] - 0s 840us/step - loss: 0.1677 - accuracy: 0.9150\n",
      "Epoch 141/200\n",
      "16/16 [==============================] - 0s 946us/step - loss: 0.1721 - accuracy: 0.9150\n",
      "Epoch 142/200\n",
      "16/16 [==============================] - 0s 841us/step - loss: 0.1713 - accuracy: 0.9085\n",
      "Epoch 143/200\n",
      "16/16 [==============================] - 0s 912us/step - loss: 0.1642 - accuracy: 0.9020\n",
      "Epoch 144/200\n",
      "16/16 [==============================] - 0s 939us/step - loss: 0.1697 - accuracy: 0.9020\n",
      "Epoch 145/200\n",
      "16/16 [==============================] - 0s 423us/step - loss: 0.1680 - accuracy: 0.9216\n",
      "Epoch 146/200\n",
      "16/16 [==============================] - 0s 1ms/step - loss: 0.1720 - accuracy: 0.9020\n",
      "Epoch 147/200\n",
      "16/16 [==============================] - 0s 1ms/step - loss: 0.1609 - accuracy: 0.9150\n",
      "Epoch 148/200\n",
      "16/16 [==============================] - 0s 1ms/step - loss: 0.1593 - accuracy: 0.9150\n",
      "Epoch 149/200\n",
      "16/16 [==============================] - 0s 868us/step - loss: 0.1601 - accuracy: 0.9150\n",
      "Epoch 150/200\n",
      "16/16 [==============================] - 0s 922us/step - loss: 0.1661 - accuracy: 0.9281\n",
      "Epoch 151/200\n",
      "16/16 [==============================] - 0s 813us/step - loss: 0.1599 - accuracy: 0.9150\n",
      "Epoch 152/200\n",
      "16/16 [==============================] - 0s 922us/step - loss: 0.1609 - accuracy: 0.9346\n",
      "Epoch 153/200\n",
      "16/16 [==============================] - 0s 850us/step - loss: 0.1655 - accuracy: 0.9150\n",
      "Epoch 154/200\n",
      "16/16 [==============================] - 0s 1ms/step - loss: 0.1563 - accuracy: 0.9085\n",
      "Epoch 155/200\n",
      "16/16 [==============================] - 0s 889us/step - loss: 0.1590 - accuracy: 0.9412\n",
      "Epoch 156/200\n",
      "16/16 [==============================] - 0s 850us/step - loss: 0.1556 - accuracy: 0.9150\n",
      "Epoch 157/200\n",
      "16/16 [==============================] - 0s 1ms/step - loss: 0.1528 - accuracy: 0.9150\n",
      "Epoch 158/200\n",
      "16/16 [==============================] - 0s 844us/step - loss: 0.1603 - accuracy: 0.9216\n",
      "Epoch 159/200\n",
      "16/16 [==============================] - 0s 2ms/step - loss: 0.1569 - accuracy: 0.9412\n",
      "Epoch 160/200\n",
      "16/16 [==============================] - 0s 924us/step - loss: 0.1524 - accuracy: 0.9085\n",
      "Epoch 161/200\n",
      "16/16 [==============================] - 0s 932us/step - loss: 0.1521 - accuracy: 0.9150\n",
      "Epoch 162/200\n"
     ]
    },
    {
     "name": "stdout",
     "output_type": "stream",
     "text": [
      "16/16 [==============================] - 0s 723us/step - loss: 0.1548 - accuracy: 0.9216\n",
      "Epoch 163/200\n",
      "16/16 [==============================] - 0s 916us/step - loss: 0.1561 - accuracy: 0.9216\n",
      "Epoch 164/200\n",
      "16/16 [==============================] - 0s 841us/step - loss: 0.1507 - accuracy: 0.9150\n",
      "Epoch 165/200\n",
      "16/16 [==============================] - 0s 929us/step - loss: 0.1553 - accuracy: 0.9281\n",
      "Epoch 166/200\n",
      "16/16 [==============================] - 0s 991us/step - loss: 0.1479 - accuracy: 0.9150\n",
      "Epoch 167/200\n",
      "16/16 [==============================] - 0s 949us/step - loss: 0.1475 - accuracy: 0.9216\n",
      "Epoch 168/200\n",
      "16/16 [==============================] - 0s 1ms/step - loss: 0.1500 - accuracy: 0.9346\n",
      "Epoch 169/200\n",
      "16/16 [==============================] - 0s 890us/step - loss: 0.1567 - accuracy: 0.9281\n",
      "Epoch 170/200\n",
      "16/16 [==============================] - 0s 1ms/step - loss: 0.1482 - accuracy: 0.9216\n",
      "Epoch 171/200\n",
      "16/16 [==============================] - 0s 1ms/step - loss: 0.1570 - accuracy: 0.9150\n",
      "Epoch 172/200\n",
      "16/16 [==============================] - 0s 956us/step - loss: 0.1772 - accuracy: 0.9150\n",
      "Epoch 173/200\n",
      "16/16 [==============================] - 0s 1ms/step - loss: 0.3533 - accuracy: 0.9085\n",
      "Epoch 174/200\n",
      "16/16 [==============================] - 0s 1ms/step - loss: 0.1917 - accuracy: 0.9150\n",
      "Epoch 175/200\n",
      "16/16 [==============================] - 0s 1ms/step - loss: 0.2074 - accuracy: 0.9020\n",
      "Epoch 176/200\n",
      "16/16 [==============================] - 0s 1ms/step - loss: 0.1695 - accuracy: 0.9150\n",
      "Epoch 177/200\n",
      "16/16 [==============================] - 0s 1ms/step - loss: 0.1579 - accuracy: 0.9216\n",
      "Epoch 178/200\n",
      "16/16 [==============================] - 0s 1ms/step - loss: 0.1512 - accuracy: 0.9216\n",
      "Epoch 179/200\n",
      "16/16 [==============================] - 0s 1ms/step - loss: 0.1438 - accuracy: 0.9216\n",
      "Epoch 180/200\n",
      "16/16 [==============================] - 0s 1ms/step - loss: 0.1395 - accuracy: 0.9281\n",
      "Epoch 181/200\n",
      "16/16 [==============================] - 0s 1ms/step - loss: 0.1399 - accuracy: 0.9085\n",
      "Epoch 182/200\n",
      "16/16 [==============================] - 0s 1ms/step - loss: 0.1356 - accuracy: 0.9412\n",
      "Epoch 183/200\n",
      "16/16 [==============================] - 0s 1ms/step - loss: 0.1433 - accuracy: 0.9150\n",
      "Epoch 184/200\n",
      "16/16 [==============================] - 0s 930us/step - loss: 0.1394 - accuracy: 0.9412\n",
      "Epoch 185/200\n",
      "16/16 [==============================] - 0s 1ms/step - loss: 0.1440 - accuracy: 0.9412\n",
      "Epoch 186/200\n",
      "16/16 [==============================] - 0s 889us/step - loss: 0.1333 - accuracy: 0.9281\n",
      "Epoch 187/200\n",
      "16/16 [==============================] - 0s 1ms/step - loss: 0.1297 - accuracy: 0.9346\n",
      "Epoch 188/200\n",
      "16/16 [==============================] - 0s 1ms/step - loss: 0.1423 - accuracy: 0.9281\n",
      "Epoch 189/200\n",
      "16/16 [==============================] - 0s 1ms/step - loss: 0.1312 - accuracy: 0.9150\n",
      "Epoch 190/200\n",
      "16/16 [==============================] - 0s 1ms/step - loss: 0.1290 - accuracy: 0.9477\n",
      "Epoch 191/200\n",
      "16/16 [==============================] - 0s 1ms/step - loss: 0.1292 - accuracy: 0.9281\n",
      "Epoch 192/200\n",
      "16/16 [==============================] - 0s 1ms/step - loss: 0.1322 - accuracy: 0.9085\n",
      "Epoch 193/200\n",
      "16/16 [==============================] - 0s 1ms/step - loss: 0.1270 - accuracy: 0.9346\n",
      "Epoch 194/200\n",
      "16/16 [==============================] - 0s 1ms/step - loss: 0.1282 - accuracy: 0.9281\n",
      "Epoch 195/200\n",
      "16/16 [==============================] - 0s 995us/step - loss: 0.1247 - accuracy: 0.9412\n",
      "Epoch 196/200\n",
      "16/16 [==============================] - 0s 971us/step - loss: 0.1298 - accuracy: 0.9281\n",
      "Epoch 197/200\n",
      "16/16 [==============================] - 0s 833us/step - loss: 0.1403 - accuracy: 0.9216\n",
      "Epoch 198/200\n",
      "16/16 [==============================] - 0s 1ms/step - loss: 0.1244 - accuracy: 0.9477\n",
      "Epoch 199/200\n",
      "16/16 [==============================] - 0s 1ms/step - loss: 0.1252 - accuracy: 0.9150\n",
      "Epoch 200/200\n",
      "16/16 [==============================] - 0s 2ms/step - loss: 0.1248 - accuracy: 0.9346\n",
      "2/2 [==============================] - 0s 0s/step\n"
     ]
    }
   ],
   "source": [
    "nn_pred = NNModel(NNX_train, NNy_train, NNX_test, 10)"
   ]
  },
  {
   "cell_type": "code",
   "execution_count": 107,
   "metadata": {
    "colab": {
     "base_uri": "https://localhost:8080/",
     "height": 457
    },
    "id": "m14-2-0eFNDk",
    "outputId": "bfc4217e-1595-4d3a-cd91-66074e81e2c9"
   },
   "outputs": [
    {
     "name": "stdout",
     "output_type": "stream",
     "text": [
      "Test Result:\n",
      "================================================\n",
      "Accuracy Score: 0.5128205128205128\n",
      "F1 Score: 0.6779661016949152\n",
      "Precision: 0.5128205128205128\n",
      "Recall: 1.0\n",
      "\n"
     ]
    },
    {
     "data": {
      "image/png": "[encoded data removed]",
      "text/plain": [
       "<Figure size 360x360 with 2 Axes>"
      ]
     },
     "metadata": {
      "needs_background": "light"
     },
     "output_type": "display_data"
    }
   ],
   "source": [
    "modelPerformace(NNy_test, nn_pred, 'Neutral Network Model', False)"
   ]
  },
  {
   "cell_type": "code",
   "execution_count": 108,
   "metadata": {
    "colab": {
     "base_uri": "https://localhost:8080/",
     "height": 237
    },
    "id": "PO7uuyVuW6Tu",
    "outputId": "885b5904-2694-4e2e-84af-57addc58a19e"
   },
   "outputs": [
    {
     "data": {
      "text/html": [
       "<div>\n",
       "<style scoped>\n",
       "    .dataframe tbody tr th:only-of-type {\n",
       "        vertical-align: middle;\n",
       "    }\n",
       "\n",
       "    .dataframe tbody tr th {\n",
       "        vertical-align: top;\n",
       "    }\n",
       "\n",
       "    .dataframe thead th {\n",
       "        text-align: right;\n",
       "    }\n",
       "</style>\n",
       "<table border=\"1\" class=\"dataframe\">\n",
       "  <thead>\n",
       "    <tr style=\"text-align: right;\">\n",
       "      <th></th>\n",
       "      <th>Model</th>\n",
       "      <th>Accuracy</th>\n",
       "      <th>F1_Score</th>\n",
       "      <th>Precision</th>\n",
       "      <th>Recall</th>\n",
       "    </tr>\n",
       "  </thead>\n",
       "  <tbody>\n",
       "    <tr>\n",
       "      <th>0</th>\n",
       "      <td>Naive Bayes</td>\n",
       "      <td>0.769231</td>\n",
       "      <td>0.767710</td>\n",
       "      <td>0.792224</td>\n",
       "      <td>0.769231</td>\n",
       "    </tr>\n",
       "    <tr>\n",
       "      <th>1</th>\n",
       "      <td>Logistic Regression</td>\n",
       "      <td>0.820513</td>\n",
       "      <td>0.815585</td>\n",
       "      <td>0.840237</td>\n",
       "      <td>0.820513</td>\n",
       "    </tr>\n",
       "    <tr>\n",
       "      <th>2</th>\n",
       "      <td>Support Vector Machine</td>\n",
       "      <td>0.461538</td>\n",
       "      <td>0.631579</td>\n",
       "      <td>0.461538</td>\n",
       "      <td>1.000000</td>\n",
       "    </tr>\n",
       "    <tr>\n",
       "      <th>3</th>\n",
       "      <td>Random Forest Classifier</td>\n",
       "      <td>0.820513</td>\n",
       "      <td>0.818337</td>\n",
       "      <td>0.826282</td>\n",
       "      <td>0.820513</td>\n",
       "    </tr>\n",
       "    <tr>\n",
       "      <th>4</th>\n",
       "      <td>K Nearest Neighbors</td>\n",
       "      <td>0.820513</td>\n",
       "      <td>0.818337</td>\n",
       "      <td>0.826282</td>\n",
       "      <td>0.820513</td>\n",
       "    </tr>\n",
       "    <tr>\n",
       "      <th>5</th>\n",
       "      <td>Neutral Network Model</td>\n",
       "      <td>0.512821</td>\n",
       "      <td>0.677966</td>\n",
       "      <td>0.512821</td>\n",
       "      <td>1.000000</td>\n",
       "    </tr>\n",
       "  </tbody>\n",
       "</table>\n",
       "</div>"
      ],
      "text/plain": [
       "                      Model  Accuracy  F1_Score  Precision    Recall\n",
       "0               Naive Bayes  0.769231  0.767710   0.792224  0.769231\n",
       "1       Logistic Regression  0.820513  0.815585   0.840237  0.820513\n",
       "2    Support Vector Machine  0.461538  0.631579   0.461538  1.000000\n",
       "3  Random Forest Classifier  0.820513  0.818337   0.826282  0.820513\n",
       "4       K Nearest Neighbors  0.820513  0.818337   0.826282  0.820513\n",
       "5     Neutral Network Model  0.512821  0.677966   0.512821  1.000000"
      ]
     },
     "execution_count": 108,
     "metadata": {},
     "output_type": "execute_result"
    }
   ],
   "source": [
    "results_classication_df"
   ]
  },
  {
   "cell_type": "code",
   "execution_count": null,
   "metadata": {},
   "outputs": [],
   "source": []
  }
 ],
 "metadata": {
  "colab": {
   "collapsed_sections": [
    "C1bDEuj1ghy8"
   ],
   "provenance": []
  },
  "kernelspec": {
   "display_name": "Python 3 (ipykernel)",
   "language": "python",
   "name": "python3"
  },
  "language_info": {
   "codemirror_mode": {
    "name": "ipython",
    "version": 3
   },
   "file_extension": ".py",
   "mimetype": "text/x-python",
   "name": "python",
   "nbconvert_exporter": "python",
   "pygments_lexer": "ipython3",
   "version": "3.9.12"
  }
 },
 "nbformat": 4,
 "nbformat_minor": 1
}
